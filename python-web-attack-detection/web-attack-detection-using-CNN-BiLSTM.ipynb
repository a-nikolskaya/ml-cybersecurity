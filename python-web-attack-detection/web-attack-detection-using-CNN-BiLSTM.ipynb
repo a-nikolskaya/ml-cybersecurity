{
 "cells": [
  {
   "cell_type": "markdown",
   "id": "9af1aa3b",
   "metadata": {},
   "source": [
    "# Web attack detection using CNN-BiLSTM neural network and CICIDS2017 dataset"
   ]
  },
  {
   "cell_type": "markdown",
   "id": "196e15c7",
   "metadata": {},
   "source": [
    "In this notebook we implement web attack detection using CNN-BiLSTM neural network and CICIDS2017 dataset, and compare this neural network performance to our previously developed Random Forest model (https://github.com/fisher85/ml-cybersecurity/blob/master/python-web-attack-detection/web-attack-detection.ipynb).\n",
    "\n",
    "Training data: https://github.com/fisher85/ml-cybersecurity/blob/master/python-web-attack-detection/datasets/web_attacks_balanced.zip\n",
    "\n",
    "Training dataset is the balanced dataset based on CICIDS2017: https://www.unb.ca/cic/datasets/ids-2017.html\n",
    "    \n",
    "Sources:\n",
    "- https://paperswithcode.com/paper/efficient-deep-cnn-bilstm-model-for-network\n",
    "- Jay Sinha and M. Manollas. 2020. Efficient Deep CNN-BiLSTM Model for Network Intrusion Detection. In Proceedings of the 2020 3rd International Conference on Artificial Intelligence and Pattern Recognition (AIPR 2020). Association for Computing Machinery, New York, NY, USA, 223–231. DOI:https://doi.org/10.1145/3430199.3430224.\n",
    "- https://github.com/razor08/Efficient-CNN-BiLSTM-for-Network-IDS/blob/master/NSL_KDD_Final.ipynb\n",
    "    "
   ]
  },
  {
   "cell_type": "markdown",
   "id": "5feb64ef",
   "metadata": {},
   "source": [
    "## Data preprocessing"
   ]
  },
  {
   "cell_type": "code",
   "execution_count": 1,
   "id": "e52a8e96",
   "metadata": {
    "scrolled": false
   },
   "outputs": [],
   "source": [
    "from itertools import cycle\n",
    "import pickle\n",
    "import sys\n",
    "import time\n",
    "from typing import List, Tuple\n",
    "\n",
    "import matplotlib.pyplot as plt\n",
    "import numpy as np\n",
    "import pandas as pd\n",
    "from sklearn import metrics\n",
    "from sklearn.model_selection import StratifiedKFold\n",
    "from sklearn.model_selection import train_test_split\n",
    "import sklearn.preprocessing\n",
    "import tensorflow as tf\n",
    "import tensorflow.keras\n",
    "from tensorflow.keras.layers import Dense, Dropout, Activation\n",
    "from tensorflow.keras.layers import LSTM, Bidirectional, BatchNormalization, Convolution1D, MaxPooling1D, Reshape\n",
    "from tensorflow.keras.models import Sequential\n",
    "\n",
    "%matplotlib inline"
   ]
  },
  {
   "cell_type": "markdown",
   "id": "043d673a",
   "metadata": {},
   "source": [
    "Download the dataset from Github to Google Colab and unzip it."
   ]
  },
  {
   "cell_type": "code",
   "execution_count": null,
   "id": "d9a034c2",
   "metadata": {},
   "outputs": [],
   "source": [
    "!wget https://github.com/fisher85/ml-cybersecurity/blob/master/python-web-attack-detection/datasets/web_attacks_balanced.zip?raw=true -O dataset.zip\n",
    "!unzip -u dataset.zip"
   ]
  },
  {
   "cell_type": "markdown",
   "id": "3ab1e404",
   "metadata": {},
   "source": [
    "Load our dataset and separate it into feature vectors and labels. As explained in the previous work, 7 features (Flow ID, Source IP, Source Port, Destination IP, Destination Port, Protocol, Timestamp) are excluded from the dataset (see https://github.com/fisher85/ml-cybersecurity/blob/master/python-web-attack-detection/web-attack-detection.ipynb)."
   ]
  },
  {
   "cell_type": "code",
   "execution_count": 2,
   "id": "78746733",
   "metadata": {},
   "outputs": [],
   "source": [
    "data = pd.read_csv('web_attacks_balanced.csv', delimiter=',')\n",
    "\n",
    "y = data['Label']\n",
    "X = data.drop(labels=['Label', 'Flow ID', 'Source IP', 'Source Port', 'Destination IP', 'Destination Port', 'Protocol', 'Timestamp'], axis=1)"
   ]
  },
  {
   "cell_type": "markdown",
   "id": "2855d909",
   "metadata": {},
   "source": [
    "### Preparing feature vectors for training"
   ]
  },
  {
   "cell_type": "markdown",
   "id": "7b7e8941",
   "metadata": {},
   "source": [
    "First, we need to inspect feature vectors."
   ]
  },
  {
   "cell_type": "code",
   "execution_count": 3,
   "id": "c7483bc8",
   "metadata": {},
   "outputs": [
    {
     "data": {
      "text/html": [
       "<div>\n",
       "<style scoped>\n",
       "    .dataframe tbody tr th:only-of-type {\n",
       "        vertical-align: middle;\n",
       "    }\n",
       "\n",
       "    .dataframe tbody tr th {\n",
       "        vertical-align: top;\n",
       "    }\n",
       "\n",
       "    .dataframe thead th {\n",
       "        text-align: right;\n",
       "    }\n",
       "</style>\n",
       "<table border=\"1\" class=\"dataframe\">\n",
       "  <thead>\n",
       "    <tr style=\"text-align: right;\">\n",
       "      <th></th>\n",
       "      <th>Flow Duration</th>\n",
       "      <th>Total Fwd Packets</th>\n",
       "      <th>Total Backward Packets</th>\n",
       "      <th>Total Length of Fwd Packets</th>\n",
       "      <th>Total Length of Bwd Packets</th>\n",
       "      <th>Fwd Packet Length Max</th>\n",
       "      <th>Fwd Packet Length Min</th>\n",
       "      <th>Fwd Packet Length Mean</th>\n",
       "      <th>Fwd Packet Length Std</th>\n",
       "      <th>Bwd Packet Length Max</th>\n",
       "      <th>...</th>\n",
       "      <th>act_data_pkt_fwd</th>\n",
       "      <th>min_seg_size_forward</th>\n",
       "      <th>Active Mean</th>\n",
       "      <th>Active Std</th>\n",
       "      <th>Active Max</th>\n",
       "      <th>Active Min</th>\n",
       "      <th>Idle Mean</th>\n",
       "      <th>Idle Std</th>\n",
       "      <th>Idle Max</th>\n",
       "      <th>Idle Min</th>\n",
       "    </tr>\n",
       "  </thead>\n",
       "  <tbody>\n",
       "    <tr>\n",
       "      <th>0</th>\n",
       "      <td>204.0</td>\n",
       "      <td>2.0</td>\n",
       "      <td>2.0</td>\n",
       "      <td>88.0</td>\n",
       "      <td>188.0</td>\n",
       "      <td>44.0</td>\n",
       "      <td>44.0</td>\n",
       "      <td>44.0</td>\n",
       "      <td>0.0</td>\n",
       "      <td>94.0</td>\n",
       "      <td>...</td>\n",
       "      <td>1.0</td>\n",
       "      <td>32.0</td>\n",
       "      <td>0.0</td>\n",
       "      <td>0.0</td>\n",
       "      <td>0.0</td>\n",
       "      <td>0.0</td>\n",
       "      <td>0.0</td>\n",
       "      <td>0.0</td>\n",
       "      <td>0.0</td>\n",
       "      <td>0.0</td>\n",
       "    </tr>\n",
       "    <tr>\n",
       "      <th>1</th>\n",
       "      <td>209.0</td>\n",
       "      <td>2.0</td>\n",
       "      <td>2.0</td>\n",
       "      <td>102.0</td>\n",
       "      <td>224.0</td>\n",
       "      <td>51.0</td>\n",
       "      <td>51.0</td>\n",
       "      <td>51.0</td>\n",
       "      <td>0.0</td>\n",
       "      <td>112.0</td>\n",
       "      <td>...</td>\n",
       "      <td>1.0</td>\n",
       "      <td>32.0</td>\n",
       "      <td>0.0</td>\n",
       "      <td>0.0</td>\n",
       "      <td>0.0</td>\n",
       "      <td>0.0</td>\n",
       "      <td>0.0</td>\n",
       "      <td>0.0</td>\n",
       "      <td>0.0</td>\n",
       "      <td>0.0</td>\n",
       "    </tr>\n",
       "    <tr>\n",
       "      <th>2</th>\n",
       "      <td>23891.0</td>\n",
       "      <td>2.0</td>\n",
       "      <td>2.0</td>\n",
       "      <td>78.0</td>\n",
       "      <td>188.0</td>\n",
       "      <td>39.0</td>\n",
       "      <td>39.0</td>\n",
       "      <td>39.0</td>\n",
       "      <td>0.0</td>\n",
       "      <td>94.0</td>\n",
       "      <td>...</td>\n",
       "      <td>1.0</td>\n",
       "      <td>32.0</td>\n",
       "      <td>0.0</td>\n",
       "      <td>0.0</td>\n",
       "      <td>0.0</td>\n",
       "      <td>0.0</td>\n",
       "      <td>0.0</td>\n",
       "      <td>0.0</td>\n",
       "      <td>0.0</td>\n",
       "      <td>0.0</td>\n",
       "    </tr>\n",
       "    <tr>\n",
       "      <th>3</th>\n",
       "      <td>205.0</td>\n",
       "      <td>2.0</td>\n",
       "      <td>2.0</td>\n",
       "      <td>80.0</td>\n",
       "      <td>180.0</td>\n",
       "      <td>40.0</td>\n",
       "      <td>40.0</td>\n",
       "      <td>40.0</td>\n",
       "      <td>0.0</td>\n",
       "      <td>90.0</td>\n",
       "      <td>...</td>\n",
       "      <td>1.0</td>\n",
       "      <td>32.0</td>\n",
       "      <td>0.0</td>\n",
       "      <td>0.0</td>\n",
       "      <td>0.0</td>\n",
       "      <td>0.0</td>\n",
       "      <td>0.0</td>\n",
       "      <td>0.0</td>\n",
       "      <td>0.0</td>\n",
       "      <td>0.0</td>\n",
       "    </tr>\n",
       "    <tr>\n",
       "      <th>4</th>\n",
       "      <td>155.0</td>\n",
       "      <td>2.0</td>\n",
       "      <td>2.0</td>\n",
       "      <td>88.0</td>\n",
       "      <td>188.0</td>\n",
       "      <td>44.0</td>\n",
       "      <td>44.0</td>\n",
       "      <td>44.0</td>\n",
       "      <td>0.0</td>\n",
       "      <td>94.0</td>\n",
       "      <td>...</td>\n",
       "      <td>1.0</td>\n",
       "      <td>32.0</td>\n",
       "      <td>0.0</td>\n",
       "      <td>0.0</td>\n",
       "      <td>0.0</td>\n",
       "      <td>0.0</td>\n",
       "      <td>0.0</td>\n",
       "      <td>0.0</td>\n",
       "      <td>0.0</td>\n",
       "      <td>0.0</td>\n",
       "    </tr>\n",
       "    <tr>\n",
       "      <th>...</th>\n",
       "      <td>...</td>\n",
       "      <td>...</td>\n",
       "      <td>...</td>\n",
       "      <td>...</td>\n",
       "      <td>...</td>\n",
       "      <td>...</td>\n",
       "      <td>...</td>\n",
       "      <td>...</td>\n",
       "      <td>...</td>\n",
       "      <td>...</td>\n",
       "      <td>...</td>\n",
       "      <td>...</td>\n",
       "      <td>...</td>\n",
       "      <td>...</td>\n",
       "      <td>...</td>\n",
       "      <td>...</td>\n",
       "      <td>...</td>\n",
       "      <td>...</td>\n",
       "      <td>...</td>\n",
       "      <td>...</td>\n",
       "      <td>...</td>\n",
       "    </tr>\n",
       "    <tr>\n",
       "      <th>7262</th>\n",
       "      <td>56.0</td>\n",
       "      <td>1.0</td>\n",
       "      <td>1.0</td>\n",
       "      <td>6.0</td>\n",
       "      <td>6.0</td>\n",
       "      <td>6.0</td>\n",
       "      <td>6.0</td>\n",
       "      <td>6.0</td>\n",
       "      <td>0.0</td>\n",
       "      <td>6.0</td>\n",
       "      <td>...</td>\n",
       "      <td>0.0</td>\n",
       "      <td>20.0</td>\n",
       "      <td>0.0</td>\n",
       "      <td>0.0</td>\n",
       "      <td>0.0</td>\n",
       "      <td>0.0</td>\n",
       "      <td>0.0</td>\n",
       "      <td>0.0</td>\n",
       "      <td>0.0</td>\n",
       "      <td>0.0</td>\n",
       "    </tr>\n",
       "    <tr>\n",
       "      <th>7263</th>\n",
       "      <td>59.0</td>\n",
       "      <td>1.0</td>\n",
       "      <td>1.0</td>\n",
       "      <td>6.0</td>\n",
       "      <td>6.0</td>\n",
       "      <td>6.0</td>\n",
       "      <td>6.0</td>\n",
       "      <td>6.0</td>\n",
       "      <td>0.0</td>\n",
       "      <td>6.0</td>\n",
       "      <td>...</td>\n",
       "      <td>0.0</td>\n",
       "      <td>20.0</td>\n",
       "      <td>0.0</td>\n",
       "      <td>0.0</td>\n",
       "      <td>0.0</td>\n",
       "      <td>0.0</td>\n",
       "      <td>0.0</td>\n",
       "      <td>0.0</td>\n",
       "      <td>0.0</td>\n",
       "      <td>0.0</td>\n",
       "    </tr>\n",
       "    <tr>\n",
       "      <th>7264</th>\n",
       "      <td>84.0</td>\n",
       "      <td>1.0</td>\n",
       "      <td>1.0</td>\n",
       "      <td>0.0</td>\n",
       "      <td>0.0</td>\n",
       "      <td>0.0</td>\n",
       "      <td>0.0</td>\n",
       "      <td>0.0</td>\n",
       "      <td>0.0</td>\n",
       "      <td>0.0</td>\n",
       "      <td>...</td>\n",
       "      <td>0.0</td>\n",
       "      <td>32.0</td>\n",
       "      <td>0.0</td>\n",
       "      <td>0.0</td>\n",
       "      <td>0.0</td>\n",
       "      <td>0.0</td>\n",
       "      <td>0.0</td>\n",
       "      <td>0.0</td>\n",
       "      <td>0.0</td>\n",
       "      <td>0.0</td>\n",
       "    </tr>\n",
       "    <tr>\n",
       "      <th>7265</th>\n",
       "      <td>86.0</td>\n",
       "      <td>1.0</td>\n",
       "      <td>1.0</td>\n",
       "      <td>6.0</td>\n",
       "      <td>6.0</td>\n",
       "      <td>6.0</td>\n",
       "      <td>6.0</td>\n",
       "      <td>6.0</td>\n",
       "      <td>0.0</td>\n",
       "      <td>6.0</td>\n",
       "      <td>...</td>\n",
       "      <td>0.0</td>\n",
       "      <td>20.0</td>\n",
       "      <td>0.0</td>\n",
       "      <td>0.0</td>\n",
       "      <td>0.0</td>\n",
       "      <td>0.0</td>\n",
       "      <td>0.0</td>\n",
       "      <td>0.0</td>\n",
       "      <td>0.0</td>\n",
       "      <td>0.0</td>\n",
       "    </tr>\n",
       "    <tr>\n",
       "      <th>7266</th>\n",
       "      <td>41.0</td>\n",
       "      <td>1.0</td>\n",
       "      <td>3.0</td>\n",
       "      <td>6.0</td>\n",
       "      <td>18.0</td>\n",
       "      <td>6.0</td>\n",
       "      <td>6.0</td>\n",
       "      <td>6.0</td>\n",
       "      <td>0.0</td>\n",
       "      <td>6.0</td>\n",
       "      <td>...</td>\n",
       "      <td>0.0</td>\n",
       "      <td>20.0</td>\n",
       "      <td>0.0</td>\n",
       "      <td>0.0</td>\n",
       "      <td>0.0</td>\n",
       "      <td>0.0</td>\n",
       "      <td>0.0</td>\n",
       "      <td>0.0</td>\n",
       "      <td>0.0</td>\n",
       "      <td>0.0</td>\n",
       "    </tr>\n",
       "  </tbody>\n",
       "</table>\n",
       "<p>7267 rows × 76 columns</p>\n",
       "</div>"
      ],
      "text/plain": [
       "      Flow Duration  Total Fwd Packets  Total Backward Packets  \\\n",
       "0             204.0                2.0                     2.0   \n",
       "1             209.0                2.0                     2.0   \n",
       "2           23891.0                2.0                     2.0   \n",
       "3             205.0                2.0                     2.0   \n",
       "4             155.0                2.0                     2.0   \n",
       "...             ...                ...                     ...   \n",
       "7262           56.0                1.0                     1.0   \n",
       "7263           59.0                1.0                     1.0   \n",
       "7264           84.0                1.0                     1.0   \n",
       "7265           86.0                1.0                     1.0   \n",
       "7266           41.0                1.0                     3.0   \n",
       "\n",
       "      Total Length of Fwd Packets  Total Length of Bwd Packets  \\\n",
       "0                            88.0                        188.0   \n",
       "1                           102.0                        224.0   \n",
       "2                            78.0                        188.0   \n",
       "3                            80.0                        180.0   \n",
       "4                            88.0                        188.0   \n",
       "...                           ...                          ...   \n",
       "7262                          6.0                          6.0   \n",
       "7263                          6.0                          6.0   \n",
       "7264                          0.0                          0.0   \n",
       "7265                          6.0                          6.0   \n",
       "7266                          6.0                         18.0   \n",
       "\n",
       "      Fwd Packet Length Max  Fwd Packet Length Min  Fwd Packet Length Mean  \\\n",
       "0                      44.0                   44.0                    44.0   \n",
       "1                      51.0                   51.0                    51.0   \n",
       "2                      39.0                   39.0                    39.0   \n",
       "3                      40.0                   40.0                    40.0   \n",
       "4                      44.0                   44.0                    44.0   \n",
       "...                     ...                    ...                     ...   \n",
       "7262                    6.0                    6.0                     6.0   \n",
       "7263                    6.0                    6.0                     6.0   \n",
       "7264                    0.0                    0.0                     0.0   \n",
       "7265                    6.0                    6.0                     6.0   \n",
       "7266                    6.0                    6.0                     6.0   \n",
       "\n",
       "      Fwd Packet Length Std  Bwd Packet Length Max  ...  act_data_pkt_fwd  \\\n",
       "0                       0.0                   94.0  ...               1.0   \n",
       "1                       0.0                  112.0  ...               1.0   \n",
       "2                       0.0                   94.0  ...               1.0   \n",
       "3                       0.0                   90.0  ...               1.0   \n",
       "4                       0.0                   94.0  ...               1.0   \n",
       "...                     ...                    ...  ...               ...   \n",
       "7262                    0.0                    6.0  ...               0.0   \n",
       "7263                    0.0                    6.0  ...               0.0   \n",
       "7264                    0.0                    0.0  ...               0.0   \n",
       "7265                    0.0                    6.0  ...               0.0   \n",
       "7266                    0.0                    6.0  ...               0.0   \n",
       "\n",
       "      min_seg_size_forward  Active Mean  Active Std  Active Max  Active Min  \\\n",
       "0                     32.0          0.0         0.0         0.0         0.0   \n",
       "1                     32.0          0.0         0.0         0.0         0.0   \n",
       "2                     32.0          0.0         0.0         0.0         0.0   \n",
       "3                     32.0          0.0         0.0         0.0         0.0   \n",
       "4                     32.0          0.0         0.0         0.0         0.0   \n",
       "...                    ...          ...         ...         ...         ...   \n",
       "7262                  20.0          0.0         0.0         0.0         0.0   \n",
       "7263                  20.0          0.0         0.0         0.0         0.0   \n",
       "7264                  32.0          0.0         0.0         0.0         0.0   \n",
       "7265                  20.0          0.0         0.0         0.0         0.0   \n",
       "7266                  20.0          0.0         0.0         0.0         0.0   \n",
       "\n",
       "      Idle Mean  Idle Std  Idle Max  Idle Min  \n",
       "0           0.0       0.0       0.0       0.0  \n",
       "1           0.0       0.0       0.0       0.0  \n",
       "2           0.0       0.0       0.0       0.0  \n",
       "3           0.0       0.0       0.0       0.0  \n",
       "4           0.0       0.0       0.0       0.0  \n",
       "...         ...       ...       ...       ...  \n",
       "7262        0.0       0.0       0.0       0.0  \n",
       "7263        0.0       0.0       0.0       0.0  \n",
       "7264        0.0       0.0       0.0       0.0  \n",
       "7265        0.0       0.0       0.0       0.0  \n",
       "7266        0.0       0.0       0.0       0.0  \n",
       "\n",
       "[7267 rows x 76 columns]"
      ]
     },
     "execution_count": 3,
     "metadata": {},
     "output_type": "execute_result"
    }
   ],
   "source": [
    "X"
   ]
  },
  {
   "cell_type": "markdown",
   "id": "09ac809a",
   "metadata": {},
   "source": [
    "Check the absence of missing values in feature vectors."
   ]
  },
  {
   "cell_type": "code",
   "execution_count": 4,
   "id": "5c4b0c21",
   "metadata": {},
   "outputs": [
    {
     "data": {
      "text/plain": [
       "False"
      ]
     },
     "execution_count": 4,
     "metadata": {},
     "output_type": "execute_result"
    }
   ],
   "source": [
    "X.isnull().values.any()"
   ]
  },
  {
   "cell_type": "markdown",
   "id": "72d157f6",
   "metadata": {},
   "source": [
    "As we can see, the range of features is not normalized. We need to perform feature scaling for the correct functioning of selected deep learning algorithms (CNN and BiLSTM).\n",
    "\n",
    "In our case, the min-max normalization is used: all selected features are transformed into the range [0,1]."
   ]
  },
  {
   "cell_type": "code",
   "execution_count": 5,
   "id": "14f1ab5d",
   "metadata": {},
   "outputs": [],
   "source": [
    "scaler = sklearn.preprocessing.MinMaxScaler()"
   ]
  },
  {
   "cell_type": "markdown",
   "id": "4aea3fc7",
   "metadata": {},
   "source": [
    "To prevent data leakage, feature scaling would be performed on cross-validation folds at the training step."
   ]
  },
  {
   "cell_type": "markdown",
   "id": "037f33bb",
   "metadata": {},
   "source": [
    "### Preparing labels for training"
   ]
  },
  {
   "cell_type": "markdown",
   "id": "3898547e",
   "metadata": {},
   "source": [
    "First, we need to inspect labels."
   ]
  },
  {
   "cell_type": "code",
   "execution_count": 6,
   "id": "8fe9b30f",
   "metadata": {},
   "outputs": [
    {
     "data": {
      "text/plain": [
       "0       BENIGN\n",
       "1       BENIGN\n",
       "2       BENIGN\n",
       "3       BENIGN\n",
       "4       BENIGN\n",
       "         ...  \n",
       "7262    BENIGN\n",
       "7263    BENIGN\n",
       "7264    BENIGN\n",
       "7265    BENIGN\n",
       "7266    BENIGN\n",
       "Name: Label, Length: 7267, dtype: object"
      ]
     },
     "execution_count": 6,
     "metadata": {},
     "output_type": "execute_result"
    }
   ],
   "source": [
    "y"
   ]
  },
  {
   "cell_type": "markdown",
   "id": "b01323a8",
   "metadata": {},
   "source": [
    "Check the absence of missing values in labels."
   ]
  },
  {
   "cell_type": "code",
   "execution_count": 7,
   "id": "dc64a24c",
   "metadata": {},
   "outputs": [
    {
     "data": {
      "text/plain": [
       "False"
      ]
     },
     "execution_count": 7,
     "metadata": {},
     "output_type": "execute_result"
    }
   ],
   "source": [
    "y.isnull().values.any()"
   ]
  },
  {
   "cell_type": "markdown",
   "id": "70943ed5",
   "metadata": {},
   "source": [
    "As we can see, labels are categorical. We would need to transform them into the numeric form before the neural network training. In order to achieve that, we would apply one-hot encoding to labels.\n",
    "\n",
    "To prevent data leakage, one-hot encoding would be performed within cross-validation folds at the training step."
   ]
  },
  {
   "cell_type": "markdown",
   "id": "a8bbdbac",
   "metadata": {},
   "source": [
    "## The neural network preparation"
   ]
  },
  {
   "cell_type": "markdown",
   "id": "19f9a457",
   "metadata": {},
   "source": [
    "Define and compile the neural network.\n",
    "<p> We use a sequential model with CNN and BiLSTM layers, and batch normalization is applied before BiLSTM layers. A dropout layer is put before the final layer to prevent overfitting.\n",
    "<p> Categorical crossentropy is chosen as a loss function because of the multiclass classification. To get the classification result, the softmax activation function is applied to the output of the last, fully connected layer. "
   ]
  },
  {
   "cell_type": "code",
   "execution_count": 8,
   "id": "1b9b10ea",
   "metadata": {},
   "outputs": [],
   "source": [
    "batch_size = 32\n",
    "model = Sequential()\n",
    "model.add(Convolution1D(64, kernel_size=32, padding=\"same\",\n",
    "          activation=\"relu\", input_shape=(76, 1)))\n",
    "model.add(MaxPooling1D(pool_size=(5)))\n",
    "model.add(BatchNormalization())\n",
    "model.add(Bidirectional(LSTM(64, return_sequences=False)))\n",
    "model.add(Reshape((128, 1), input_shape=(128, )))\n",
    "\n",
    "model.add(MaxPooling1D(pool_size=(5)))\n",
    "model.add(BatchNormalization())\n",
    "model.add(Bidirectional(LSTM(128, return_sequences=False)))\n",
    "\n",
    "model.add(Dropout(0.5))\n",
    "model.add(Dense(4))\n",
    "model.add(Activation('softmax'))\n",
    "model.compile(loss='categorical_crossentropy',\n",
    "              optimizer='adam', metrics=['accuracy'])"
   ]
  },
  {
   "cell_type": "code",
   "execution_count": 9,
   "id": "2b1eb037",
   "metadata": {},
   "outputs": [
    {
     "name": "stdout",
     "output_type": "stream",
     "text": [
      "Model: \"sequential\"\n",
      "____________________________________________________________________________________________________\n",
      "Layer (type)                                 Output Shape                            Param #        \n",
      "====================================================================================================\n",
      "conv1d (Conv1D)                              (None, 76, 64)                          2112           \n",
      "____________________________________________________________________________________________________\n",
      "max_pooling1d (MaxPooling1D)                 (None, 15, 64)                          0              \n",
      "____________________________________________________________________________________________________\n",
      "batch_normalization (BatchNormalization)     (None, 15, 64)                          256            \n",
      "____________________________________________________________________________________________________\n",
      "bidirectional (Bidirectional)                (None, 128)                             66048          \n",
      "____________________________________________________________________________________________________\n",
      "reshape (Reshape)                            (None, 128, 1)                          0              \n",
      "____________________________________________________________________________________________________\n",
      "max_pooling1d_1 (MaxPooling1D)               (None, 25, 1)                           0              \n",
      "____________________________________________________________________________________________________\n",
      "batch_normalization_1 (BatchNormalization)   (None, 25, 1)                           4              \n",
      "____________________________________________________________________________________________________\n",
      "bidirectional_1 (Bidirectional)              (None, 256)                             133120         \n",
      "____________________________________________________________________________________________________\n",
      "dropout (Dropout)                            (None, 256)                             0              \n",
      "____________________________________________________________________________________________________\n",
      "dense (Dense)                                (None, 4)                               1028           \n",
      "____________________________________________________________________________________________________\n",
      "activation (Activation)                      (None, 4)                               0              \n",
      "====================================================================================================\n",
      "Total params: 202,568\n",
      "Trainable params: 202,438\n",
      "Non-trainable params: 130\n",
      "____________________________________________________________________________________________________\n"
     ]
    }
   ],
   "source": [
    "model.summary(line_length=100)"
   ]
  },
  {
   "cell_type": "markdown",
   "id": "1e5ab17e",
   "metadata": {},
   "source": [
    "## The neural network training"
   ]
  },
  {
   "cell_type": "markdown",
   "id": "bee05d2f",
   "metadata": {},
   "source": [
    "We use Stratified K-Folds cross-validation in our experiment."
   ]
  },
  {
   "cell_type": "code",
   "execution_count": 10,
   "id": "0cc721f8",
   "metadata": {},
   "outputs": [],
   "source": [
    "cv = StratifiedKFold(n_splits=5, shuffle=True, random_state=42)"
   ]
  },
  {
   "cell_type": "markdown",
   "id": "c191abe7",
   "metadata": {},
   "source": [
    "Evaluation metrics are stored for each fold."
   ]
  },
  {
   "cell_type": "code",
   "execution_count": 11,
   "id": "8afbc06c",
   "metadata": {},
   "outputs": [],
   "source": [
    "scores = pd.DataFrame(columns=[1, 2, 3, 4, 5, 'Mean'],\n",
    "                      index=['Accuracy', 'Precision', 'Recall', 'F1'])"
   ]
  },
  {
   "cell_type": "markdown",
   "id": "56725714",
   "metadata": {},
   "source": [
    "We use the following function to get evaluation metrics."
   ]
  },
  {
   "cell_type": "code",
   "execution_count": 12,
   "id": "0df92a75",
   "metadata": {},
   "outputs": [],
   "source": [
    "def print_metrics(y_eval: np.ndarray, y_pred: np.ndarray, average: str = 'binary') -> List[float]:\n",
    "    accuracy = metrics.accuracy_score(y_eval, y_pred)\n",
    "    precision = metrics.precision_score(y_eval, y_pred, average=average)\n",
    "    recall = metrics.recall_score(y_eval, y_pred, average=average)\n",
    "    f1 = metrics.f1_score(y_eval, y_pred, average=average)\n",
    "\n",
    "    print('Accuracy =', accuracy)\n",
    "    print('Precision =', precision)\n",
    "    print('Recall =', recall)\n",
    "    print('F1 =', f1)\n",
    "\n",
    "    return [accuracy, precision, recall, f1]"
   ]
  },
  {
   "cell_type": "markdown",
   "id": "a1c0bfd2",
   "metadata": {},
   "source": [
    "All test and predicted labels are also stored at each step of cross-validation. They will be used to calculate a confusion matrix."
   ]
  },
  {
   "cell_type": "code",
   "execution_count": 13,
   "id": "e059017d",
   "metadata": {},
   "outputs": [],
   "source": [
    "actual_targets = np.empty([0], dtype=float)\n",
    "predicted_targets = np.empty([0], dtype=float)"
   ]
  },
  {
   "cell_type": "markdown",
   "id": "0bb28309",
   "metadata": {},
   "source": [
    "On each fold, we use the following function to transform the data, to fit and to validate the neural network. Note that data preprocessing is largely performed at the cross-validation step to prevent data leakage."
   ]
  },
  {
   "cell_type": "code",
   "execution_count": 14,
   "id": "e438b829",
   "metadata": {},
   "outputs": [],
   "source": [
    "def train_and_validate(model: Sequential,\n",
    "                       X: pd.DataFrame,\n",
    "                       y: pd.Series,\n",
    "                       train_index: np.ndarray,\n",
    "                       test_index: np.ndarray,\n",
    "                       scaler: sklearn.preprocessing.MinMaxScaler) -> Tuple[np.ndarray, np.ndarray]:\n",
    "    # Get the test data and the validation data for a current fold.\n",
    "    X_train, X_test = X.iloc[train_index], X.iloc[test_index]\n",
    "    y_train, y_test = y[train_index], y[test_index]\n",
    "\n",
    "    print(\"Train index:\", train_index)\n",
    "    print(\"Test index:\", test_index)\n",
    "\n",
    "    # Feature scaling of data.\n",
    "    X_train = scaler.fit_transform(X_train)\n",
    "    X_test = scaler.fit_transform(X_test)\n",
    "\n",
    "    # We need to reshape feature vectors to use them as the neural network input.\n",
    "    X_train = np.reshape(\n",
    "        X_train, (X_train.shape[0], X_train.shape[1], 1))\n",
    "    X_test = np.reshape(\n",
    "        X_test, (X_test.shape[0], X_test.shape[1], 1))\n",
    "\n",
    "    # One-Hot encoding for labels.\n",
    "    y_train_encoded = pd.get_dummies(y_train).values\n",
    "    y_test_encoded = pd.get_dummies(y_test).values\n",
    "\n",
    "    # Fit the neural network model.\n",
    "    model.fit(X_train, y_train_encoded, validation_data=(\n",
    "        X_test, y_test_encoded), epochs=10)\n",
    "\n",
    "    # Apply the neural network model to the validation data and get the accuracy of this prediction.\n",
    "    y_pred = model.predict(X_test)\n",
    "    y_pred = np.argmax(y_pred, axis=1)\n",
    "    y_eval = np.argmax(y_test_encoded, axis=1)\n",
    "\n",
    "    return y_eval, y_pred"
   ]
  },
  {
   "cell_type": "markdown",
   "id": "7204550c",
   "metadata": {},
   "source": [
    "The training step is designed for the use with different versions of Tensorlow, if necessary. It is also possible to choose whether the training should be performed by CPU or GPU.\n",
    "\n",
    "This step may take some time, 13 minutes or more depending on the CPU performance (it will be faster with GPU)."
   ]
  },
  {
   "cell_type": "code",
   "execution_count": 15,
   "id": "dc596749",
   "metadata": {},
   "outputs": [
    {
     "name": "stdout",
     "output_type": "stream",
     "text": [
      "Train index: [   1    3    4 ... 7262 7264 7265]\n",
      "Test index: [   0    2   17 ... 7258 7263 7266]\n",
      "Epoch 1/10\n",
      "182/182 [==============================] - 31s 99ms/step - loss: 0.3823 - accuracy: 0.8423 - val_loss: 1.6877 - val_accuracy: 0.7001\n",
      "Epoch 2/10\n",
      "182/182 [==============================] - 15s 85ms/step - loss: 0.2936 - accuracy: 0.8698 - val_loss: 2.7494 - val_accuracy: 0.7001\n",
      "Epoch 3/10\n",
      "182/182 [==============================] - 15s 84ms/step - loss: 0.2821 - accuracy: 0.8729 - val_loss: 1.9555 - val_accuracy: 0.7001\n",
      "Epoch 4/10\n",
      "182/182 [==============================] - 15s 84ms/step - loss: 0.2808 - accuracy: 0.8744 - val_loss: 2.1896 - val_accuracy: 0.7098\n",
      "Epoch 5/10\n",
      "182/182 [==============================] - 15s 83ms/step - loss: 0.2774 - accuracy: 0.8741 - val_loss: 2.9275 - val_accuracy: 0.7001\n",
      "Epoch 6/10\n",
      "182/182 [==============================] - 15s 85ms/step - loss: 0.2715 - accuracy: 0.8773 - val_loss: 1.3042 - val_accuracy: 0.7001\n",
      "Epoch 7/10\n",
      "182/182 [==============================] - 16s 86ms/step - loss: 0.2934 - accuracy: 0.8724 - val_loss: 1.2828 - val_accuracy: 0.7001\n",
      "Epoch 8/10\n",
      "182/182 [==============================] - 16s 86ms/step - loss: 0.2747 - accuracy: 0.8767 - val_loss: 0.4410 - val_accuracy: 0.8638\n",
      "Epoch 9/10\n",
      "182/182 [==============================] - 15s 85ms/step - loss: 0.2627 - accuracy: 0.8787 - val_loss: 2.1020 - val_accuracy: 0.7001\n",
      "Epoch 10/10\n",
      "182/182 [==============================] - 15s 83ms/step - loss: 0.2691 - accuracy: 0.8792 - val_loss: 0.5484 - val_accuracy: 0.8631\n",
      "Validation scores:\n",
      "Accuracy = 0.8631361760660248\n",
      "Precision = 0.7895925361907993\n",
      "Recall = 0.8631361760660248\n",
      "F1 = 0.8240966097339769\n",
      "Train index: [   0    2    3 ... 7264 7265 7266]\n",
      "Test index: [   1   19   26 ... 7245 7252 7257]\n",
      "Epoch 1/10\n"
     ]
    },
    {
     "name": "stderr",
     "output_type": "stream",
     "text": [
      "C:\\ProgramData\\Anaconda3\\envs\\tf\\lib\\site-packages\\sklearn\\metrics\\_classification.py:1318: UndefinedMetricWarning: Precision is ill-defined and being set to 0.0 in labels with no predicted samples. Use `zero_division` parameter to control this behavior.\n",
      "  _warn_prf(average, modifier, msg_start, len(result))\n"
     ]
    },
    {
     "name": "stdout",
     "output_type": "stream",
     "text": [
      "182/182 [==============================] - 15s 83ms/step - loss: 0.2643 - accuracy: 0.8825 - val_loss: 0.2968 - val_accuracy: 0.8563\n",
      "Epoch 2/10\n",
      "182/182 [==============================] - 15s 82ms/step - loss: 0.2466 - accuracy: 0.8853 - val_loss: 0.2706 - val_accuracy: 0.8769\n",
      "Epoch 3/10\n",
      "182/182 [==============================] - 15s 83ms/step - loss: 0.2450 - accuracy: 0.8846 - val_loss: 0.2917 - val_accuracy: 0.8680\n",
      "Epoch 4/10\n",
      "182/182 [==============================] - 15s 82ms/step - loss: 0.2499 - accuracy: 0.8851 - val_loss: 0.2574 - val_accuracy: 0.8872\n",
      "Epoch 5/10\n",
      "182/182 [==============================] - 15s 82ms/step - loss: 0.2458 - accuracy: 0.8875 - val_loss: 0.2753 - val_accuracy: 0.8673\n",
      "Epoch 6/10\n",
      "182/182 [==============================] - 15s 83ms/step - loss: 0.2547 - accuracy: 0.8847 - val_loss: 0.2903 - val_accuracy: 0.8783\n",
      "Epoch 7/10\n",
      "182/182 [==============================] - 15s 83ms/step - loss: 0.2553 - accuracy: 0.8887 - val_loss: 0.2640 - val_accuracy: 0.8817\n",
      "Epoch 8/10\n",
      "182/182 [==============================] - 15s 83ms/step - loss: 0.2407 - accuracy: 0.8882 - val_loss: 0.2647 - val_accuracy: 0.8796\n",
      "Epoch 9/10\n",
      "182/182 [==============================] - 15s 82ms/step - loss: 0.2386 - accuracy: 0.8932 - val_loss: 0.2516 - val_accuracy: 0.8872\n",
      "Epoch 10/10\n",
      "182/182 [==============================] - 15s 83ms/step - loss: 0.2336 - accuracy: 0.8928 - val_loss: 0.2516 - val_accuracy: 0.8851\n",
      "Validation scores:\n",
      "Accuracy = 0.8851444291609354\n",
      "Precision = 0.8851540773716104\n",
      "Recall = 0.8851444291609354\n",
      "F1 = 0.8506111802734369\n",
      "Train index: [   0    1    2 ... 7264 7265 7266]\n",
      "Test index: [   3    4    9 ... 7254 7255 7259]\n",
      "Epoch 1/10\n",
      "182/182 [==============================] - 15s 83ms/step - loss: 0.2425 - accuracy: 0.8911 - val_loss: 0.2800 - val_accuracy: 0.8885\n",
      "Epoch 2/10\n",
      "182/182 [==============================] - 15s 83ms/step - loss: 0.2382 - accuracy: 0.8903 - val_loss: 0.5483 - val_accuracy: 0.8679\n",
      "Epoch 3/10\n",
      "182/182 [==============================] - 15s 83ms/step - loss: 0.2371 - accuracy: 0.8918 - val_loss: 2.4969 - val_accuracy: 0.7103\n",
      "Epoch 4/10\n",
      "182/182 [==============================] - 15s 83ms/step - loss: 0.2398 - accuracy: 0.8863 - val_loss: 0.4337 - val_accuracy: 0.8692\n",
      "Epoch 5/10\n",
      "182/182 [==============================] - 15s 83ms/step - loss: 0.2418 - accuracy: 0.8880 - val_loss: 0.7532 - val_accuracy: 0.7233\n",
      "Epoch 6/10\n",
      "182/182 [==============================] - 15s 83ms/step - loss: 0.2387 - accuracy: 0.8911 - val_loss: 0.2985 - val_accuracy: 0.8899\n",
      "Epoch 7/10\n",
      "182/182 [==============================] - 15s 83ms/step - loss: 0.2368 - accuracy: 0.8910 - val_loss: 0.5847 - val_accuracy: 0.7130\n",
      "Epoch 8/10\n",
      "182/182 [==============================] - 15s 83ms/step - loss: 0.2354 - accuracy: 0.8923 - val_loss: 1.6146 - val_accuracy: 0.7220\n",
      "Epoch 9/10\n",
      "182/182 [==============================] - 15s 83ms/step - loss: 0.2443 - accuracy: 0.8911 - val_loss: 0.2560 - val_accuracy: 0.8995\n",
      "Epoch 10/10\n",
      "182/182 [==============================] - 15s 83ms/step - loss: 0.2384 - accuracy: 0.8906 - val_loss: 1.0665 - val_accuracy: 0.7020\n",
      "Validation scores:\n",
      "Accuracy = 0.7019958706125258\n",
      "Precision = 0.5803873080665449\n",
      "Recall = 0.7019958706125258\n",
      "F1 = 0.5811177244516125\n",
      "Train index: [   0    1    2 ... 7262 7263 7266]\n",
      "Test index: [   6   13   14 ... 7261 7264 7265]\n",
      "Epoch 1/10\n"
     ]
    },
    {
     "name": "stderr",
     "output_type": "stream",
     "text": [
      "C:\\ProgramData\\Anaconda3\\envs\\tf\\lib\\site-packages\\sklearn\\metrics\\_classification.py:1318: UndefinedMetricWarning: Precision is ill-defined and being set to 0.0 in labels with no predicted samples. Use `zero_division` parameter to control this behavior.\n",
      "  _warn_prf(average, modifier, msg_start, len(result))\n"
     ]
    },
    {
     "name": "stdout",
     "output_type": "stream",
     "text": [
      "182/182 [==============================] - 15s 83ms/step - loss: 0.2433 - accuracy: 0.8922 - val_loss: 1.0978 - val_accuracy: 0.7103\n",
      "Epoch 2/10\n",
      "182/182 [==============================] - 15s 83ms/step - loss: 0.2358 - accuracy: 0.8932 - val_loss: 2.9871 - val_accuracy: 0.7137\n",
      "Epoch 3/10\n",
      "182/182 [==============================] - 16s 86ms/step - loss: 0.2334 - accuracy: 0.8923 - val_loss: 1.8179 - val_accuracy: 0.7158\n",
      "Epoch 4/10\n",
      "182/182 [==============================] - 15s 83ms/step - loss: 0.2403 - accuracy: 0.8915 - val_loss: 0.2601 - val_accuracy: 0.8851\n",
      "Epoch 5/10\n",
      "182/182 [==============================] - 15s 83ms/step - loss: 0.2383 - accuracy: 0.8904 - val_loss: 0.9245 - val_accuracy: 0.7158\n",
      "Epoch 6/10\n",
      "182/182 [==============================] - 15s 83ms/step - loss: 0.2395 - accuracy: 0.8894 - val_loss: 0.4490 - val_accuracy: 0.8858\n",
      "Epoch 7/10\n",
      "182/182 [==============================] - 15s 83ms/step - loss: 0.2340 - accuracy: 0.8932 - val_loss: 0.4157 - val_accuracy: 0.8858\n",
      "Epoch 8/10\n",
      "182/182 [==============================] - 15s 83ms/step - loss: 0.2243 - accuracy: 0.8961 - val_loss: 0.3504 - val_accuracy: 0.8858\n",
      "Epoch 9/10\n",
      "182/182 [==============================] - 15s 83ms/step - loss: 0.2278 - accuracy: 0.8953 - val_loss: 0.3514 - val_accuracy: 0.8816\n",
      "Epoch 10/10\n",
      "182/182 [==============================] - 15s 83ms/step - loss: 0.2278 - accuracy: 0.8944 - val_loss: 0.3385 - val_accuracy: 0.8789\n",
      "Validation scores:\n",
      "Accuracy = 0.8788713007570543\n",
      "Precision = 0.8324450363814857\n",
      "Recall = 0.8788713007570543\n",
      "F1 = 0.847709025690265\n",
      "Train index: [   0    1    2 ... 7264 7265 7266]\n",
      "Test index: [   5    7    8 ... 7251 7253 7262]\n",
      "Epoch 1/10\n"
     ]
    },
    {
     "name": "stderr",
     "output_type": "stream",
     "text": [
      "C:\\ProgramData\\Anaconda3\\envs\\tf\\lib\\site-packages\\sklearn\\metrics\\_classification.py:1318: UndefinedMetricWarning: Precision is ill-defined and being set to 0.0 in labels with no predicted samples. Use `zero_division` parameter to control this behavior.\n",
      "  _warn_prf(average, modifier, msg_start, len(result))\n"
     ]
    },
    {
     "name": "stdout",
     "output_type": "stream",
     "text": [
      "182/182 [==============================] - 15s 84ms/step - loss: 0.2235 - accuracy: 0.8970 - val_loss: 0.2533 - val_accuracy: 0.8858\n",
      "Epoch 2/10\n",
      "182/182 [==============================] - 15s 83ms/step - loss: 0.2295 - accuracy: 0.8947 - val_loss: 0.2352 - val_accuracy: 0.8899\n",
      "Epoch 3/10\n",
      "182/182 [==============================] - 15s 83ms/step - loss: 0.2253 - accuracy: 0.8961 - val_loss: 0.2308 - val_accuracy: 0.8933\n",
      "Epoch 4/10\n",
      "182/182 [==============================] - 15s 83ms/step - loss: 0.2269 - accuracy: 0.8963 - val_loss: 0.2398 - val_accuracy: 0.8830\n",
      "Epoch 5/10\n",
      "182/182 [==============================] - 15s 83ms/step - loss: 0.2252 - accuracy: 0.8959 - val_loss: 0.2429 - val_accuracy: 0.8837\n",
      "Epoch 6/10\n",
      "182/182 [==============================] - 15s 83ms/step - loss: 0.2306 - accuracy: 0.8944 - val_loss: 0.2259 - val_accuracy: 0.8919\n",
      "Epoch 7/10\n",
      "182/182 [==============================] - 15s 83ms/step - loss: 0.2279 - accuracy: 0.8959 - val_loss: 0.2303 - val_accuracy: 0.8892\n",
      "Epoch 8/10\n",
      "182/182 [==============================] - 15s 83ms/step - loss: 0.2329 - accuracy: 0.8951 - val_loss: 0.2681 - val_accuracy: 0.8672\n",
      "Epoch 9/10\n",
      "182/182 [==============================] - 15s 83ms/step - loss: 0.2286 - accuracy: 0.8958 - val_loss: 0.2301 - val_accuracy: 0.8913\n",
      "Epoch 10/10\n",
      "182/182 [==============================] - 15s 83ms/step - loss: 0.2370 - accuracy: 0.8942 - val_loss: 0.2674 - val_accuracy: 0.8851\n",
      "Validation scores:\n",
      "Accuracy = 0.8850653819683414\n",
      "Precision = 0.8543648705180628\n",
      "Recall = 0.8850653819683414\n",
      "F1 = 0.8517007927830981\n",
      "Total operation time:  781.0073299407959 seconds\n"
     ]
    }
   ],
   "source": [
    "# Tensorflow 1.14.\n",
    "\n",
    "# This option may be used to speed up the CPU computation in some cases.\n",
    "# import os\n",
    "# os.environ['TF_XLA_FLAGS'] = '--tf_xla_cpu_global_jit'\n",
    "\n",
    "# Configure session parameters for the optimal parallelization and choose the computational device (CPU, GPU or both).\n",
    "# config = tf.compat.v1.ConfigProto(intra_op_parallelism_threads=48,\n",
    "#                                   inter_op_parallelism_threads=48, allow_soft_placement=True, device_count={'CPU': 24})\n",
    "# with tf.compat.v1.Session(config=config) as sess:\n",
    "\n",
    "# Tensorflow 2.X, the computation is performed on CPU.\n",
    "with tf.device('/CPU:0'):\n",
    "\n",
    "# Tensorflow 2.X, the computation is performed on GPU.\n",
    "# with tf.device('/GPU:0'):\n",
    "    # Set a timer for the learning time evaluation.\n",
    "    start_time = time.time()\n",
    "    \n",
    "    i = 1\n",
    "    # Stratified K-Folds cross-validation.\n",
    "    for train_index, test_index in cv.split(X, y):\n",
    "        y_eval, y_pred = train_and_validate(model, X, y, train_index, test_index, scaler)\n",
    "        # Store test and predicted labels.\n",
    "        actual_targets = np.append(actual_targets, y_eval)\n",
    "        predicted_targets = np.append(predicted_targets, y_pred)\n",
    "        # Get and print validation scores.\n",
    "        print(\"Validation scores:\")\n",
    "        scores[i] = print_metrics(y_eval, y_pred, average='weighted')\n",
    "        i += 1\n",
    "\n",
    "    # Get the learning time.\n",
    "    print('Total operation time: ', time.time() - start_time, 'seconds')"
   ]
  },
  {
   "cell_type": "markdown",
   "id": "90c18a25",
   "metadata": {},
   "source": [
    "## Model evaluation"
   ]
  },
  {
   "cell_type": "markdown",
   "id": "0f9abd82",
   "metadata": {},
   "source": [
    "Here we can see evaluation metrics for each fold and their mean values."
   ]
  },
  {
   "cell_type": "code",
   "execution_count": 16,
   "id": "be84bd58",
   "metadata": {},
   "outputs": [
    {
     "data": {
      "text/html": [
       "<div>\n",
       "<style scoped>\n",
       "    .dataframe tbody tr th:only-of-type {\n",
       "        vertical-align: middle;\n",
       "    }\n",
       "\n",
       "    .dataframe tbody tr th {\n",
       "        vertical-align: top;\n",
       "    }\n",
       "\n",
       "    .dataframe thead th {\n",
       "        text-align: right;\n",
       "    }\n",
       "</style>\n",
       "<table border=\"1\" class=\"dataframe\">\n",
       "  <thead>\n",
       "    <tr style=\"text-align: right;\">\n",
       "      <th></th>\n",
       "      <th>1</th>\n",
       "      <th>2</th>\n",
       "      <th>3</th>\n",
       "      <th>4</th>\n",
       "      <th>5</th>\n",
       "      <th>Mean</th>\n",
       "    </tr>\n",
       "  </thead>\n",
       "  <tbody>\n",
       "    <tr>\n",
       "      <th>Accuracy</th>\n",
       "      <td>0.863136</td>\n",
       "      <td>0.885144</td>\n",
       "      <td>0.701996</td>\n",
       "      <td>0.878871</td>\n",
       "      <td>0.885065</td>\n",
       "      <td>0.842843</td>\n",
       "    </tr>\n",
       "    <tr>\n",
       "      <th>Precision</th>\n",
       "      <td>0.789593</td>\n",
       "      <td>0.885154</td>\n",
       "      <td>0.580387</td>\n",
       "      <td>0.832445</td>\n",
       "      <td>0.854365</td>\n",
       "      <td>0.788389</td>\n",
       "    </tr>\n",
       "    <tr>\n",
       "      <th>Recall</th>\n",
       "      <td>0.863136</td>\n",
       "      <td>0.885144</td>\n",
       "      <td>0.701996</td>\n",
       "      <td>0.878871</td>\n",
       "      <td>0.885065</td>\n",
       "      <td>0.842843</td>\n",
       "    </tr>\n",
       "    <tr>\n",
       "      <th>F1</th>\n",
       "      <td>0.824097</td>\n",
       "      <td>0.850611</td>\n",
       "      <td>0.581118</td>\n",
       "      <td>0.847709</td>\n",
       "      <td>0.851701</td>\n",
       "      <td>0.791047</td>\n",
       "    </tr>\n",
       "  </tbody>\n",
       "</table>\n",
       "</div>"
      ],
      "text/plain": [
       "                  1         2         3         4         5      Mean\n",
       "Accuracy   0.863136  0.885144  0.701996  0.878871  0.885065  0.842843\n",
       "Precision  0.789593  0.885154  0.580387  0.832445  0.854365  0.788389\n",
       "Recall     0.863136  0.885144  0.701996  0.878871  0.885065  0.842843\n",
       "F1         0.824097  0.850611  0.581118  0.847709  0.851701  0.791047"
      ]
     },
     "execution_count": 16,
     "metadata": {},
     "output_type": "execute_result"
    }
   ],
   "source": [
    "scores['Mean'] = scores.mean(axis=1)\n",
    "scores"
   ]
  },
  {
   "cell_type": "markdown",
   "id": "733435af",
   "metadata": {},
   "source": [
    "Visualize a confusion matrix for all folds of data to evaluate the classifier's performance. Here and further we use the following function."
   ]
  },
  {
   "cell_type": "code",
   "execution_count": 17,
   "id": "395b25b8",
   "metadata": {},
   "outputs": [],
   "source": [
    "def plot_confusion_matrix(y_eval: np.ndarray, y_pred: np.ndarray, labels: List[str]) -> None:\n",
    "    # Get the confusion matrix for the last fold of data.\n",
    "    confusion_matrix = metrics.confusion_matrix(y_eval, y_pred)\n",
    "\n",
    "    # Evaluate accuracy and misclassification scores.\n",
    "    accuracy = np.trace(confusion_matrix) / float(np.sum(confusion_matrix))\n",
    "    misclass = 1 - accuracy\n",
    "\n",
    "    # Plot the confusion matrix.\n",
    "    metrics.ConfusionMatrixDisplay.from_predictions(\n",
    "        y_eval, y_pred, display_labels=labels,\n",
    "        xticks_rotation='vertical', cmap='Blues')\n",
    "    plt.xlabel('Predicted label\\n\\naccuracy={:0.4f}; misclass={:0.4f}'.format(\n",
    "        accuracy, misclass))\n",
    "    plt.title('Confusion Matrix')\n",
    "    plt.show()"
   ]
  },
  {
   "cell_type": "code",
   "execution_count": 18,
   "id": "afce1194",
   "metadata": {},
   "outputs": [
    {
     "data": {
      "image/png": "[encoded data removed]",
      "text/plain": [
       "<Figure size 432x288 with 2 Axes>"
      ]
     },
     "metadata": {
      "needs_background": "light"
     },
     "output_type": "display_data"
    }
   ],
   "source": [
    "plot_confusion_matrix(actual_targets, predicted_targets, [\n",
    "                      'BENIGN', 'Web Attack - Brute Force', 'Web Attack - Sql Injection', 'Web Attack - XSS'])"
   ]
  },
  {
   "cell_type": "markdown",
   "id": "78a9eb56",
   "metadata": {},
   "source": [
    "From the above confusion matrix, we can conclude that the model is mostly adequate in identifying benign traffic and brute force attacks."
   ]
  },
  {
   "cell_type": "markdown",
   "id": "9498ea3b",
   "metadata": {},
   "source": [
    "## Comparison to Random Forest model"
   ]
  },
  {
   "cell_type": "markdown",
   "id": "7fe9ad46",
   "metadata": {},
   "source": [
    "Download and open our previously developed model for this dataset: Random Forest (see https://colab.research.google.com/github/fisher85/ml-cybersecurity/blob/master/python-web-attack-detection/web-attack-detection.ipynb)."
   ]
  },
  {
   "cell_type": "code",
   "execution_count": null,
   "id": "26215acb",
   "metadata": {},
   "outputs": [],
   "source": [
    "!wget https://github.com/fisher85/ml-cybersecurity/blob/master/python-web-attack-detection/webattack_detection_rf_model.pkl?raw=true -O webattack_detection_rf_model.pkl"
   ]
  },
  {
   "cell_type": "code",
   "execution_count": 19,
   "id": "35ebc9d6",
   "metadata": {},
   "outputs": [
    {
     "name": "stderr",
     "output_type": "stream",
     "text": [
      "C:\\ProgramData\\Anaconda3\\envs\\tf\\lib\\site-packages\\sklearn\\base.py:329: UserWarning: Trying to unpickle estimator DecisionTreeClassifier from version 0.23.2 when using version 1.0.2. This might lead to breaking code or invalid results. Use at your own risk. For more info please refer to:\n",
      "https://scikit-learn.org/stable/modules/model_persistence.html#security-maintainability-limitations\n",
      "  warnings.warn(\n",
      "C:\\ProgramData\\Anaconda3\\envs\\tf\\lib\\site-packages\\sklearn\\base.py:329: UserWarning: Trying to unpickle estimator RandomForestClassifier from version 0.23.2 when using version 1.0.2. This might lead to breaking code or invalid results. Use at your own risk. For more info please refer to:\n",
      "https://scikit-learn.org/stable/modules/model_persistence.html#security-maintainability-limitations\n",
      "  warnings.warn(\n"
     ]
    },
    {
     "data": {
      "text/plain": [
       "RandomForestClassifier(max_depth=17, max_features=10, min_samples_leaf=3,\n",
       "                       n_estimators=50, oob_score=True, random_state=42)"
      ]
     },
     "execution_count": 19,
     "metadata": {},
     "output_type": "execute_result"
    }
   ],
   "source": [
    "with open('webattack_detection_rf_model.pkl', 'rb') as f:\n",
    "    rfc = pickle.load(f)\n",
    "rfc"
   ]
  },
  {
   "cell_type": "markdown",
   "id": "3327a0cb",
   "metadata": {},
   "source": [
    "We use the indices of the final fold of Stratified K-Folds cross-validation to split the dataset into a training set with 80% of all the samples and test set with 20% of all the samples, preserving the percentage of samples for each class.\n",
    "\n",
    "Our Random Forest model does not need feature scaling and uses only selected features, so we need to get correct feature vectors."
   ]
  },
  {
   "cell_type": "code",
   "execution_count": 20,
   "id": "f8e4d339",
   "metadata": {},
   "outputs": [
    {
     "data": {
      "text/html": [
       "<div>\n",
       "<style scoped>\n",
       "    .dataframe tbody tr th:only-of-type {\n",
       "        vertical-align: middle;\n",
       "    }\n",
       "\n",
       "    .dataframe tbody tr th {\n",
       "        vertical-align: top;\n",
       "    }\n",
       "\n",
       "    .dataframe thead th {\n",
       "        text-align: right;\n",
       "    }\n",
       "</style>\n",
       "<table border=\"1\" class=\"dataframe\">\n",
       "  <thead>\n",
       "    <tr style=\"text-align: right;\">\n",
       "      <th></th>\n",
       "      <th>Average Packet Size</th>\n",
       "      <th>Flow Bytes/s</th>\n",
       "      <th>Max Packet Length</th>\n",
       "      <th>Fwd Packet Length Mean</th>\n",
       "      <th>Fwd IAT Min</th>\n",
       "      <th>Total Length of Fwd Packets</th>\n",
       "      <th>Flow IAT Mean</th>\n",
       "      <th>Fwd Packet Length Max</th>\n",
       "      <th>Fwd IAT Std</th>\n",
       "      <th>Fwd Header Length</th>\n",
       "    </tr>\n",
       "  </thead>\n",
       "  <tbody>\n",
       "    <tr>\n",
       "      <th>5</th>\n",
       "      <td>80.000000</td>\n",
       "      <td>1.550562e+06</td>\n",
       "      <td>94.0</td>\n",
       "      <td>44.0000</td>\n",
       "      <td>2.0</td>\n",
       "      <td>88.0</td>\n",
       "      <td>5.933333e+01</td>\n",
       "      <td>44.0</td>\n",
       "      <td>0.000000e+00</td>\n",
       "      <td>64.0</td>\n",
       "    </tr>\n",
       "    <tr>\n",
       "      <th>7</th>\n",
       "      <td>80.750000</td>\n",
       "      <td>1.371981e+06</td>\n",
       "      <td>103.0</td>\n",
       "      <td>39.0000</td>\n",
       "      <td>3.0</td>\n",
       "      <td>78.0</td>\n",
       "      <td>6.900000e+01</td>\n",
       "      <td>39.0</td>\n",
       "      <td>0.000000e+00</td>\n",
       "      <td>0.0</td>\n",
       "    </tr>\n",
       "    <tr>\n",
       "      <th>8</th>\n",
       "      <td>51.000000</td>\n",
       "      <td>1.095412e+01</td>\n",
       "      <td>48.0</td>\n",
       "      <td>48.0000</td>\n",
       "      <td>1992982.0</td>\n",
       "      <td>384.0</td>\n",
       "      <td>4.674038e+06</td>\n",
       "      <td>48.0</td>\n",
       "      <td>2.120000e+07</td>\n",
       "      <td>152.0</td>\n",
       "    </tr>\n",
       "    <tr>\n",
       "      <th>10</th>\n",
       "      <td>18.900000</td>\n",
       "      <td>3.560831e+04</td>\n",
       "      <td>18.0</td>\n",
       "      <td>18.0000</td>\n",
       "      <td>1.0</td>\n",
       "      <td>360.0</td>\n",
       "      <td>5.321053e+02</td>\n",
       "      <td>18.0</td>\n",
       "      <td>2.311161e+03</td>\n",
       "      <td>400.0</td>\n",
       "    </tr>\n",
       "    <tr>\n",
       "      <th>11</th>\n",
       "      <td>52.000000</td>\n",
       "      <td>8.716504e+00</td>\n",
       "      <td>48.0</td>\n",
       "      <td>48.0000</td>\n",
       "      <td>3.0</td>\n",
       "      <td>288.0</td>\n",
       "      <td>6.007413e+06</td>\n",
       "      <td>48.0</td>\n",
       "      <td>2.870000e+07</td>\n",
       "      <td>144.0</td>\n",
       "    </tr>\n",
       "    <tr>\n",
       "      <th>...</th>\n",
       "      <td>...</td>\n",
       "      <td>...</td>\n",
       "      <td>...</td>\n",
       "      <td>...</td>\n",
       "      <td>...</td>\n",
       "      <td>...</td>\n",
       "      <td>...</td>\n",
       "      <td>...</td>\n",
       "      <td>...</td>\n",
       "      <td>...</td>\n",
       "    </tr>\n",
       "    <tr>\n",
       "      <th>7248</th>\n",
       "      <td>0.000000</td>\n",
       "      <td>0.000000e+00</td>\n",
       "      <td>0.0</td>\n",
       "      <td>0.0000</td>\n",
       "      <td>997796.0</td>\n",
       "      <td>0.0</td>\n",
       "      <td>1.050000e+07</td>\n",
       "      <td>0.0</td>\n",
       "      <td>1.190000e+07</td>\n",
       "      <td>280.0</td>\n",
       "    </tr>\n",
       "    <tr>\n",
       "      <th>7249</th>\n",
       "      <td>41.100000</td>\n",
       "      <td>1.070206e+01</td>\n",
       "      <td>796.0</td>\n",
       "      <td>27.3125</td>\n",
       "      <td>396.0</td>\n",
       "      <td>437.0</td>\n",
       "      <td>3.972809e+06</td>\n",
       "      <td>437.0</td>\n",
       "      <td>4.196851e+06</td>\n",
       "      <td>520.0</td>\n",
       "    </tr>\n",
       "    <tr>\n",
       "      <th>7251</th>\n",
       "      <td>24.666667</td>\n",
       "      <td>1.331269e+05</td>\n",
       "      <td>31.0</td>\n",
       "      <td>18.5000</td>\n",
       "      <td>323.0</td>\n",
       "      <td>37.0</td>\n",
       "      <td>1.615000e+02</td>\n",
       "      <td>31.0</td>\n",
       "      <td>0.000000e+00</td>\n",
       "      <td>40.0</td>\n",
       "    </tr>\n",
       "    <tr>\n",
       "      <th>7253</th>\n",
       "      <td>8.000000</td>\n",
       "      <td>1.322032e+02</td>\n",
       "      <td>6.0</td>\n",
       "      <td>6.0000</td>\n",
       "      <td>3.0</td>\n",
       "      <td>12.0</td>\n",
       "      <td>6.807700e+04</td>\n",
       "      <td>6.0</td>\n",
       "      <td>0.000000e+00</td>\n",
       "      <td>40.0</td>\n",
       "    </tr>\n",
       "    <tr>\n",
       "      <th>7262</th>\n",
       "      <td>9.000000</td>\n",
       "      <td>2.142857e+05</td>\n",
       "      <td>6.0</td>\n",
       "      <td>6.0000</td>\n",
       "      <td>0.0</td>\n",
       "      <td>6.0</td>\n",
       "      <td>5.600000e+01</td>\n",
       "      <td>6.0</td>\n",
       "      <td>0.000000e+00</td>\n",
       "      <td>20.0</td>\n",
       "    </tr>\n",
       "  </tbody>\n",
       "</table>\n",
       "<p>1453 rows × 10 columns</p>\n",
       "</div>"
      ],
      "text/plain": [
       "      Average Packet Size  Flow Bytes/s  Max Packet Length  \\\n",
       "5               80.000000  1.550562e+06               94.0   \n",
       "7               80.750000  1.371981e+06              103.0   \n",
       "8               51.000000  1.095412e+01               48.0   \n",
       "10              18.900000  3.560831e+04               18.0   \n",
       "11              52.000000  8.716504e+00               48.0   \n",
       "...                   ...           ...                ...   \n",
       "7248             0.000000  0.000000e+00                0.0   \n",
       "7249            41.100000  1.070206e+01              796.0   \n",
       "7251            24.666667  1.331269e+05               31.0   \n",
       "7253             8.000000  1.322032e+02                6.0   \n",
       "7262             9.000000  2.142857e+05                6.0   \n",
       "\n",
       "      Fwd Packet Length Mean  Fwd IAT Min  Total Length of Fwd Packets  \\\n",
       "5                    44.0000          2.0                         88.0   \n",
       "7                    39.0000          3.0                         78.0   \n",
       "8                    48.0000    1992982.0                        384.0   \n",
       "10                   18.0000          1.0                        360.0   \n",
       "11                   48.0000          3.0                        288.0   \n",
       "...                      ...          ...                          ...   \n",
       "7248                  0.0000     997796.0                          0.0   \n",
       "7249                 27.3125        396.0                        437.0   \n",
       "7251                 18.5000        323.0                         37.0   \n",
       "7253                  6.0000          3.0                         12.0   \n",
       "7262                  6.0000          0.0                          6.0   \n",
       "\n",
       "      Flow IAT Mean  Fwd Packet Length Max   Fwd IAT Std  Fwd Header Length  \n",
       "5      5.933333e+01                   44.0  0.000000e+00               64.0  \n",
       "7      6.900000e+01                   39.0  0.000000e+00                0.0  \n",
       "8      4.674038e+06                   48.0  2.120000e+07              152.0  \n",
       "10     5.321053e+02                   18.0  2.311161e+03              400.0  \n",
       "11     6.007413e+06                   48.0  2.870000e+07              144.0  \n",
       "...             ...                    ...           ...                ...  \n",
       "7248   1.050000e+07                    0.0  1.190000e+07              280.0  \n",
       "7249   3.972809e+06                  437.0  4.196851e+06              520.0  \n",
       "7251   1.615000e+02                   31.0  0.000000e+00               40.0  \n",
       "7253   6.807700e+04                    6.0  0.000000e+00               40.0  \n",
       "7262   5.600000e+01                    6.0  0.000000e+00               20.0  \n",
       "\n",
       "[1453 rows x 10 columns]"
      ]
     },
     "execution_count": 20,
     "metadata": {},
     "output_type": "execute_result"
    }
   ],
   "source": [
    "columns = ['Average Packet Size',\n",
    "           'Flow Bytes/s',\n",
    "           'Max Packet Length',\n",
    "           'Fwd Packet Length Mean',\n",
    "           'Fwd IAT Min',\n",
    "           'Total Length of Fwd Packets',\n",
    "           'Flow IAT Mean',\n",
    "           'Fwd Packet Length Max',\n",
    "           'Fwd IAT Std',\n",
    "           'Fwd Header Length']\n",
    "X_test = X.iloc[test_index]\n",
    "X_test = X_test[columns]\n",
    "X_test"
   ]
  },
  {
   "cell_type": "markdown",
   "id": "db740a1e",
   "metadata": {},
   "source": [
    "Transform categorical labels into numeric form with simple label encoding. Note that our Random Forest model was developed for a binary classification task, so we transform labels accordingly: \"0\" indicates a benign instance and \"1\" an attack."
   ]
  },
  {
   "cell_type": "code",
   "execution_count": 21,
   "id": "b34827da",
   "metadata": {},
   "outputs": [],
   "source": [
    "y_test = y[test_index]\n",
    "y_test = y_test.apply(lambda x: 0 if x == 'BENIGN' else 1).values"
   ]
  },
  {
   "cell_type": "markdown",
   "id": "0749258d",
   "metadata": {},
   "source": [
    "Get the Random Forest model's evaluation metrics for the final fold of data."
   ]
  },
  {
   "cell_type": "code",
   "execution_count": 22,
   "id": "00e65c3b",
   "metadata": {},
   "outputs": [
    {
     "name": "stdout",
     "output_type": "stream",
     "text": [
      "Accuracy = 0.9827942188575362\n",
      "Precision = 0.9745958429561201\n",
      "Recall = 0.9678899082568807\n",
      "F1 = 0.9712313003452244\n"
     ]
    },
    {
     "data": {
      "image/png": "[encoded data removed]",
      "text/plain": [
       "<Figure size 432x288 with 2 Axes>"
      ]
     },
     "metadata": {
      "needs_background": "light"
     },
     "output_type": "display_data"
    }
   ],
   "source": [
    "y_pred_rfc = rfc.predict(X_test.values)\n",
    "\n",
    "metrics_rfc = print_metrics(y_test, y_pred_rfc)\n",
    "plot_confusion_matrix(y_test, y_pred_rfc, ['BENIGN', 'Web Attack'])"
   ]
  },
  {
   "cell_type": "markdown",
   "id": "aab1c0b9",
   "metadata": {},
   "source": [
    "The Random Forest model is designed for binary classification, whereas the CNN-BiLSTM model is designed for multiclass classification. To compare two models correctly, we change the otput shape of the neural network model's dense layer so that the neural network predicts only two classes. We also change the dropout ratio."
   ]
  },
  {
   "cell_type": "code",
   "execution_count": 23,
   "id": "e31b7320",
   "metadata": {},
   "outputs": [],
   "source": [
    "batch_size = 32\n",
    "model = Sequential()\n",
    "model.add(Convolution1D(64, kernel_size=32, padding=\"same\",\n",
    "          activation=\"relu\", input_shape=(76, 1)))\n",
    "model.add(MaxPooling1D(pool_size=(5)))\n",
    "model.add(BatchNormalization())\n",
    "model.add(Bidirectional(LSTM(64, return_sequences=False)))\n",
    "model.add(Reshape((128, 1), input_shape=(128, )))\n",
    "\n",
    "model.add(MaxPooling1D(pool_size=(5)))\n",
    "model.add(BatchNormalization())\n",
    "model.add(Bidirectional(LSTM(128, return_sequences=False)))\n",
    "\n",
    "model.add(Dropout(0.5))\n",
    "model.add(Dense(2))\n",
    "model.add(Activation('softmax'))\n",
    "model.compile(loss='categorical_crossentropy',\n",
    "              optimizer='adam', metrics=['accuracy'])"
   ]
  },
  {
   "cell_type": "code",
   "execution_count": 24,
   "id": "f43e3a0a",
   "metadata": {},
   "outputs": [
    {
     "name": "stdout",
     "output_type": "stream",
     "text": [
      "Model: \"sequential_1\"\n",
      "____________________________________________________________________________________________________\n",
      "Layer (type)                                 Output Shape                            Param #        \n",
      "====================================================================================================\n",
      "conv1d_1 (Conv1D)                            (None, 76, 64)                          2112           \n",
      "____________________________________________________________________________________________________\n",
      "max_pooling1d_2 (MaxPooling1D)               (None, 15, 64)                          0              \n",
      "____________________________________________________________________________________________________\n",
      "batch_normalization_2 (BatchNormalization)   (None, 15, 64)                          256            \n",
      "____________________________________________________________________________________________________\n",
      "bidirectional_2 (Bidirectional)              (None, 128)                             66048          \n",
      "____________________________________________________________________________________________________\n",
      "reshape_1 (Reshape)                          (None, 128, 1)                          0              \n",
      "____________________________________________________________________________________________________\n",
      "max_pooling1d_3 (MaxPooling1D)               (None, 25, 1)                           0              \n",
      "____________________________________________________________________________________________________\n",
      "batch_normalization_3 (BatchNormalization)   (None, 25, 1)                           4              \n",
      "____________________________________________________________________________________________________\n",
      "bidirectional_3 (Bidirectional)              (None, 256)                             133120         \n",
      "____________________________________________________________________________________________________\n",
      "dropout_1 (Dropout)                          (None, 256)                             0              \n",
      "____________________________________________________________________________________________________\n",
      "dense_1 (Dense)                              (None, 2)                               514            \n",
      "____________________________________________________________________________________________________\n",
      "activation_1 (Activation)                    (None, 2)                               0              \n",
      "====================================================================================================\n",
      "Total params: 202,054\n",
      "Trainable params: 201,924\n",
      "Non-trainable params: 130\n",
      "____________________________________________________________________________________________________\n"
     ]
    }
   ],
   "source": [
    "model.summary(line_length=100)"
   ]
  },
  {
   "cell_type": "markdown",
   "id": "1d114888",
   "metadata": {},
   "source": [
    "Train the modified neural network on the final fold of data."
   ]
  },
  {
   "cell_type": "code",
   "execution_count": 25,
   "id": "0c6b0bb0",
   "metadata": {},
   "outputs": [
    {
     "name": "stdout",
     "output_type": "stream",
     "text": [
      "Train index: [   0    1    2 ... 7264 7265 7266]\n",
      "Test index: [   5    7    8 ... 7251 7253 7262]\n",
      "Epoch 1/10\n",
      "182/182 [==============================] - 31s 101ms/step - loss: 0.1427 - accuracy: 0.9456 - val_loss: 0.6727 - val_accuracy: 0.6999\n",
      "Epoch 2/10\n",
      "182/182 [==============================] - 15s 84ms/step - loss: 0.0937 - accuracy: 0.9620 - val_loss: 0.5349 - val_accuracy: 0.6999\n",
      "Epoch 3/10\n",
      "182/182 [==============================] - 15s 84ms/step - loss: 0.0880 - accuracy: 0.9632 - val_loss: 0.2407 - val_accuracy: 0.9443\n",
      "Epoch 4/10\n",
      "182/182 [==============================] - 15s 85ms/step - loss: 0.0784 - accuracy: 0.9646 - val_loss: 0.1562 - val_accuracy: 0.9443\n",
      "Epoch 5/10\n",
      "182/182 [==============================] - 16s 87ms/step - loss: 0.0759 - accuracy: 0.9682 - val_loss: 0.1058 - val_accuracy: 0.9436\n",
      "Epoch 6/10\n",
      "182/182 [==============================] - 16s 86ms/step - loss: 0.0762 - accuracy: 0.9677 - val_loss: 0.1078 - val_accuracy: 0.9470\n",
      "Epoch 7/10\n",
      "182/182 [==============================] - 17s 92ms/step - loss: 0.0789 - accuracy: 0.9677 - val_loss: 0.0884 - val_accuracy: 0.9491\n",
      "Epoch 8/10\n",
      "182/182 [==============================] - 15s 84ms/step - loss: 0.0726 - accuracy: 0.9692 - val_loss: 0.1262 - val_accuracy: 0.9408\n",
      "Epoch 9/10\n",
      "182/182 [==============================] - 16s 87ms/step - loss: 0.0702 - accuracy: 0.9702 - val_loss: 0.1524 - val_accuracy: 0.9415\n",
      "Epoch 10/10\n",
      "182/182 [==============================] - 16s 86ms/step - loss: 0.0661 - accuracy: 0.9706 - val_loss: 0.0941 - val_accuracy: 0.9608\n"
     ]
    }
   ],
   "source": [
    "# Transform categorical labels into numeric form.\n",
    "y = data['Label'].apply(lambda x: 0 if x == 'BENIGN' else 1).values\n",
    "\n",
    "y_eval, y_pred = train_and_validate(model, X, y, train_index, test_index, scaler)"
   ]
  },
  {
   "cell_type": "markdown",
   "id": "1c47ccd2",
   "metadata": {},
   "source": [
    "Get the CNN-BiLSTM model's evaluation metrics for binary classification."
   ]
  },
  {
   "cell_type": "code",
   "execution_count": 26,
   "id": "2b26f48d",
   "metadata": {},
   "outputs": [
    {
     "name": "stdout",
     "output_type": "stream",
     "text": [
      "Accuracy = 0.9607708189951824\n",
      "Precision = 0.9501187648456056\n",
      "Recall = 0.9174311926605505\n",
      "F1 = 0.9334889148191367\n"
     ]
    },
    {
     "data": {
      "image/png": "[encoded data removed]",
      "text/plain": [
       "<Figure size 432x288 with 2 Axes>"
      ]
     },
     "metadata": {
      "needs_background": "light"
     },
     "output_type": "display_data"
    }
   ],
   "source": [
    "metrics_nn = print_metrics(y_eval, y_pred)\n",
    "plot_confusion_matrix(y_eval, y_pred, ['BENIGN', 'Web Attack'])"
   ]
  },
  {
   "cell_type": "markdown",
   "id": "47838c2f",
   "metadata": {},
   "source": [
    "Finally, compare evaluation metrics for Random Forest and CNN-BiLSTM models. Here we can see that the Random Forest model shows better results than the CNN-BiLSTM model, but the latter shows good results none the less. Further research is needed to achive the desired performance."
   ]
  },
  {
   "cell_type": "code",
   "execution_count": 27,
   "id": "d383cab4",
   "metadata": {},
   "outputs": [
    {
     "data": {
      "image/png": "[encoded data removed]",
      "text/plain": [
       "<Figure size 1080x648 with 1 Axes>"
      ]
     },
     "metadata": {
      "needs_background": "light"
     },
     "output_type": "display_data"
    }
   ],
   "source": [
    "# Visualizing the data with a multiple bar chart.\n",
    "\n",
    "# Scale the plot.\n",
    "plt.figure(figsize=[15, 9])\n",
    "plt.gca().set_ylim(0.9, 1)\n",
    "\n",
    "# Get the data for the plot.\n",
    "comparison_frame = pd.DataFrame(\n",
    "    {'CNN-BiLSTM': metrics_nn,\n",
    "        'Random Forest': metrics_rfc},\n",
    "    index=['Accuracy', 'Precision', 'Recall', 'F1'])\n",
    "\n",
    "# Set the width of the bars.\n",
    "wd = 0.3\n",
    "x_pos = np.arange(1, 2*len(comparison_frame), 2)\n",
    "\n",
    "# Plotting the multiple bar graphs on the same figure.\n",
    "plt.bar(x_pos, comparison_frame['CNN-BiLSTM'], color='r', width=wd, edgecolor='k',\n",
    "        label='CNN-BiLSTM')  # , bottom=0.9)\n",
    "plt.bar(x_pos+wd, comparison_frame['Random Forest'], color='y', width=wd, edgecolor='k',\n",
    "        label='Random Forest')  # , bottom=0.9)\n",
    "\n",
    "# Add ticks, a title, and a legend.\n",
    "plt.xticks(x_pos+wd, comparison_frame.index.values, fontsize=15)\n",
    "plt.yticks(fontsize=15)\n",
    "plt.xlabel('Metric', fontsize=17)\n",
    "plt.ylabel('Value', fontsize=17)\n",
    "plt.title(\n",
    "    \"Performance comparison of CNN-BiLSTM and Random Forest models.\", fontsize=20)\n",
    "plt.legend(loc='best', fontsize=12)\n",
    "\n",
    "plt.show()"
   ]
  }
 ],
 "metadata": {
  "kernelspec": {
   "display_name": "Python 3 (ipykernel)",
   "language": "python",
   "name": "python3"
  },
  "language_info": {
   "codemirror_mode": {
    "name": "ipython",
    "version": 3
   },
   "file_extension": ".py",
   "mimetype": "text/x-python",
   "name": "python",
   "nbconvert_exporter": "python",
   "pygments_lexer": "ipython3",
   "version": "3.9.7"
  }
 },
 "nbformat": 4,
 "nbformat_minor": 5
}
