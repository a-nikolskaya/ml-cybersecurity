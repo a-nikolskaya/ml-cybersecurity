{
 "cells": [
  {
   "cell_type": "markdown",
   "id": "9af1aa3b",
   "metadata": {},
   "source": [
    "# Web attack detection using CNN-BiLSTM neural net and CICIDS2017 dataset"
   ]
  },
  {
   "cell_type": "markdown",
   "id": "196e15c7",
   "metadata": {},
   "source": [
    "In this notebook we implement web attack detection using CNN-BiLSTM neural net and CICIDS2017 dataset, and compare this neural net performance to our previously developed Random Forest model (https://github.com/fisher85/ml-cybersecurity/blob/master/python-web-attack-detection/web-attack-detection.ipynb).\n",
    "\n",
    "Training data: https://github.com/fisher85/ml-cybersecurity/blob/master/python-web-attack-detection/datasets/web_attacks_balanced.zip\n",
    "\n",
    "Training dataset is the balanced dataset based on CICIDS2017: https://www.unb.ca/cic/datasets/ids-2017.html\n",
    "    \n",
    "Sources:\n",
    "- https://paperswithcode.com/paper/efficient-deep-cnn-bilstm-model-for-network\n",
    "- Jay Sinha and M. Manollas. 2020. Efficient Deep CNN-BiLSTM Model for Network Intrusion Detection. In Proceedings of the 2020 3rd International Conference on Artificial Intelligence and Pattern Recognition (AIPR 2020). Association for Computing Machinery, New York, NY, USA, 223–231. DOI:https://doi.org/10.1145/3430199.3430224.\n",
    "- https://github.com/razor08/Efficient-CNN-BiLSTM-for-Network-IDS/blob/master/NSL_KDD_Final.ipynb\n",
    "    "
   ]
  },
  {
   "cell_type": "markdown",
   "id": "5feb64ef",
   "metadata": {},
   "source": [
    "## Data preprocessing"
   ]
  },
  {
   "cell_type": "code",
   "execution_count": 1,
   "id": "e52a8e96",
   "metadata": {
    "scrolled": false
   },
   "outputs": [],
   "source": [
    "from itertools import cycle\n",
    "import pickle\n",
    "import sys\n",
    "import time\n",
    "\n",
    "import matplotlib.pyplot as plt\n",
    "import numpy as np\n",
    "import pandas as pd\n",
    "from scipy import interp\n",
    "from scipy.stats import zscore\n",
    "from sklearn import metrics\n",
    "from sklearn.metrics import roc_curve, auc\n",
    "from sklearn.model_selection import StratifiedKFold\n",
    "from sklearn.model_selection import train_test_split\n",
    "import sklearn.preprocessing\n",
    "import tensorflow as tf\n",
    "import tensorflow.keras\n",
    "from tensorflow.keras.callbacks import EarlyStopping\n",
    "from tensorflow.keras.layers import Dense, Dropout, Activation, Embedding, Flatten\n",
    "from tensorflow.keras.layers import LSTM, Bidirectional, BatchNormalization, Convolution1D, MaxPooling1D, Reshape, GlobalAveragePooling1D\n",
    "from tensorflow.keras.models import Sequential\n",
    "from tensorflow.keras.utils import to_categorical\n",
    "from tensorflow.keras.utils import get_file, plot_model\n",
    "\n",
    "%matplotlib inline"
   ]
  },
  {
   "cell_type": "markdown",
   "id": "043d673a",
   "metadata": {},
   "source": [
    "Download the dataset from Github to Google Colab and unzip it."
   ]
  },
  {
   "cell_type": "code",
   "execution_count": null,
   "id": "d9a034c2",
   "metadata": {},
   "outputs": [],
   "source": [
    "!wget https://github.com/fisher85/ml-cybersecurity/blob/master/python-web-attack-detection/datasets/web_attacks_balanced.zip?raw=true -O dataset.zip\n",
    "!unzip -u dataset.zip"
   ]
  },
  {
   "cell_type": "markdown",
   "id": "3ab1e404",
   "metadata": {},
   "source": [
    "Load our dataset and separate it into feature vectors and labels."
   ]
  },
  {
   "cell_type": "code",
   "execution_count": 2,
   "id": "78746733",
   "metadata": {},
   "outputs": [],
   "source": [
    "data = pd.read_csv('web_attacks_balanced.csv', delimiter=',')\n",
    "\n",
    "y = data['Label']\n",
    "X = data.drop('Label', axis=1)"
   ]
  },
  {
   "cell_type": "markdown",
   "id": "2855d909",
   "metadata": {},
   "source": [
    "### Preparing feature vectors for training"
   ]
  },
  {
   "cell_type": "markdown",
   "id": "7b7e8941",
   "metadata": {},
   "source": [
    "First, we need to inspect feature vectors."
   ]
  },
  {
   "cell_type": "code",
   "execution_count": 3,
   "id": "c7483bc8",
   "metadata": {},
   "outputs": [
    {
     "data": {
      "text/html": [
       "<div>\n",
       "<style scoped>\n",
       "    .dataframe tbody tr th:only-of-type {\n",
       "        vertical-align: middle;\n",
       "    }\n",
       "\n",
       "    .dataframe tbody tr th {\n",
       "        vertical-align: top;\n",
       "    }\n",
       "\n",
       "    .dataframe thead th {\n",
       "        text-align: right;\n",
       "    }\n",
       "</style>\n",
       "<table border=\"1\" class=\"dataframe\">\n",
       "  <thead>\n",
       "    <tr style=\"text-align: right;\">\n",
       "      <th></th>\n",
       "      <th>Flow ID</th>\n",
       "      <th>Source IP</th>\n",
       "      <th>Source Port</th>\n",
       "      <th>Destination IP</th>\n",
       "      <th>Destination Port</th>\n",
       "      <th>Protocol</th>\n",
       "      <th>Timestamp</th>\n",
       "      <th>Flow Duration</th>\n",
       "      <th>Total Fwd Packets</th>\n",
       "      <th>Total Backward Packets</th>\n",
       "      <th>...</th>\n",
       "      <th>act_data_pkt_fwd</th>\n",
       "      <th>min_seg_size_forward</th>\n",
       "      <th>Active Mean</th>\n",
       "      <th>Active Std</th>\n",
       "      <th>Active Max</th>\n",
       "      <th>Active Min</th>\n",
       "      <th>Idle Mean</th>\n",
       "      <th>Idle Std</th>\n",
       "      <th>Idle Max</th>\n",
       "      <th>Idle Min</th>\n",
       "    </tr>\n",
       "  </thead>\n",
       "  <tbody>\n",
       "    <tr>\n",
       "      <th>0</th>\n",
       "      <td>60778</td>\n",
       "      <td>1261</td>\n",
       "      <td>39649.0</td>\n",
       "      <td>1599</td>\n",
       "      <td>53.0</td>\n",
       "      <td>17.0</td>\n",
       "      <td>181</td>\n",
       "      <td>204.0</td>\n",
       "      <td>2.0</td>\n",
       "      <td>2.0</td>\n",
       "      <td>...</td>\n",
       "      <td>1.0</td>\n",
       "      <td>32.0</td>\n",
       "      <td>0.0</td>\n",
       "      <td>0.0</td>\n",
       "      <td>0.0</td>\n",
       "      <td>0.0</td>\n",
       "      <td>0.0</td>\n",
       "      <td>0.0</td>\n",
       "      <td>0.0</td>\n",
       "      <td>0.0</td>\n",
       "    </tr>\n",
       "    <tr>\n",
       "      <th>1</th>\n",
       "      <td>59519</td>\n",
       "      <td>1261</td>\n",
       "      <td>27081.0</td>\n",
       "      <td>1599</td>\n",
       "      <td>53.0</td>\n",
       "      <td>17.0</td>\n",
       "      <td>181</td>\n",
       "      <td>209.0</td>\n",
       "      <td>2.0</td>\n",
       "      <td>2.0</td>\n",
       "      <td>...</td>\n",
       "      <td>1.0</td>\n",
       "      <td>32.0</td>\n",
       "      <td>0.0</td>\n",
       "      <td>0.0</td>\n",
       "      <td>0.0</td>\n",
       "      <td>0.0</td>\n",
       "      <td>0.0</td>\n",
       "      <td>0.0</td>\n",
       "      <td>0.0</td>\n",
       "      <td>0.0</td>\n",
       "    </tr>\n",
       "    <tr>\n",
       "      <th>2</th>\n",
       "      <td>59636</td>\n",
       "      <td>1261</td>\n",
       "      <td>28078.0</td>\n",
       "      <td>1599</td>\n",
       "      <td>53.0</td>\n",
       "      <td>17.0</td>\n",
       "      <td>181</td>\n",
       "      <td>23891.0</td>\n",
       "      <td>2.0</td>\n",
       "      <td>2.0</td>\n",
       "      <td>...</td>\n",
       "      <td>1.0</td>\n",
       "      <td>32.0</td>\n",
       "      <td>0.0</td>\n",
       "      <td>0.0</td>\n",
       "      <td>0.0</td>\n",
       "      <td>0.0</td>\n",
       "      <td>0.0</td>\n",
       "      <td>0.0</td>\n",
       "      <td>0.0</td>\n",
       "      <td>0.0</td>\n",
       "    </tr>\n",
       "    <tr>\n",
       "      <th>3</th>\n",
       "      <td>69545</td>\n",
       "      <td>1265</td>\n",
       "      <td>2500.0</td>\n",
       "      <td>1599</td>\n",
       "      <td>53.0</td>\n",
       "      <td>17.0</td>\n",
       "      <td>181</td>\n",
       "      <td>205.0</td>\n",
       "      <td>2.0</td>\n",
       "      <td>2.0</td>\n",
       "      <td>...</td>\n",
       "      <td>1.0</td>\n",
       "      <td>32.0</td>\n",
       "      <td>0.0</td>\n",
       "      <td>0.0</td>\n",
       "      <td>0.0</td>\n",
       "      <td>0.0</td>\n",
       "      <td>0.0</td>\n",
       "      <td>0.0</td>\n",
       "      <td>0.0</td>\n",
       "      <td>0.0</td>\n",
       "    </tr>\n",
       "    <tr>\n",
       "      <th>4</th>\n",
       "      <td>34999</td>\n",
       "      <td>1256</td>\n",
       "      <td>36656.0</td>\n",
       "      <td>1599</td>\n",
       "      <td>53.0</td>\n",
       "      <td>17.0</td>\n",
       "      <td>181</td>\n",
       "      <td>155.0</td>\n",
       "      <td>2.0</td>\n",
       "      <td>2.0</td>\n",
       "      <td>...</td>\n",
       "      <td>1.0</td>\n",
       "      <td>32.0</td>\n",
       "      <td>0.0</td>\n",
       "      <td>0.0</td>\n",
       "      <td>0.0</td>\n",
       "      <td>0.0</td>\n",
       "      <td>0.0</td>\n",
       "      <td>0.0</td>\n",
       "      <td>0.0</td>\n",
       "      <td>0.0</td>\n",
       "    </tr>\n",
       "    <tr>\n",
       "      <th>...</th>\n",
       "      <td>...</td>\n",
       "      <td>...</td>\n",
       "      <td>...</td>\n",
       "      <td>...</td>\n",
       "      <td>...</td>\n",
       "      <td>...</td>\n",
       "      <td>...</td>\n",
       "      <td>...</td>\n",
       "      <td>...</td>\n",
       "      <td>...</td>\n",
       "      <td>...</td>\n",
       "      <td>...</td>\n",
       "      <td>...</td>\n",
       "      <td>...</td>\n",
       "      <td>...</td>\n",
       "      <td>...</td>\n",
       "      <td>...</td>\n",
       "      <td>...</td>\n",
       "      <td>...</td>\n",
       "      <td>...</td>\n",
       "      <td>...</td>\n",
       "    </tr>\n",
       "    <tr>\n",
       "      <th>7262</th>\n",
       "      <td>30455</td>\n",
       "      <td>1749</td>\n",
       "      <td>443.0</td>\n",
       "      <td>1596</td>\n",
       "      <td>35898.0</td>\n",
       "      <td>6.0</td>\n",
       "      <td>132</td>\n",
       "      <td>56.0</td>\n",
       "      <td>1.0</td>\n",
       "      <td>1.0</td>\n",
       "      <td>...</td>\n",
       "      <td>0.0</td>\n",
       "      <td>20.0</td>\n",
       "      <td>0.0</td>\n",
       "      <td>0.0</td>\n",
       "      <td>0.0</td>\n",
       "      <td>0.0</td>\n",
       "      <td>0.0</td>\n",
       "      <td>0.0</td>\n",
       "      <td>0.0</td>\n",
       "      <td>0.0</td>\n",
       "    </tr>\n",
       "    <tr>\n",
       "      <th>7263</th>\n",
       "      <td>29860</td>\n",
       "      <td>488</td>\n",
       "      <td>443.0</td>\n",
       "      <td>1596</td>\n",
       "      <td>53466.0</td>\n",
       "      <td>6.0</td>\n",
       "      <td>132</td>\n",
       "      <td>59.0</td>\n",
       "      <td>1.0</td>\n",
       "      <td>1.0</td>\n",
       "      <td>...</td>\n",
       "      <td>0.0</td>\n",
       "      <td>20.0</td>\n",
       "      <td>0.0</td>\n",
       "      <td>0.0</td>\n",
       "      <td>0.0</td>\n",
       "      <td>0.0</td>\n",
       "      <td>0.0</td>\n",
       "      <td>0.0</td>\n",
       "      <td>0.0</td>\n",
       "      <td>0.0</td>\n",
       "    </tr>\n",
       "    <tr>\n",
       "      <th>7264</th>\n",
       "      <td>10232</td>\n",
       "      <td>1001</td>\n",
       "      <td>443.0</td>\n",
       "      <td>1596</td>\n",
       "      <td>58663.0</td>\n",
       "      <td>6.0</td>\n",
       "      <td>132</td>\n",
       "      <td>84.0</td>\n",
       "      <td>1.0</td>\n",
       "      <td>1.0</td>\n",
       "      <td>...</td>\n",
       "      <td>0.0</td>\n",
       "      <td>32.0</td>\n",
       "      <td>0.0</td>\n",
       "      <td>0.0</td>\n",
       "      <td>0.0</td>\n",
       "      <td>0.0</td>\n",
       "      <td>0.0</td>\n",
       "      <td>0.0</td>\n",
       "      <td>0.0</td>\n",
       "      <td>0.0</td>\n",
       "    </tr>\n",
       "    <tr>\n",
       "      <th>7265</th>\n",
       "      <td>29811</td>\n",
       "      <td>461</td>\n",
       "      <td>443.0</td>\n",
       "      <td>1596</td>\n",
       "      <td>36058.0</td>\n",
       "      <td>6.0</td>\n",
       "      <td>132</td>\n",
       "      <td>86.0</td>\n",
       "      <td>1.0</td>\n",
       "      <td>1.0</td>\n",
       "      <td>...</td>\n",
       "      <td>0.0</td>\n",
       "      <td>20.0</td>\n",
       "      <td>0.0</td>\n",
       "      <td>0.0</td>\n",
       "      <td>0.0</td>\n",
       "      <td>0.0</td>\n",
       "      <td>0.0</td>\n",
       "      <td>0.0</td>\n",
       "      <td>0.0</td>\n",
       "      <td>0.0</td>\n",
       "    </tr>\n",
       "    <tr>\n",
       "      <th>7266</th>\n",
       "      <td>37017</td>\n",
       "      <td>1257</td>\n",
       "      <td>62848.0</td>\n",
       "      <td>1599</td>\n",
       "      <td>49666.0</td>\n",
       "      <td>6.0</td>\n",
       "      <td>132</td>\n",
       "      <td>41.0</td>\n",
       "      <td>1.0</td>\n",
       "      <td>3.0</td>\n",
       "      <td>...</td>\n",
       "      <td>0.0</td>\n",
       "      <td>20.0</td>\n",
       "      <td>0.0</td>\n",
       "      <td>0.0</td>\n",
       "      <td>0.0</td>\n",
       "      <td>0.0</td>\n",
       "      <td>0.0</td>\n",
       "      <td>0.0</td>\n",
       "      <td>0.0</td>\n",
       "      <td>0.0</td>\n",
       "    </tr>\n",
       "  </tbody>\n",
       "</table>\n",
       "<p>7267 rows × 83 columns</p>\n",
       "</div>"
      ],
      "text/plain": [
       "      Flow ID  Source IP  Source Port  Destination IP  Destination Port  \\\n",
       "0       60778       1261      39649.0            1599              53.0   \n",
       "1       59519       1261      27081.0            1599              53.0   \n",
       "2       59636       1261      28078.0            1599              53.0   \n",
       "3       69545       1265       2500.0            1599              53.0   \n",
       "4       34999       1256      36656.0            1599              53.0   \n",
       "...       ...        ...          ...             ...               ...   \n",
       "7262    30455       1749        443.0            1596           35898.0   \n",
       "7263    29860        488        443.0            1596           53466.0   \n",
       "7264    10232       1001        443.0            1596           58663.0   \n",
       "7265    29811        461        443.0            1596           36058.0   \n",
       "7266    37017       1257      62848.0            1599           49666.0   \n",
       "\n",
       "      Protocol  Timestamp  Flow Duration  Total Fwd Packets  \\\n",
       "0         17.0        181          204.0                2.0   \n",
       "1         17.0        181          209.0                2.0   \n",
       "2         17.0        181        23891.0                2.0   \n",
       "3         17.0        181          205.0                2.0   \n",
       "4         17.0        181          155.0                2.0   \n",
       "...        ...        ...            ...                ...   \n",
       "7262       6.0        132           56.0                1.0   \n",
       "7263       6.0        132           59.0                1.0   \n",
       "7264       6.0        132           84.0                1.0   \n",
       "7265       6.0        132           86.0                1.0   \n",
       "7266       6.0        132           41.0                1.0   \n",
       "\n",
       "      Total Backward Packets  ...  act_data_pkt_fwd  min_seg_size_forward  \\\n",
       "0                        2.0  ...               1.0                  32.0   \n",
       "1                        2.0  ...               1.0                  32.0   \n",
       "2                        2.0  ...               1.0                  32.0   \n",
       "3                        2.0  ...               1.0                  32.0   \n",
       "4                        2.0  ...               1.0                  32.0   \n",
       "...                      ...  ...               ...                   ...   \n",
       "7262                     1.0  ...               0.0                  20.0   \n",
       "7263                     1.0  ...               0.0                  20.0   \n",
       "7264                     1.0  ...               0.0                  32.0   \n",
       "7265                     1.0  ...               0.0                  20.0   \n",
       "7266                     3.0  ...               0.0                  20.0   \n",
       "\n",
       "      Active Mean  Active Std  Active Max  Active Min  Idle Mean  Idle Std  \\\n",
       "0             0.0         0.0         0.0         0.0        0.0       0.0   \n",
       "1             0.0         0.0         0.0         0.0        0.0       0.0   \n",
       "2             0.0         0.0         0.0         0.0        0.0       0.0   \n",
       "3             0.0         0.0         0.0         0.0        0.0       0.0   \n",
       "4             0.0         0.0         0.0         0.0        0.0       0.0   \n",
       "...           ...         ...         ...         ...        ...       ...   \n",
       "7262          0.0         0.0         0.0         0.0        0.0       0.0   \n",
       "7263          0.0         0.0         0.0         0.0        0.0       0.0   \n",
       "7264          0.0         0.0         0.0         0.0        0.0       0.0   \n",
       "7265          0.0         0.0         0.0         0.0        0.0       0.0   \n",
       "7266          0.0         0.0         0.0         0.0        0.0       0.0   \n",
       "\n",
       "      Idle Max  Idle Min  \n",
       "0          0.0       0.0  \n",
       "1          0.0       0.0  \n",
       "2          0.0       0.0  \n",
       "3          0.0       0.0  \n",
       "4          0.0       0.0  \n",
       "...        ...       ...  \n",
       "7262       0.0       0.0  \n",
       "7263       0.0       0.0  \n",
       "7264       0.0       0.0  \n",
       "7265       0.0       0.0  \n",
       "7266       0.0       0.0  \n",
       "\n",
       "[7267 rows x 83 columns]"
      ]
     },
     "execution_count": 3,
     "metadata": {},
     "output_type": "execute_result"
    }
   ],
   "source": [
    "X"
   ]
  },
  {
   "cell_type": "markdown",
   "id": "09ac809a",
   "metadata": {},
   "source": [
    "Check the absence of missing values in feature vectors."
   ]
  },
  {
   "cell_type": "code",
   "execution_count": 4,
   "id": "5c4b0c21",
   "metadata": {},
   "outputs": [
    {
     "data": {
      "text/plain": [
       "False"
      ]
     },
     "execution_count": 4,
     "metadata": {},
     "output_type": "execute_result"
    }
   ],
   "source": [
    "X.isnull().values.any()"
   ]
  },
  {
   "cell_type": "markdown",
   "id": "72d157f6",
   "metadata": {},
   "source": [
    "As we can see, the range of features is not normalized. We need to perform feature scaling for the correct functioning of selected deep learning algorithms (CNN and BiLSTM).\n",
    "\n",
    "In our case, the min-max normalization is used: all selected features are transformed into the range [0,1]."
   ]
  },
  {
   "cell_type": "code",
   "execution_count": 5,
   "id": "14f1ab5d",
   "metadata": {},
   "outputs": [],
   "source": [
    "scaler = sklearn.preprocessing.MinMaxScaler()"
   ]
  },
  {
   "cell_type": "markdown",
   "id": "4aea3fc7",
   "metadata": {},
   "source": [
    "To prevent data leakage, feature scaling would be performed on cross-validation folds at the training step."
   ]
  },
  {
   "cell_type": "markdown",
   "id": "037f33bb",
   "metadata": {},
   "source": [
    "### Preparing labels for training"
   ]
  },
  {
   "cell_type": "markdown",
   "id": "3898547e",
   "metadata": {},
   "source": [
    "First, we need to inspect labels."
   ]
  },
  {
   "cell_type": "code",
   "execution_count": 6,
   "id": "8fe9b30f",
   "metadata": {},
   "outputs": [
    {
     "data": {
      "text/plain": [
       "0       BENIGN\n",
       "1       BENIGN\n",
       "2       BENIGN\n",
       "3       BENIGN\n",
       "4       BENIGN\n",
       "         ...  \n",
       "7262    BENIGN\n",
       "7263    BENIGN\n",
       "7264    BENIGN\n",
       "7265    BENIGN\n",
       "7266    BENIGN\n",
       "Name: Label, Length: 7267, dtype: object"
      ]
     },
     "execution_count": 6,
     "metadata": {},
     "output_type": "execute_result"
    }
   ],
   "source": [
    "y"
   ]
  },
  {
   "cell_type": "markdown",
   "id": "b01323a8",
   "metadata": {},
   "source": [
    "Check the absence of missing values in labels."
   ]
  },
  {
   "cell_type": "code",
   "execution_count": 7,
   "id": "dc64a24c",
   "metadata": {},
   "outputs": [
    {
     "data": {
      "text/plain": [
       "False"
      ]
     },
     "execution_count": 7,
     "metadata": {},
     "output_type": "execute_result"
    }
   ],
   "source": [
    "y.isnull().values.any()"
   ]
  },
  {
   "cell_type": "markdown",
   "id": "70943ed5",
   "metadata": {},
   "source": [
    "As we can see, labels are categorical. We would need to transform them into the numeric form before the neural network training. In order to achieve that, we would apply one-hot encoding to labels.\n",
    "\n",
    "To prevent data leakage, one-hot encoding would be performed within cross-validation folds at the training step."
   ]
  },
  {
   "cell_type": "markdown",
   "id": "a8bbdbac",
   "metadata": {},
   "source": [
    "## The neural network preparation"
   ]
  },
  {
   "cell_type": "markdown",
   "id": "19f9a457",
   "metadata": {},
   "source": [
    "Define and compile the neural network.\n",
    "<p> We use a sequential model with CNN and BiLSTM layers, and batch normalization is applied before BiLSTM layers. A dropout layer is put before the final layer to prevent overfitting.\n",
    "<p> Categorical crossentropy is chosen as a loss function because of the multiclass classification. To get the classification result, the softmax activation function is applied to the output of the last, fully connected layer. "
   ]
  },
  {
   "cell_type": "code",
   "execution_count": 8,
   "id": "1b9b10ea",
   "metadata": {},
   "outputs": [],
   "source": [
    "batch_size = 32\n",
    "model = Sequential()\n",
    "model.add(Convolution1D(64, kernel_size=3, padding=\"same\",\n",
    "          activation=\"relu\", input_shape=(83, 1)))\n",
    "model.add(MaxPooling1D(pool_size=(5)))\n",
    "model.add(BatchNormalization())\n",
    "model.add(Bidirectional(LSTM(64, return_sequences=False)))\n",
    "model.add(Reshape((128, 1), input_shape=(128, )))\n",
    "\n",
    "model.add(MaxPooling1D(pool_size=(5)))\n",
    "model.add(BatchNormalization())\n",
    "model.add(Bidirectional(LSTM(128, return_sequences=False)))\n",
    "\n",
    "model.add(Dropout(0.5))\n",
    "model.add(Dense(4))\n",
    "model.add(Activation('softmax'))\n",
    "model.compile(loss='categorical_crossentropy',\n",
    "              optimizer='adam', metrics=['accuracy'])"
   ]
  },
  {
   "cell_type": "code",
   "execution_count": 9,
   "id": "2b1eb037",
   "metadata": {},
   "outputs": [
    {
     "name": "stdout",
     "output_type": "stream",
     "text": [
      "Model: \"sequential\"\n",
      "_________________________________________________________________\n",
      "Layer (type)                 Output Shape              Param #   \n",
      "=================================================================\n",
      "conv1d (Conv1D)              (None, 83, 64)            256       \n",
      "_________________________________________________________________\n",
      "max_pooling1d (MaxPooling1D) (None, 16, 64)            0         \n",
      "_________________________________________________________________\n",
      "batch_normalization (BatchNo (None, 16, 64)            256       \n",
      "_________________________________________________________________\n",
      "bidirectional (Bidirectional (None, 128)               66048     \n",
      "_________________________________________________________________\n",
      "reshape (Reshape)            (None, 128, 1)            0         \n",
      "_________________________________________________________________\n",
      "max_pooling1d_1 (MaxPooling1 (None, 25, 1)             0         \n",
      "_________________________________________________________________\n",
      "batch_normalization_1 (Batch (None, 25, 1)             4         \n",
      "_________________________________________________________________\n",
      "bidirectional_1 (Bidirection (None, 256)               133120    \n",
      "_________________________________________________________________\n",
      "dropout (Dropout)            (None, 256)               0         \n",
      "_________________________________________________________________\n",
      "dense (Dense)                (None, 4)                 1028      \n",
      "_________________________________________________________________\n",
      "activation (Activation)      (None, 4)                 0         \n",
      "=================================================================\n",
      "Total params: 200,712\n",
      "Trainable params: 200,582\n",
      "Non-trainable params: 130\n",
      "_________________________________________________________________\n"
     ]
    }
   ],
   "source": [
    "model.summary()"
   ]
  },
  {
   "cell_type": "markdown",
   "id": "1e5ab17e",
   "metadata": {},
   "source": [
    "## The neural network training"
   ]
  },
  {
   "cell_type": "markdown",
   "id": "bee05d2f",
   "metadata": {},
   "source": [
    "We use Stratified K-Folds cross-validation in our experiment."
   ]
  },
  {
   "cell_type": "code",
   "execution_count": 10,
   "id": "0cc721f8",
   "metadata": {},
   "outputs": [],
   "source": [
    "cv = StratifiedKFold(n_splits=2, shuffle=True, random_state=42)"
   ]
  },
  {
   "cell_type": "markdown",
   "id": "c191abe7",
   "metadata": {},
   "source": [
    "Accuracy classification score is stored for each fold."
   ]
  },
  {
   "cell_type": "code",
   "execution_count": 11,
   "id": "8afbc06c",
   "metadata": {},
   "outputs": [],
   "source": [
    "accuracy_per_fold = []"
   ]
  },
  {
   "cell_type": "markdown",
   "id": "7204550c",
   "metadata": {},
   "source": [
    "The training step is designed for the use with different versions of Tensorlow, if necessary. It is also possible to choose whether the training should be performed by CPU or GPU.\n",
    "\n",
    "Note that data preprocessing is largely performed at this step to prevent data leakage.\n",
    "\n",
    "This step may take some time, 2 minutes or more depending on the CPU performance (it will be faster with GPU)."
   ]
  },
  {
   "cell_type": "code",
   "execution_count": 12,
   "id": "dc596749",
   "metadata": {},
   "outputs": [
    {
     "name": "stdout",
     "output_type": "stream",
     "text": [
      "Train index: [   5    6    7 ... 7262 7264 7265]\n",
      "Test index: [   0    1    2 ... 7258 7263 7266]\n",
      "Epoch 1/5\n",
      "114/114 [==============================] - 27s 127ms/step - loss: 0.2321 - accuracy: 0.9282 - val_loss: 3.0010 - val_accuracy: 0.0897\n",
      "Epoch 2/5\n",
      "114/114 [==============================] - 12s 102ms/step - loss: 0.0466 - accuracy: 0.9884 - val_loss: 2.1420 - val_accuracy: 0.1021\n",
      "Epoch 3/5\n",
      "114/114 [==============================] - 12s 102ms/step - loss: 0.0243 - accuracy: 0.9923 - val_loss: 1.4046 - val_accuracy: 0.5663\n",
      "Epoch 4/5\n",
      "114/114 [==============================] - 12s 103ms/step - loss: 0.0492 - accuracy: 0.9849 - val_loss: 0.4049 - val_accuracy: 0.8828\n",
      "Epoch 5/5\n",
      "114/114 [==============================] - 12s 102ms/step - loss: 0.0149 - accuracy: 0.9953 - val_loss: 0.0763 - val_accuracy: 0.9893\n",
      "Validation score: 0.9892680242157402\n",
      "Train index: [   0    1    2 ... 7258 7263 7266]\n",
      "Test index: [   5    6    7 ... 7262 7264 7265]\n",
      "Epoch 1/5\n",
      "114/114 [==============================] - 12s 102ms/step - loss: 0.0158 - accuracy: 0.9948 - val_loss: 0.0110 - val_accuracy: 0.9972\n",
      "Epoch 2/5\n",
      "114/114 [==============================] - 11s 101ms/step - loss: 0.1170 - accuracy: 0.9681 - val_loss: 0.0376 - val_accuracy: 0.9887\n",
      "Epoch 3/5\n",
      "114/114 [==============================] - 12s 103ms/step - loss: 0.0337 - accuracy: 0.9898 - val_loss: 0.0382 - val_accuracy: 0.9912\n",
      "Epoch 4/5\n",
      "114/114 [==============================] - 12s 103ms/step - loss: 0.0255 - accuracy: 0.9939 - val_loss: 0.0086 - val_accuracy: 0.9967\n",
      "Epoch 5/5\n",
      "114/114 [==============================] - 12s 103ms/step - loss: 0.0201 - accuracy: 0.9942 - val_loss: 0.0156 - val_accuracy: 0.9945\n",
      "Validation score: 0.9944949077897055\n",
      "Total operation time:  140.04761910438538 seconds\n"
     ]
    }
   ],
   "source": [
    "# Tensorflow 1.14.\n",
    "\n",
    "# This option may be used to speed up the CPU computation in some cases.\n",
    "# import os\n",
    "# os.environ['TF_XLA_FLAGS'] = '--tf_xla_cpu_global_jit'\n",
    "\n",
    "# Configure session parameters for the optimal parallelization and choose the computational device (CPU, GPU or both).\n",
    "# config = tf.compat.v1.ConfigProto(intra_op_parallelism_threads=48,\n",
    "#                                   inter_op_parallelism_threads=48, allow_soft_placement=True, device_count={'CPU': 24})\n",
    "# with tf.compat.v1.Session(config=config) as sess:\n",
    "\n",
    "# Tensorflow 2.X, the computation is performed on CPU.\n",
    "with tf.device('/CPU:0'):\n",
    "\n",
    "# Tensorflow 2.X, the computation is performed on GPU.\n",
    "# with tf.device('/GPU:0'):\n",
    "    # Set a timer for the learning time evaluation.\n",
    "    start_time = time.time()\n",
    "\n",
    "    # Stratified K-Folds cross-validation.\n",
    "    for train_index, test_index in cv.split(X, y):\n",
    "        # Get the test data and the validation data for a current fold.\n",
    "        X_train, X_test = X.iloc[train_index], X.iloc[test_index]\n",
    "        y_train, y_test = y[train_index], y[test_index]\n",
    "\n",
    "        print(\"Train index:\", train_index)\n",
    "        print(\"Test index:\", test_index)\n",
    "\n",
    "        # Feature scaling of data.\n",
    "        X_train = scaler.fit_transform(X_train)\n",
    "        X_test = scaler.fit_transform(X_test)\n",
    "\n",
    "        # We need to reshape feature vectors to use them as the neural network input.\n",
    "        X_train = np.reshape(\n",
    "            X_train, (X_train.shape[0], X_train.shape[1], 1))\n",
    "        X_test = np.reshape(\n",
    "            X_test, (X_test.shape[0], X_test.shape[1], 1))\n",
    "\n",
    "        # One-Hot encoding for labels.\n",
    "        y_train_encoded = pd.get_dummies(y_train).values\n",
    "        y_test_encoded = pd.get_dummies(y_test).values\n",
    "\n",
    "        # Fit the neural net model.\n",
    "        model.fit(X_train, y_train_encoded, validation_data=(\n",
    "            X_test, y_test_encoded), epochs=5)\n",
    "\n",
    "        # Apply the neural net model to the validation data and get the accuracy of this prediction.\n",
    "        y_pred = model.predict(X_test)\n",
    "        y_pred = np.argmax(y_pred, axis=1)\n",
    "        y_eval = np.argmax(y_test_encoded, axis=1)\n",
    "        score = metrics.accuracy_score(y_eval, y_pred)\n",
    "        accuracy_per_fold.append(score)\n",
    "        print(\"Validation score: {}\".format(score))\n",
    "\n",
    "    # Get the learning time.\n",
    "    print('Total operation time: ', time.time() - start_time, 'seconds')"
   ]
  },
  {
   "cell_type": "markdown",
   "id": "90c18a25",
   "metadata": {},
   "source": [
    "## Model evaluation"
   ]
  },
  {
   "cell_type": "markdown",
   "id": "0f9abd82",
   "metadata": {},
   "source": [
    "Here we can see accuracy classification score for each fold."
   ]
  },
  {
   "cell_type": "code",
   "execution_count": 13,
   "id": "be84bd58",
   "metadata": {},
   "outputs": [
    {
     "data": {
      "text/plain": [
       "[0.9892680242157402, 0.9944949077897055]"
      ]
     },
     "execution_count": 13,
     "metadata": {},
     "output_type": "execute_result"
    }
   ],
   "source": [
    "accuracy_per_fold"
   ]
  },
  {
   "cell_type": "markdown",
   "id": "56725714",
   "metadata": {},
   "source": [
    "Get evaluation metrics for the final fold of data."
   ]
  },
  {
   "cell_type": "code",
   "execution_count": 14,
   "id": "0df92a75",
   "metadata": {},
   "outputs": [
    {
     "name": "stdout",
     "output_type": "stream",
     "text": [
      "Accuracy = 0.9944949077897055\n",
      "Precision = 0.996287868338933\n",
      "Recall = 0.9944949077897055\n",
      "F1 = 0.9950861559140055\n"
     ]
    }
   ],
   "source": [
    "accuracy = metrics.accuracy_score(y_eval, y_pred)\n",
    "precision = metrics.precision_score(y_eval, y_pred, average='weighted')\n",
    "recall = metrics.recall_score(y_eval, y_pred, average='weighted')\n",
    "f1 = metrics.f1_score(y_eval, y_pred, average='weighted')\n",
    "\n",
    "print('Accuracy =', accuracy)\n",
    "print('Precision =', precision)\n",
    "print('Recall =', recall)\n",
    "print('F1 =', f1)"
   ]
  },
  {
   "cell_type": "markdown",
   "id": "733435af",
   "metadata": {},
   "source": [
    "Visualize a confusion matrix for the final fold of data to evaluate the classifier's performance."
   ]
  },
  {
   "cell_type": "code",
   "execution_count": 15,
   "id": "afce1194",
   "metadata": {},
   "outputs": [
    {
     "data": {
      "image/png": "[encoded data removed]",
      "text/plain": [
       "<Figure size 432x288 with 2 Axes>"
      ]
     },
     "metadata": {
      "needs_background": "light"
     },
     "output_type": "display_data"
    }
   ],
   "source": [
    "# Get the confusion matrix for the last fold of data.\n",
    "confusion_matrix = metrics.confusion_matrix(y_eval, y_pred)\n",
    "\n",
    "# Evaluate accuracy and misclassification scores.\n",
    "accuracy = np.trace(confusion_matrix) / float(np.sum(confusion_matrix))\n",
    "misclass = 1 - accuracy\n",
    "\n",
    "# Plot the confusion matrix.\n",
    "metrics.ConfusionMatrixDisplay.from_predictions(\n",
    "    y_eval, y_pred, display_labels=['Label_BENIGN', 'Label_Web Attack - Brute Force',\n",
    "                                    'Label_Web Attack - Sql Injection', 'Label_Web Attack - XSS'],\n",
    "    xticks_rotation='vertical', cmap='Blues')\n",
    "plt.xlabel('Predicted label\\naccuracy={:0.4f}; misclass={:0.4f}'.format(\n",
    "    accuracy, misclass))\n",
    "plt.title('Confusion Matrix')\n",
    "plt.show()"
   ]
  },
  {
   "cell_type": "markdown",
   "id": "497594bb",
   "metadata": {},
   "source": [
    "Plot ROC curves for all classes using the last fold of data."
   ]
  },
  {
   "cell_type": "code",
   "execution_count": 16,
   "id": "72343506",
   "metadata": {},
   "outputs": [
    {
     "data": {
      "image/png": "[encoded data removed]",
      "text/plain": [
       "<Figure size 432x288 with 1 Axes>"
      ]
     },
     "metadata": {
      "needs_background": "light"
     },
     "output_type": "display_data"
    },
    {
     "data": {
      "image/png": "[encoded data removed]",
      "text/plain": [
       "<Figure size 432x288 with 1 Axes>"
      ]
     },
     "metadata": {
      "needs_background": "light"
     },
     "output_type": "display_data"
    }
   ],
   "source": [
    "target_class = []\n",
    "target_class = ['Label_BENIGN', 'Label_Web Attack - Brute Force',\n",
    "                'Label_Web Attack - Sql Injection', 'Label_Web Attack - XSS']\n",
    "\n",
    "y_pred = model.predict(X_test)\n",
    "\n",
    "# Plot linewidth.\n",
    "lw = 2\n",
    "\n",
    "# Compute ROC curve and ROC area for each class.\n",
    "fpr = dict()\n",
    "tpr = dict()\n",
    "roc_auc = dict()\n",
    "for i in range(4):\n",
    "    fpr[i], tpr[i], _ = roc_curve(y_test_encoded[:, i], y_pred[:, i])\n",
    "    roc_auc[i] = auc(fpr[i], tpr[i])\n",
    "\n",
    "# Compute micro-average ROC curve and ROC area\n",
    "fpr[\"micro\"], tpr[\"micro\"], _ = roc_curve(\n",
    "    y_test_encoded.ravel(), y_pred.ravel())\n",
    "roc_auc[\"micro\"] = auc(fpr[\"micro\"], tpr[\"micro\"])\n",
    "\n",
    "# Compute macro-average ROC curve and ROC area.\n",
    "\n",
    "# First aggregate all false positive rates\n",
    "all_fpr = np.unique(np.concatenate([fpr[i] for i in range(4)]))\n",
    "\n",
    "# Then interpolate all ROC curves at this points.\n",
    "mean_tpr = np.zeros_like(all_fpr)\n",
    "for i in range(4):\n",
    "    mean_tpr += np.interp(all_fpr, fpr[i], tpr[i])\n",
    "\n",
    "# Finally average it and compute AUC.\n",
    "mean_tpr /= 4\n",
    "\n",
    "fpr[\"macro\"] = all_fpr\n",
    "tpr[\"macro\"] = mean_tpr\n",
    "roc_auc[\"macro\"] = auc(fpr[\"macro\"], tpr[\"macro\"])\n",
    "\n",
    "# Plot all ROC curves.\n",
    "plt.figure(1)\n",
    "plt.plot(fpr[\"micro\"], tpr[\"micro\"],\n",
    "         label='micro-average ROC curve (area = {0:0.2f})'\n",
    "               ''.format(roc_auc[\"micro\"]),\n",
    "         color='deeppink', linestyle=':', linewidth=4)\n",
    "\n",
    "plt.plot(fpr[\"macro\"], tpr[\"macro\"],\n",
    "         label='macro-average ROC curve (area = {0:0.2f})'\n",
    "               ''.format(roc_auc[\"macro\"]),\n",
    "         color='navy', linestyle=':', linewidth=4)\n",
    "\n",
    "colors = cycle(['black', 'yellow', 'green', 'red'])\n",
    "for i, color in zip(range(4), colors):\n",
    "    plt.plot(fpr[i], tpr[i], color=color, lw=lw,\n",
    "             label='ROC curve of class {0} (area = {1:0.2f})'\n",
    "             ''.format(target_class[i], roc_auc[i]))\n",
    "\n",
    "plt.plot([0, 1], [0, 1], 'k--', lw=lw)\n",
    "plt.xlim([0.0, 1.0])\n",
    "plt.ylim([0.0, 1.05])\n",
    "plt.xlabel('False Positive Rate')\n",
    "plt.ylabel('True Positive Rate')\n",
    "plt.title('Receiver operating characteristic to multi-class')\n",
    "plt.legend(bbox_to_anchor=(1.05, 1.0), loc='upper left')\n",
    "plt.show()\n",
    "\n",
    "# Zoom in the plot.\n",
    "plt.figure(2)\n",
    "plt.xlim(0, 0.02)\n",
    "plt.ylim(0.7, 1)\n",
    "plt.plot(fpr[\"micro\"], tpr[\"micro\"],\n",
    "         label='micro-average ROC curve (area = {0:0.2f})'\n",
    "               ''.format(roc_auc[\"micro\"]),\n",
    "         color='deeppink', linestyle=':', linewidth=4)\n",
    "\n",
    "plt.plot(fpr[\"macro\"], tpr[\"macro\"],\n",
    "         label='macro-average ROC curve (area = {0:0.2f})'\n",
    "               ''.format(roc_auc[\"macro\"]),\n",
    "         color='navy', linestyle=':', linewidth=4)\n",
    "\n",
    "colors = cycle(['black', 'yellow', 'green', 'red'])\n",
    "for i, color in zip(range(4), colors):\n",
    "    plt.plot(fpr[i], tpr[i], color=color, lw=lw,\n",
    "             label='ROC curve of class {0} (area = {1:0.2f})'\n",
    "             ''.format(target_class[i], roc_auc[i]))\n",
    "\n",
    "plt.plot([0, 1], [0, 1], 'k--', lw=lw)\n",
    "plt.xlabel('False Positive Rate')\n",
    "plt.ylabel('True Positive Rate')\n",
    "plt.title('Receiver operating characteristic to multi-class')\n",
    "plt.legend(bbox_to_anchor=(1.05, 1.0), loc='upper left')\n",
    "plt.show()"
   ]
  },
  {
   "cell_type": "markdown",
   "id": "9498ea3b",
   "metadata": {},
   "source": [
    "## Comparison to Random Forest model"
   ]
  },
  {
   "cell_type": "markdown",
   "id": "7fe9ad46",
   "metadata": {},
   "source": [
    "Download and open our previously developed model for this dataset: Random Forest (see https://colab.research.google.com/github/fisher85/ml-cybersecurity/blob/master/python-web-attack-detection/web-attack-detection.ipynb)."
   ]
  },
  {
   "cell_type": "code",
   "execution_count": null,
   "id": "26215acb",
   "metadata": {},
   "outputs": [],
   "source": [
    "!wget https://github.com/fisher85/ml-cybersecurity/blob/master/python-web-attack-detection/webattack_detection_rf_model.pkl?raw=true -O webattack_detection_rf_model.pkl"
   ]
  },
  {
   "cell_type": "code",
   "execution_count": 17,
   "id": "35ebc9d6",
   "metadata": {},
   "outputs": [
    {
     "name": "stderr",
     "output_type": "stream",
     "text": [
      "C:\\ProgramData\\Anaconda3\\envs\\tf\\lib\\site-packages\\sklearn\\base.py:329: UserWarning: Trying to unpickle estimator DecisionTreeClassifier from version 0.23.2 when using version 1.0.2. This might lead to breaking code or invalid results. Use at your own risk. For more info please refer to:\n",
      "https://scikit-learn.org/stable/modules/model_persistence.html#security-maintainability-limitations\n",
      "  warnings.warn(\n",
      "C:\\ProgramData\\Anaconda3\\envs\\tf\\lib\\site-packages\\sklearn\\base.py:329: UserWarning: Trying to unpickle estimator RandomForestClassifier from version 0.23.2 when using version 1.0.2. This might lead to breaking code or invalid results. Use at your own risk. For more info please refer to:\n",
      "https://scikit-learn.org/stable/modules/model_persistence.html#security-maintainability-limitations\n",
      "  warnings.warn(\n"
     ]
    },
    {
     "data": {
      "text/plain": [
       "RandomForestClassifier(max_depth=17, max_features=10, min_samples_leaf=3,\n",
       "                       n_estimators=50, oob_score=True, random_state=42)"
      ]
     },
     "execution_count": 17,
     "metadata": {},
     "output_type": "execute_result"
    }
   ],
   "source": [
    "with open('webattack_detection_rf_model.pkl', 'rb') as f:\n",
    "    rfc = pickle.load(f)\n",
    "rfc"
   ]
  },
  {
   "cell_type": "markdown",
   "id": "3327a0cb",
   "metadata": {},
   "source": [
    "We use the final fold of data for comparison. Our Random Forest model does not need feature scaling and uses only selected features, so we need to get correct feature vectors."
   ]
  },
  {
   "cell_type": "code",
   "execution_count": 18,
   "id": "f8e4d339",
   "metadata": {},
   "outputs": [
    {
     "data": {
      "text/html": [
       "<div>\n",
       "<style scoped>\n",
       "    .dataframe tbody tr th:only-of-type {\n",
       "        vertical-align: middle;\n",
       "    }\n",
       "\n",
       "    .dataframe tbody tr th {\n",
       "        vertical-align: top;\n",
       "    }\n",
       "\n",
       "    .dataframe thead th {\n",
       "        text-align: right;\n",
       "    }\n",
       "</style>\n",
       "<table border=\"1\" class=\"dataframe\">\n",
       "  <thead>\n",
       "    <tr style=\"text-align: right;\">\n",
       "      <th></th>\n",
       "      <th>Average Packet Size</th>\n",
       "      <th>Flow Bytes/s</th>\n",
       "      <th>Max Packet Length</th>\n",
       "      <th>Fwd IAT Min</th>\n",
       "      <th>Fwd Packet Length Mean</th>\n",
       "      <th>Total Length of Fwd Packets</th>\n",
       "      <th>Flow IAT Mean</th>\n",
       "      <th>Fwd IAT Std</th>\n",
       "      <th>Fwd Packet Length Max</th>\n",
       "      <th>Fwd Header Length</th>\n",
       "    </tr>\n",
       "  </thead>\n",
       "  <tbody>\n",
       "    <tr>\n",
       "      <th>5</th>\n",
       "      <td>80.000000</td>\n",
       "      <td>1.550562e+06</td>\n",
       "      <td>94.0</td>\n",
       "      <td>2.0</td>\n",
       "      <td>44.000000</td>\n",
       "      <td>88.0</td>\n",
       "      <td>5.933333e+01</td>\n",
       "      <td>0.000000e+00</td>\n",
       "      <td>44.0</td>\n",
       "      <td>64.0</td>\n",
       "    </tr>\n",
       "    <tr>\n",
       "      <th>6</th>\n",
       "      <td>73.000000</td>\n",
       "      <td>1.093220e+06</td>\n",
       "      <td>95.0</td>\n",
       "      <td>1.0</td>\n",
       "      <td>34.000000</td>\n",
       "      <td>68.0</td>\n",
       "      <td>7.866667e+01</td>\n",
       "      <td>0.000000e+00</td>\n",
       "      <td>34.0</td>\n",
       "      <td>64.0</td>\n",
       "    </tr>\n",
       "    <tr>\n",
       "      <th>7</th>\n",
       "      <td>80.750000</td>\n",
       "      <td>1.371981e+06</td>\n",
       "      <td>103.0</td>\n",
       "      <td>3.0</td>\n",
       "      <td>39.000000</td>\n",
       "      <td>78.0</td>\n",
       "      <td>6.900000e+01</td>\n",
       "      <td>0.000000e+00</td>\n",
       "      <td>39.0</td>\n",
       "      <td>0.0</td>\n",
       "    </tr>\n",
       "    <tr>\n",
       "      <th>8</th>\n",
       "      <td>51.000000</td>\n",
       "      <td>1.095412e+01</td>\n",
       "      <td>48.0</td>\n",
       "      <td>1992982.0</td>\n",
       "      <td>48.000000</td>\n",
       "      <td>384.0</td>\n",
       "      <td>4.674038e+06</td>\n",
       "      <td>2.120000e+07</td>\n",
       "      <td>48.0</td>\n",
       "      <td>152.0</td>\n",
       "    </tr>\n",
       "    <tr>\n",
       "      <th>9</th>\n",
       "      <td>93.000000</td>\n",
       "      <td>6.200000e+07</td>\n",
       "      <td>62.0</td>\n",
       "      <td>2.0</td>\n",
       "      <td>62.000000</td>\n",
       "      <td>124.0</td>\n",
       "      <td>2.000000e+00</td>\n",
       "      <td>0.000000e+00</td>\n",
       "      <td>62.0</td>\n",
       "      <td>40.0</td>\n",
       "    </tr>\n",
       "    <tr>\n",
       "      <th>...</th>\n",
       "      <td>...</td>\n",
       "      <td>...</td>\n",
       "      <td>...</td>\n",
       "      <td>...</td>\n",
       "      <td>...</td>\n",
       "      <td>...</td>\n",
       "      <td>...</td>\n",
       "      <td>...</td>\n",
       "      <td>...</td>\n",
       "      <td>...</td>\n",
       "    </tr>\n",
       "    <tr>\n",
       "      <th>7260</th>\n",
       "      <td>199.769231</td>\n",
       "      <td>1.530294e+04</td>\n",
       "      <td>1662.0</td>\n",
       "      <td>1.0</td>\n",
       "      <td>295.571429</td>\n",
       "      <td>4138.0</td>\n",
       "      <td>1.357648e+04</td>\n",
       "      <td>7.720461e+04</td>\n",
       "      <td>1662.0</td>\n",
       "      <td>304.0</td>\n",
       "    </tr>\n",
       "    <tr>\n",
       "      <th>7261</th>\n",
       "      <td>98.000000</td>\n",
       "      <td>2.811810e+03</td>\n",
       "      <td>84.0</td>\n",
       "      <td>0.0</td>\n",
       "      <td>56.000000</td>\n",
       "      <td>56.0</td>\n",
       "      <td>4.979000e+04</td>\n",
       "      <td>0.000000e+00</td>\n",
       "      <td>56.0</td>\n",
       "      <td>32.0</td>\n",
       "    </tr>\n",
       "    <tr>\n",
       "      <th>7262</th>\n",
       "      <td>9.000000</td>\n",
       "      <td>2.142857e+05</td>\n",
       "      <td>6.0</td>\n",
       "      <td>0.0</td>\n",
       "      <td>6.000000</td>\n",
       "      <td>6.0</td>\n",
       "      <td>5.600000e+01</td>\n",
       "      <td>0.000000e+00</td>\n",
       "      <td>6.0</td>\n",
       "      <td>20.0</td>\n",
       "    </tr>\n",
       "    <tr>\n",
       "      <th>7264</th>\n",
       "      <td>0.000000</td>\n",
       "      <td>0.000000e+00</td>\n",
       "      <td>0.0</td>\n",
       "      <td>0.0</td>\n",
       "      <td>0.000000</td>\n",
       "      <td>0.0</td>\n",
       "      <td>8.400000e+01</td>\n",
       "      <td>0.000000e+00</td>\n",
       "      <td>0.0</td>\n",
       "      <td>32.0</td>\n",
       "    </tr>\n",
       "    <tr>\n",
       "      <th>7265</th>\n",
       "      <td>9.000000</td>\n",
       "      <td>1.395349e+05</td>\n",
       "      <td>6.0</td>\n",
       "      <td>0.0</td>\n",
       "      <td>6.000000</td>\n",
       "      <td>6.0</td>\n",
       "      <td>8.600000e+01</td>\n",
       "      <td>0.000000e+00</td>\n",
       "      <td>6.0</td>\n",
       "      <td>20.0</td>\n",
       "    </tr>\n",
       "  </tbody>\n",
       "</table>\n",
       "<p>3633 rows × 10 columns</p>\n",
       "</div>"
      ],
      "text/plain": [
       "      Average Packet Size  Flow Bytes/s  Max Packet Length  Fwd IAT Min  \\\n",
       "5               80.000000  1.550562e+06               94.0          2.0   \n",
       "6               73.000000  1.093220e+06               95.0          1.0   \n",
       "7               80.750000  1.371981e+06              103.0          3.0   \n",
       "8               51.000000  1.095412e+01               48.0    1992982.0   \n",
       "9               93.000000  6.200000e+07               62.0          2.0   \n",
       "...                   ...           ...                ...          ...   \n",
       "7260           199.769231  1.530294e+04             1662.0          1.0   \n",
       "7261            98.000000  2.811810e+03               84.0          0.0   \n",
       "7262             9.000000  2.142857e+05                6.0          0.0   \n",
       "7264             0.000000  0.000000e+00                0.0          0.0   \n",
       "7265             9.000000  1.395349e+05                6.0          0.0   \n",
       "\n",
       "      Fwd Packet Length Mean  Total Length of Fwd Packets  Flow IAT Mean  \\\n",
       "5                  44.000000                         88.0   5.933333e+01   \n",
       "6                  34.000000                         68.0   7.866667e+01   \n",
       "7                  39.000000                         78.0   6.900000e+01   \n",
       "8                  48.000000                        384.0   4.674038e+06   \n",
       "9                  62.000000                        124.0   2.000000e+00   \n",
       "...                      ...                          ...            ...   \n",
       "7260              295.571429                       4138.0   1.357648e+04   \n",
       "7261               56.000000                         56.0   4.979000e+04   \n",
       "7262                6.000000                          6.0   5.600000e+01   \n",
       "7264                0.000000                          0.0   8.400000e+01   \n",
       "7265                6.000000                          6.0   8.600000e+01   \n",
       "\n",
       "       Fwd IAT Std  Fwd Packet Length Max  Fwd Header Length  \n",
       "5     0.000000e+00                   44.0               64.0  \n",
       "6     0.000000e+00                   34.0               64.0  \n",
       "7     0.000000e+00                   39.0                0.0  \n",
       "8     2.120000e+07                   48.0              152.0  \n",
       "9     0.000000e+00                   62.0               40.0  \n",
       "...            ...                    ...                ...  \n",
       "7260  7.720461e+04                 1662.0              304.0  \n",
       "7261  0.000000e+00                   56.0               32.0  \n",
       "7262  0.000000e+00                    6.0               20.0  \n",
       "7264  0.000000e+00                    0.0               32.0  \n",
       "7265  0.000000e+00                    6.0               20.0  \n",
       "\n",
       "[3633 rows x 10 columns]"
      ]
     },
     "execution_count": 18,
     "metadata": {},
     "output_type": "execute_result"
    }
   ],
   "source": [
    "columns = ['Average Packet Size', 'Flow Bytes/s', 'Max Packet Length', 'Fwd IAT Min',\n",
    "           'Fwd Packet Length Mean', 'Total Length of Fwd Packets', 'Flow IAT Mean',\n",
    "           'Fwd IAT Std', 'Fwd Packet Length Max', 'Fwd Header Length']\n",
    "X_test = X.iloc[test_index]\n",
    "X_test = X_test[columns]\n",
    "X_test"
   ]
  },
  {
   "cell_type": "markdown",
   "id": "db740a1e",
   "metadata": {},
   "source": [
    "Transform categorical labels into numeric form with simple lable encoding."
   ]
  },
  {
   "cell_type": "code",
   "execution_count": 19,
   "id": "b34827da",
   "metadata": {},
   "outputs": [
    {
     "data": {
      "text/plain": [
       "array([0, 0, 0, ..., 0, 0, 0], dtype=int64)"
      ]
     },
     "execution_count": 19,
     "metadata": {},
     "output_type": "execute_result"
    }
   ],
   "source": [
    "def encode_label(x):\n",
    "    if x == 'BENIGN':\n",
    "        return 0\n",
    "    elif 'Brute Force' in x:\n",
    "        return 1\n",
    "    elif 'Sql Injection' in x:\n",
    "        return 2\n",
    "    else:\n",
    "        return 3\n",
    "\n",
    "y_test = y_test.apply(encode_label).values\n",
    "y_test"
   ]
  },
  {
   "cell_type": "markdown",
   "id": "0749258d",
   "metadata": {},
   "source": [
    "Get Random Forest model's evaluation metrics for the final fold of data."
   ]
  },
  {
   "cell_type": "code",
   "execution_count": 20,
   "id": "00e65c3b",
   "metadata": {},
   "outputs": [
    {
     "name": "stdout",
     "output_type": "stream",
     "text": [
      "Accuracy = 0.7134599504541701\n",
      "Precision = 0.6273058723063384\n",
      "Recall = 0.7134599504541701\n",
      "F1 = 0.6297438802232694\n",
      "\n",
      "Confusion matrix:\n",
      " [[2478   65    0    0]\n",
      " [ 640  114    0    0]\n",
      " [   6    4    0    0]\n",
      " [ 317    9    0    0]]\n"
     ]
    },
    {
     "name": "stderr",
     "output_type": "stream",
     "text": [
      "C:\\ProgramData\\Anaconda3\\envs\\tf\\lib\\site-packages\\sklearn\\base.py:443: UserWarning: X has feature names, but RandomForestClassifier was fitted without feature names\n",
      "  warnings.warn(\n",
      "C:\\ProgramData\\Anaconda3\\envs\\tf\\lib\\site-packages\\sklearn\\metrics\\_classification.py:1318: UndefinedMetricWarning: Precision is ill-defined and being set to 0.0 in labels with no predicted samples. Use `zero_division` parameter to control this behavior.\n",
      "  _warn_prf(average, modifier, msg_start, len(result))\n"
     ]
    }
   ],
   "source": [
    "y_eval = y_test\n",
    "\n",
    "y_pred = rfc.predict(X_test)\n",
    "#y_pred = np.argmax(y_pred, axis=1)\n",
    "#y_eval = np.argmax(y_test_encoded, axis=1)\n",
    "        \n",
    "accuracy_rfc = metrics.accuracy_score(y_eval, y_pred)\n",
    "precision_rfc = metrics.precision_score(y_eval, y_pred, average='weighted')\n",
    "recall_rfc = metrics.recall_score(y_eval, y_pred, average='weighted')\n",
    "f1_rfc = metrics.f1_score(y_eval, y_pred, average='weighted')\n",
    "\n",
    "print('Accuracy =', accuracy_rfc)\n",
    "print('Precision =', precision_rfc)\n",
    "print('Recall =', recall_rfc)\n",
    "print('F1 =', f1_rfc)\n",
    "\n",
    "confusion_matrix_rfc = metrics.confusion_matrix(y_eval, y_pred)\n",
    "confusion_matrix_rfc\n",
    "\n",
    "print('\\nConfusion matrix:\\n', confusion_matrix_rfc)"
   ]
  },
  {
   "cell_type": "markdown",
   "id": "47838c2f",
   "metadata": {},
   "source": [
    "Finally, compare evaluation metrics for Random Forest and CNN-BiLSTM models."
   ]
  },
  {
   "cell_type": "code",
   "execution_count": 24,
   "id": "d383cab4",
   "metadata": {},
   "outputs": [
    {
     "data": {
      "image/png": "[encoded data removed]",
      "text/plain": [
       "<Figure size 1080x648 with 1 Axes>"
      ]
     },
     "metadata": {
      "needs_background": "light"
     },
     "output_type": "display_data"
    }
   ],
   "source": [
    "# Visualizing the data with multiple bar chart.\n",
    "plt.figure(figsize=[15, 9])\n",
    "\n",
    "comparison_frame = pd.DataFrame(\n",
    "    {'CNN-BiLSTM': [accuracy, precision, recall, f1],\n",
    "        'Random Forest': [accuracy_rfc, precision_rfc, recall_rfc, f1_rfc]},\n",
    "    index=['Accuracy', 'Precision', 'Recall', 'F1'])\n",
    "\n",
    "# Set the width of the bars.\n",
    "wd = 0.3\n",
    "x_pos = np.arange(1, 2*len(comparison_frame), 2)\n",
    "\n",
    "# Plotting the multiple bar graphs on the same figure.\n",
    "plt.bar(x_pos, comparison_frame['CNN-BiLSTM'], color='r', width=wd, edgecolor='k',\n",
    "        label='CNN-BiLSTM')\n",
    "plt.bar(x_pos+wd, comparison_frame['Random Forest'], color='y', width=wd, edgecolor='k',\n",
    "        label='Random Forest')\n",
    "\n",
    "# Add ticks, title, legend.\n",
    "plt.xticks(x_pos+wd, comparison_frame.index.values, fontsize=15)\n",
    "plt.yticks(fontsize=15)\n",
    "plt.xlabel('Metric', fontsize=17)\n",
    "plt.ylabel('Value', fontsize=17)\n",
    "plt.title(\n",
    "    \"Performance comparison of CNN-BiLSTM and Random Forest models.\", fontsize=20)\n",
    "plt.legend(loc='upper center', fontsize=12)\n",
    "\n",
    "plt.show()"
   ]
  },
  {
   "cell_type": "code",
   "execution_count": null,
   "id": "cf5375c2",
   "metadata": {},
   "outputs": [],
   "source": []
  }
 ],
 "metadata": {
  "kernelspec": {
   "display_name": "Python 3 (ipykernel)",
   "language": "python",
   "name": "python3"
  },
  "language_info": {
   "codemirror_mode": {
    "name": "ipython",
    "version": 3
   },
   "file_extension": ".py",
   "mimetype": "text/x-python",
   "name": "python",
   "nbconvert_exporter": "python",
   "pygments_lexer": "ipython3",
   "version": "3.9.7"
  }
 },
 "nbformat": 4,
 "nbformat_minor": 5
}
