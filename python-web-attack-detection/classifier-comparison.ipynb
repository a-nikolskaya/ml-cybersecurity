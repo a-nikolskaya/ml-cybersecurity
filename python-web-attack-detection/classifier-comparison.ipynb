{
 "cells": [
  {
   "cell_type": "markdown",
   "metadata": {
    "id": "tGLYJuXmFBZI"
   },
   "source": [
    "# Classifier comparison"
   ]
  },
  {
   "cell_type": "markdown",
   "metadata": {
    "id": "sNPL1uYLFF1U"
   },
   "source": [
    "A comparison of a several classifiers on CICIDS2017 webattacks dataset.\n",
    "\n",
    "Sources:\n",
    "\n",
    "* CICIDS2017: https://www.unb.ca/cic/datasets/ids-2017.html\n",
    "* Scikit-learn demo: https://scikit-learn.org/stable/auto_examples/classification/plot_classifier_comparison.html\n",
    "* Overview of classification metrics: http://www.machinelearning.ru/wiki/images/d/de/Voron-ML-Quality-slides.pdf"
   ]
  },
  {
   "cell_type": "markdown",
   "metadata": {
    "id": "SCEkDfpOFPQX"
   },
   "source": [
    "## Reading and preparing data\n",
    "\n",
    "Read undersampled (balanced) and preprocessed data."
   ]
  },
  {
   "cell_type": "code",
   "execution_count": 1,
   "metadata": {
    "id": "hJVAToeYFV2Q"
   },
   "outputs": [],
   "source": [
    "import pandas as pd\n",
    "import numpy as np\n",
    "df = pd.read_csv('web_attacks_balanced.csv')"
   ]
  },
  {
   "cell_type": "markdown",
   "metadata": {
    "id": "mY251UVouePR"
   },
   "source": [
    "The \"Label\" column is encoded as follows: \"BENIGN\" = 0, attack = 1."
   ]
  },
  {
   "cell_type": "code",
   "execution_count": 2,
   "metadata": {
    "colab": {
     "base_uri": "https://localhost:8080/",
     "height": 34
    },
    "id": "a-FDOBmOufo6",
    "outputId": "8ba70aa2-818b-48d5-a74b-9a5ddf0b76f7"
   },
   "outputs": [],
   "source": [
    "df['Label'] = df['Label'].apply(lambda x: 0 if x == 'BENIGN' else 1)\n",
    "y = df['Label'].values"
   ]
  },
  {
   "cell_type": "markdown",
   "metadata": {
    "id": "3P69z9kfupES"
   },
   "source": [
    "Select the features."
   ]
  },
  {
   "cell_type": "code",
   "execution_count": 3,
   "metadata": {},
   "outputs": [],
   "source": [
    "webattack_features = ['Average Packet Size', 'Flow Bytes/s', 'Max Packet Length', 'Packet Length Mean', \n",
    "                      'Fwd Packet Length Mean', 'Subflow Fwd Bytes', 'Fwd IAT Min', 'Avg Fwd Segment Size',\n",
    "                      'Total Length of Fwd Packets', 'Fwd IAT Std', 'Fwd Packet Length Max', 'Flow IAT Mean',\n",
    "                      'Fwd Header Length', 'Flow Duration', 'Flow Packets/s', 'Fwd IAT Mean',\n",
    "                      'Fwd IAT Total', 'Fwd Packets/s', 'Flow IAT Std', 'Fwd IAT Max']"
   ]
  },
  {
   "cell_type": "code",
   "execution_count": 4,
   "metadata": {
    "colab": {
     "base_uri": "https://localhost:8080/",
     "height": 34
    },
    "id": "vrwIysyAhKxI",
    "outputId": "6be7974a-d713-4c89-b147-8b8cebb7fba7"
   },
   "outputs": [
    {
     "name": "stdout",
     "output_type": "stream",
     "text": [
      "(7267, 20) (7267,)\n"
     ]
    }
   ],
   "source": [
    "X = df[webattack_features]\n",
    "print(X.shape, y.shape)"
   ]
  },
  {
   "cell_type": "code",
   "execution_count": 5,
   "metadata": {},
   "outputs": [
    {
     "data": {
      "text/plain": [
       "{0: 5087, 1: 2180}"
      ]
     },
     "execution_count": 5,
     "metadata": {},
     "output_type": "execute_result"
    }
   ],
   "source": [
    "from sklearn.model_selection import train_test_split\n",
    "X_train, X_test, y_train, y_test = train_test_split(X, y, test_size=0, random_state=42)\n",
    "\n",
    "unique, counts = np.unique(y_train, return_counts=True)\n",
    "dict(zip(unique, counts))"
   ]
  },
  {
   "cell_type": "code",
   "execution_count": 6,
   "metadata": {},
   "outputs": [
    {
     "data": {
      "text/html": [
       "<div>\n",
       "<style scoped>\n",
       "    .dataframe tbody tr th:only-of-type {\n",
       "        vertical-align: middle;\n",
       "    }\n",
       "\n",
       "    .dataframe tbody tr th {\n",
       "        vertical-align: top;\n",
       "    }\n",
       "\n",
       "    .dataframe thead th {\n",
       "        text-align: right;\n",
       "    }\n",
       "</style>\n",
       "<table border=\"1\" class=\"dataframe\">\n",
       "  <thead>\n",
       "    <tr style=\"text-align: right;\">\n",
       "      <th></th>\n",
       "      <th>Average Packet Size</th>\n",
       "      <th>Flow Bytes/s</th>\n",
       "      <th>Max Packet Length</th>\n",
       "      <th>Packet Length Mean</th>\n",
       "      <th>Fwd Packet Length Mean</th>\n",
       "      <th>Subflow Fwd Bytes</th>\n",
       "      <th>Fwd IAT Min</th>\n",
       "      <th>Avg Fwd Segment Size</th>\n",
       "      <th>Total Length of Fwd Packets</th>\n",
       "      <th>Fwd IAT Std</th>\n",
       "      <th>Fwd Packet Length Max</th>\n",
       "      <th>Flow IAT Mean</th>\n",
       "      <th>Fwd Header Length</th>\n",
       "      <th>Flow Duration</th>\n",
       "      <th>Flow Packets/s</th>\n",
       "      <th>Fwd IAT Mean</th>\n",
       "      <th>Fwd IAT Total</th>\n",
       "      <th>Fwd Packets/s</th>\n",
       "      <th>Flow IAT Std</th>\n",
       "      <th>Fwd IAT Max</th>\n",
       "    </tr>\n",
       "  </thead>\n",
       "  <tbody>\n",
       "    <tr>\n",
       "      <th>0</th>\n",
       "      <td>80.750000</td>\n",
       "      <td>3.635433e+03</td>\n",
       "      <td>103.0</td>\n",
       "      <td>64.6</td>\n",
       "      <td>39.0</td>\n",
       "      <td>78.0</td>\n",
       "      <td>3.0</td>\n",
       "      <td>39.0</td>\n",
       "      <td>78.0</td>\n",
       "      <td>0.0</td>\n",
       "      <td>39.0</td>\n",
       "      <td>2.604000e+04</td>\n",
       "      <td>64.0</td>\n",
       "      <td>78120.0</td>\n",
       "      <td>51.203277</td>\n",
       "      <td>3.0</td>\n",
       "      <td>3.0</td>\n",
       "      <td>25.601638</td>\n",
       "      <td>4.509654e+04</td>\n",
       "      <td>3.0</td>\n",
       "    </tr>\n",
       "    <tr>\n",
       "      <th>1</th>\n",
       "      <td>50.666667</td>\n",
       "      <td>1.003516e+01</td>\n",
       "      <td>48.0</td>\n",
       "      <td>48.0</td>\n",
       "      <td>48.0</td>\n",
       "      <td>432.0</td>\n",
       "      <td>1999848.0</td>\n",
       "      <td>48.0</td>\n",
       "      <td>432.0</td>\n",
       "      <td>20000000.0</td>\n",
       "      <td>48.0</td>\n",
       "      <td>5.064547e+06</td>\n",
       "      <td>204.0</td>\n",
       "      <td>86097296.0</td>\n",
       "      <td>0.209066</td>\n",
       "      <td>10700000.0</td>\n",
       "      <td>86000000.0</td>\n",
       "      <td>0.104533</td>\n",
       "      <td>1.430000e+07</td>\n",
       "      <td>59000000.0</td>\n",
       "    </tr>\n",
       "    <tr>\n",
       "      <th>2</th>\n",
       "      <td>48.000000</td>\n",
       "      <td>9.090909e+05</td>\n",
       "      <td>48.0</td>\n",
       "      <td>38.4</td>\n",
       "      <td>32.0</td>\n",
       "      <td>64.0</td>\n",
       "      <td>4.0</td>\n",
       "      <td>32.0</td>\n",
       "      <td>64.0</td>\n",
       "      <td>0.0</td>\n",
       "      <td>32.0</td>\n",
       "      <td>5.866667e+01</td>\n",
       "      <td>64.0</td>\n",
       "      <td>176.0</td>\n",
       "      <td>22727.272730</td>\n",
       "      <td>4.0</td>\n",
       "      <td>4.0</td>\n",
       "      <td>11363.636360</td>\n",
       "      <td>9.555278e+01</td>\n",
       "      <td>4.0</td>\n",
       "    </tr>\n",
       "    <tr>\n",
       "      <th>3</th>\n",
       "      <td>94.250000</td>\n",
       "      <td>2.000000e+06</td>\n",
       "      <td>112.0</td>\n",
       "      <td>75.4</td>\n",
       "      <td>51.0</td>\n",
       "      <td>102.0</td>\n",
       "      <td>3.0</td>\n",
       "      <td>51.0</td>\n",
       "      <td>102.0</td>\n",
       "      <td>0.0</td>\n",
       "      <td>51.0</td>\n",
       "      <td>5.433333e+01</td>\n",
       "      <td>64.0</td>\n",
       "      <td>163.0</td>\n",
       "      <td>24539.877300</td>\n",
       "      <td>3.0</td>\n",
       "      <td>3.0</td>\n",
       "      <td>12269.938650</td>\n",
       "      <td>5.536545e+01</td>\n",
       "      <td>3.0</td>\n",
       "    </tr>\n",
       "    <tr>\n",
       "      <th>4</th>\n",
       "      <td>80.000000</td>\n",
       "      <td>1.792208e+06</td>\n",
       "      <td>94.0</td>\n",
       "      <td>64.0</td>\n",
       "      <td>44.0</td>\n",
       "      <td>88.0</td>\n",
       "      <td>3.0</td>\n",
       "      <td>44.0</td>\n",
       "      <td>88.0</td>\n",
       "      <td>0.0</td>\n",
       "      <td>44.0</td>\n",
       "      <td>5.133333e+01</td>\n",
       "      <td>64.0</td>\n",
       "      <td>154.0</td>\n",
       "      <td>25974.025970</td>\n",
       "      <td>3.0</td>\n",
       "      <td>3.0</td>\n",
       "      <td>12987.012990</td>\n",
       "      <td>8.285127e+01</td>\n",
       "      <td>3.0</td>\n",
       "    </tr>\n",
       "  </tbody>\n",
       "</table>\n",
       "</div>"
      ],
      "text/plain": [
       "   Average Packet Size  Flow Bytes/s  Max Packet Length  Packet Length Mean  \\\n",
       "0            80.750000  3.635433e+03              103.0                64.6   \n",
       "1            50.666667  1.003516e+01               48.0                48.0   \n",
       "2            48.000000  9.090909e+05               48.0                38.4   \n",
       "3            94.250000  2.000000e+06              112.0                75.4   \n",
       "4            80.000000  1.792208e+06               94.0                64.0   \n",
       "\n",
       "   Fwd Packet Length Mean  Subflow Fwd Bytes  Fwd IAT Min  \\\n",
       "0                    39.0               78.0          3.0   \n",
       "1                    48.0              432.0    1999848.0   \n",
       "2                    32.0               64.0          4.0   \n",
       "3                    51.0              102.0          3.0   \n",
       "4                    44.0               88.0          3.0   \n",
       "\n",
       "   Avg Fwd Segment Size  Total Length of Fwd Packets  Fwd IAT Std  \\\n",
       "0                  39.0                         78.0          0.0   \n",
       "1                  48.0                        432.0   20000000.0   \n",
       "2                  32.0                         64.0          0.0   \n",
       "3                  51.0                        102.0          0.0   \n",
       "4                  44.0                         88.0          0.0   \n",
       "\n",
       "   Fwd Packet Length Max  Flow IAT Mean  Fwd Header Length  Flow Duration  \\\n",
       "0                   39.0   2.604000e+04               64.0        78120.0   \n",
       "1                   48.0   5.064547e+06              204.0     86097296.0   \n",
       "2                   32.0   5.866667e+01               64.0          176.0   \n",
       "3                   51.0   5.433333e+01               64.0          163.0   \n",
       "4                   44.0   5.133333e+01               64.0          154.0   \n",
       "\n",
       "   Flow Packets/s  Fwd IAT Mean  Fwd IAT Total  Fwd Packets/s  Flow IAT Std  \\\n",
       "0       51.203277           3.0            3.0      25.601638  4.509654e+04   \n",
       "1        0.209066    10700000.0     86000000.0       0.104533  1.430000e+07   \n",
       "2    22727.272730           4.0            4.0   11363.636360  9.555278e+01   \n",
       "3    24539.877300           3.0            3.0   12269.938650  5.536545e+01   \n",
       "4    25974.025970           3.0            3.0   12987.012990  8.285127e+01   \n",
       "\n",
       "   Fwd IAT Max  \n",
       "0          3.0  \n",
       "1   59000000.0  \n",
       "2          4.0  \n",
       "3          3.0  \n",
       "4          3.0  "
      ]
     },
     "execution_count": 6,
     "metadata": {},
     "output_type": "execute_result"
    }
   ],
   "source": [
    "X.head()"
   ]
  },
  {
   "cell_type": "markdown",
   "metadata": {
    "id": "Iiskwr3VmoL5"
   },
   "source": [
    "## Classifier comparison"
   ]
  },
  {
   "cell_type": "markdown",
   "metadata": {},
   "source": [
    "The operation may take a long time, 3-5 minutes depending on the computer performance."
   ]
  },
  {
   "cell_type": "code",
   "execution_count": 7,
   "metadata": {},
   "outputs": [
    {
     "name": "stdout",
     "output_type": "stream",
     "text": [
      "Model\tAcc\tPr\tRecall\tF1\tExecution\n",
      "KNN\t0.971\t0.942\t0.961\t0.969\t4.57 secs\n",
      "SVM\t0.705\t0.669\t0.036\t0.602\t176.04 secs\n",
      "CART\t0.976\t0.973\t0.946\t0.969\t1.47 secs\n",
      "RF\t0.975\t0.969\t0.936\t0.966\t1.12 secs\n",
      "ABoost\t0.978\t0.962\t0.965\t0.973\t23.40 secs\n",
      "LR\t0.955\t0.939\t0.914\t0.963\t15.80 secs\n",
      "NB\t0.722\t0.520\t0.956\t0.754\t0.47 secs\n",
      "LDA\t0.939\t0.921\t0.872\t0.941\t2.23 secs\n",
      "QDA\t0.872\t0.978\t0.597\t0.949\t1.28 secs\n",
      "MLP\t0.904\t0.921\t0.912\t0.776\t93.83 secs\n"
     ]
    }
   ],
   "source": [
    "import time\n",
    "import warnings\n",
    "warnings.filterwarnings(\"ignore\")\n",
    "\n",
    "from sklearn import model_selection\n",
    "from sklearn.model_selection import cross_val_score\n",
    "from sklearn.neighbors import KNeighborsClassifier\n",
    "from sklearn.svm import SVC\n",
    "from sklearn.tree import DecisionTreeClassifier\n",
    "from sklearn.ensemble import RandomForestClassifier\n",
    "from sklearn.ensemble import AdaBoostClassifier\n",
    "from sklearn.linear_model import LogisticRegression\n",
    "from sklearn.naive_bayes import GaussianNB\n",
    "from sklearn.discriminant_analysis import LinearDiscriminantAnalysis\n",
    "from sklearn.discriminant_analysis import QuadraticDiscriminantAnalysis\n",
    "from sklearn.neural_network import MLPClassifier\n",
    "\n",
    "models = []\n",
    "models.append(('KNN', KNeighborsClassifier()))\n",
    "models.append(('SVM', SVC(gamma='auto')))\n",
    "models.append(('CART', DecisionTreeClassifier(max_depth=5)))\n",
    "models.append(('RF', RandomForestClassifier(max_depth=5, n_estimators=5, max_features=3)))    \n",
    "models.append(('ABoost', AdaBoostClassifier()))\n",
    "models.append(('LR', LogisticRegression(solver='lbfgs', max_iter=200)))\n",
    "models.append(('NB', GaussianNB()))\n",
    "models.append(('LDA', LinearDiscriminantAnalysis()))\n",
    "models.append(('QDA', QuadraticDiscriminantAnalysis()))\n",
    "models.append(('MLP', MLPClassifier()))\n",
    "\n",
    "print('Model\\tAcc\\tPr\\tRecall\\tF1\\tExecution')\n",
    "      \n",
    "for name, model in models:\n",
    "    start_time = time.time()\n",
    "    kfold = model_selection.KFold(n_splits=5, random_state=24)    \n",
    "\n",
    "    accuracy = cross_val_score(model, X_train, y_train, cv=kfold, scoring='accuracy').mean()\n",
    "    precision = cross_val_score(model, X_train, y_train, cv=kfold, scoring='precision').mean()\n",
    "    recall = cross_val_score(model, X_train, y_train, cv=kfold, scoring='recall').mean()\n",
    "    f1_score = cross_val_score(model, X, y, cv=kfold, scoring='f1_weighted').mean()\n",
    "    \n",
    "    delta = time.time() - start_time\n",
    "    print('{}\\t{:.3f}\\t{:.3f}\\t{:.3f}\\t{:.3f}\\t{:.2f} secs'.format(name, accuracy, precision, recall, f1_score, delta))"
   ]
  }
 ],
 "metadata": {
  "language_info": {
   "codemirror_mode": {
    "name": "ipython",
    "version": 3
   },
   "file_extension": ".py",
   "mimetype": "text/x-python",
   "name": "python",
   "nbconvert_exporter": "python",
   "pygments_lexer": "ipython3",
   "version": "3.7.3"
  }
 },
 "nbformat": 4,
 "nbformat_minor": 1
}
