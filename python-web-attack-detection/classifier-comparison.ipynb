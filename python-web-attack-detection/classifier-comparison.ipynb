{
 "cells": [
  {
   "cell_type": "markdown",
   "metadata": {
    "id": "tGLYJuXmFBZI"
   },
   "source": [
    "# Classifier comparison"
   ]
  },
  {
   "cell_type": "markdown",
   "metadata": {
    "id": "sNPL1uYLFF1U"
   },
   "source": [
    "A comparison of a several classifiers on CICIDS2017 webattacks dataset.\n",
    "\n",
    "Sources:\n",
    "\n",
    "* CICIDS2017: https://www.unb.ca/cic/datasets/ids-2017.html\n",
    "* Scikit-learn demo: https://scikit-learn.org/stable/auto_examples/classification/plot_classifier_comparison.html\n",
    "* Overview of classification metrics: http://www.machinelearning.ru/wiki/images/d/de/Voron-ML-Quality-slides.pdf"
   ]
  },
  {
   "cell_type": "markdown",
   "metadata": {
    "id": "SCEkDfpOFPQX"
   },
   "source": [
    "## Reading and preparing data\n",
    "\n",
    "Read undersampled (balanced) and preprocessed data."
   ]
  },
  {
   "cell_type": "code",
   "execution_count": 1,
   "metadata": {
    "id": "hJVAToeYFV2Q"
   },
   "outputs": [],
   "source": [
    "import pandas as pd\n",
    "import numpy as np"
   ]
  },
  {
   "cell_type": "code",
   "execution_count": 2,
   "metadata": {},
   "outputs": [],
   "source": [
    "!wget https://github.com/fisher85/ml-cybersecurity/blob/master/python-web-attack-detection/datasets/web_attacks_balanced.zip?raw=true -O web_attacks_balanced.zip\n",
    "!unzip -u web_attacks_balanced.zip\n",
    "df = pd.read_csv('web_attacks_balanced.csv')"
   ]
  },
  {
   "cell_type": "markdown",
   "metadata": {
    "id": "mY251UVouePR"
   },
   "source": [
    "The \"Label\" column is encoded as follows: \"BENIGN\" = 0, attack = 1."
   ]
  },
  {
   "cell_type": "code",
   "execution_count": 3,
   "metadata": {
    "colab": {
     "base_uri": "https://localhost:8080/",
     "height": 34
    },
    "id": "a-FDOBmOufo6",
    "outputId": "8ba70aa2-818b-48d5-a74b-9a5ddf0b76f7"
   },
   "outputs": [],
   "source": [
    "df['Label'] = df['Label'].apply(lambda x: 0 if x == 'BENIGN' else 1)\n",
    "y = df['Label'].values"
   ]
  },
  {
   "cell_type": "markdown",
   "metadata": {
    "id": "3P69z9kfupES"
   },
   "source": [
    "Select the features."
   ]
  },
  {
   "cell_type": "code",
   "execution_count": 4,
   "metadata": {},
   "outputs": [],
   "source": [
    "webattack_features = ['Average Packet Size', 'Flow Bytes/s', 'Max Packet Length', 'Packet Length Mean', \n",
    "                      'Fwd Packet Length Mean', 'Subflow Fwd Bytes', 'Fwd IAT Min', 'Avg Fwd Segment Size',\n",
    "                      'Total Length of Fwd Packets', 'Fwd IAT Std', 'Fwd Packet Length Max', 'Flow IAT Mean',\n",
    "                      'Fwd Header Length', 'Flow Duration', 'Flow Packets/s', 'Fwd IAT Mean',\n",
    "                      'Fwd IAT Total', 'Fwd Packets/s', 'Flow IAT Std', 'Fwd IAT Max']"
   ]
  },
  {
   "cell_type": "code",
   "execution_count": 5,
   "metadata": {
    "colab": {
     "base_uri": "https://localhost:8080/",
     "height": 34
    },
    "id": "vrwIysyAhKxI",
    "outputId": "6be7974a-d713-4c89-b147-8b8cebb7fba7"
   },
   "outputs": [
    {
     "name": "stdout",
     "output_type": "stream",
     "text": [
      "(7267, 20) (7267,)\n"
     ]
    }
   ],
   "source": [
    "X = df[webattack_features]\n",
    "print(X.shape, y.shape)"
   ]
  },
  {
   "cell_type": "code",
   "execution_count": 6,
   "metadata": {},
   "outputs": [
    {
     "data": {
      "text/plain": [
       "{0: 3556, 1: 1530}"
      ]
     },
     "execution_count": 6,
     "metadata": {},
     "output_type": "execute_result"
    }
   ],
   "source": [
    "from sklearn.model_selection import train_test_split\n",
    "X_train, X_test, y_train, y_test = train_test_split(X, y, test_size=0.3, random_state=42)\n",
    "\n",
    "unique, counts = np.unique(y_train, return_counts=True)\n",
    "dict(zip(unique, counts))"
   ]
  },
  {
   "cell_type": "code",
   "execution_count": 7,
   "metadata": {},
   "outputs": [
    {
     "data": {
      "text/html": [
       "<div>\n",
       "<style scoped>\n",
       "    .dataframe tbody tr th:only-of-type {\n",
       "        vertical-align: middle;\n",
       "    }\n",
       "\n",
       "    .dataframe tbody tr th {\n",
       "        vertical-align: top;\n",
       "    }\n",
       "\n",
       "    .dataframe thead th {\n",
       "        text-align: right;\n",
       "    }\n",
       "</style>\n",
       "<table border=\"1\" class=\"dataframe\">\n",
       "  <thead>\n",
       "    <tr style=\"text-align: right;\">\n",
       "      <th></th>\n",
       "      <th>Average Packet Size</th>\n",
       "      <th>Flow Bytes/s</th>\n",
       "      <th>Max Packet Length</th>\n",
       "      <th>Packet Length Mean</th>\n",
       "      <th>Fwd Packet Length Mean</th>\n",
       "      <th>Subflow Fwd Bytes</th>\n",
       "      <th>Fwd IAT Min</th>\n",
       "      <th>Avg Fwd Segment Size</th>\n",
       "      <th>Total Length of Fwd Packets</th>\n",
       "      <th>Fwd IAT Std</th>\n",
       "      <th>Fwd Packet Length Max</th>\n",
       "      <th>Flow IAT Mean</th>\n",
       "      <th>Fwd Header Length</th>\n",
       "      <th>Flow Duration</th>\n",
       "      <th>Flow Packets/s</th>\n",
       "      <th>Fwd IAT Mean</th>\n",
       "      <th>Fwd IAT Total</th>\n",
       "      <th>Fwd Packets/s</th>\n",
       "      <th>Flow IAT Std</th>\n",
       "      <th>Fwd IAT Max</th>\n",
       "    </tr>\n",
       "  </thead>\n",
       "  <tbody>\n",
       "    <tr>\n",
       "      <td>0</td>\n",
       "      <td>80.75</td>\n",
       "      <td>3.689366e+03</td>\n",
       "      <td>103.0</td>\n",
       "      <td>64.6</td>\n",
       "      <td>39.0</td>\n",
       "      <td>78.0</td>\n",
       "      <td>4.0</td>\n",
       "      <td>39.0</td>\n",
       "      <td>78.0</td>\n",
       "      <td>0.0</td>\n",
       "      <td>39.0</td>\n",
       "      <td>25659.333330</td>\n",
       "      <td>64.0</td>\n",
       "      <td>76978.0</td>\n",
       "      <td>51.962898</td>\n",
       "      <td>4.0</td>\n",
       "      <td>4.0</td>\n",
       "      <td>25.981449</td>\n",
       "      <td>44436.340820</td>\n",
       "      <td>4.0</td>\n",
       "    </tr>\n",
       "    <tr>\n",
       "      <td>1</td>\n",
       "      <td>80.75</td>\n",
       "      <td>3.635433e+03</td>\n",
       "      <td>103.0</td>\n",
       "      <td>64.6</td>\n",
       "      <td>39.0</td>\n",
       "      <td>78.0</td>\n",
       "      <td>3.0</td>\n",
       "      <td>39.0</td>\n",
       "      <td>78.0</td>\n",
       "      <td>0.0</td>\n",
       "      <td>39.0</td>\n",
       "      <td>26040.000000</td>\n",
       "      <td>64.0</td>\n",
       "      <td>78120.0</td>\n",
       "      <td>51.203277</td>\n",
       "      <td>3.0</td>\n",
       "      <td>3.0</td>\n",
       "      <td>25.601638</td>\n",
       "      <td>45096.540850</td>\n",
       "      <td>3.0</td>\n",
       "    </tr>\n",
       "    <tr>\n",
       "      <td>2</td>\n",
       "      <td>63.50</td>\n",
       "      <td>1.082927e+06</td>\n",
       "      <td>79.0</td>\n",
       "      <td>50.8</td>\n",
       "      <td>32.0</td>\n",
       "      <td>64.0</td>\n",
       "      <td>37.0</td>\n",
       "      <td>32.0</td>\n",
       "      <td>64.0</td>\n",
       "      <td>0.0</td>\n",
       "      <td>32.0</td>\n",
       "      <td>68.333333</td>\n",
       "      <td>64.0</td>\n",
       "      <td>205.0</td>\n",
       "      <td>19512.195120</td>\n",
       "      <td>37.0</td>\n",
       "      <td>37.0</td>\n",
       "      <td>9756.097561</td>\n",
       "      <td>83.530434</td>\n",
       "      <td>37.0</td>\n",
       "    </tr>\n",
       "    <tr>\n",
       "      <td>3</td>\n",
       "      <td>94.25</td>\n",
       "      <td>1.928994e+06</td>\n",
       "      <td>112.0</td>\n",
       "      <td>75.4</td>\n",
       "      <td>51.0</td>\n",
       "      <td>102.0</td>\n",
       "      <td>3.0</td>\n",
       "      <td>51.0</td>\n",
       "      <td>102.0</td>\n",
       "      <td>0.0</td>\n",
       "      <td>51.0</td>\n",
       "      <td>56.333333</td>\n",
       "      <td>64.0</td>\n",
       "      <td>169.0</td>\n",
       "      <td>23668.639050</td>\n",
       "      <td>3.0</td>\n",
       "      <td>3.0</td>\n",
       "      <td>11834.319530</td>\n",
       "      <td>91.511384</td>\n",
       "      <td>3.0</td>\n",
       "    </tr>\n",
       "    <tr>\n",
       "      <td>4</td>\n",
       "      <td>94.25</td>\n",
       "      <td>1.097643e+06</td>\n",
       "      <td>112.0</td>\n",
       "      <td>75.4</td>\n",
       "      <td>51.0</td>\n",
       "      <td>102.0</td>\n",
       "      <td>4.0</td>\n",
       "      <td>51.0</td>\n",
       "      <td>102.0</td>\n",
       "      <td>0.0</td>\n",
       "      <td>51.0</td>\n",
       "      <td>99.000000</td>\n",
       "      <td>64.0</td>\n",
       "      <td>297.0</td>\n",
       "      <td>13468.013470</td>\n",
       "      <td>4.0</td>\n",
       "      <td>4.0</td>\n",
       "      <td>6734.006734</td>\n",
       "      <td>90.415707</td>\n",
       "      <td>4.0</td>\n",
       "    </tr>\n",
       "  </tbody>\n",
       "</table>\n",
       "</div>"
      ],
      "text/plain": [
       "   Average Packet Size  Flow Bytes/s  Max Packet Length  Packet Length Mean  \\\n",
       "0                80.75  3.689366e+03              103.0                64.6   \n",
       "1                80.75  3.635433e+03              103.0                64.6   \n",
       "2                63.50  1.082927e+06               79.0                50.8   \n",
       "3                94.25  1.928994e+06              112.0                75.4   \n",
       "4                94.25  1.097643e+06              112.0                75.4   \n",
       "\n",
       "   Fwd Packet Length Mean  Subflow Fwd Bytes  Fwd IAT Min  \\\n",
       "0                    39.0               78.0          4.0   \n",
       "1                    39.0               78.0          3.0   \n",
       "2                    32.0               64.0         37.0   \n",
       "3                    51.0              102.0          3.0   \n",
       "4                    51.0              102.0          4.0   \n",
       "\n",
       "   Avg Fwd Segment Size  Total Length of Fwd Packets  Fwd IAT Std  \\\n",
       "0                  39.0                         78.0          0.0   \n",
       "1                  39.0                         78.0          0.0   \n",
       "2                  32.0                         64.0          0.0   \n",
       "3                  51.0                        102.0          0.0   \n",
       "4                  51.0                        102.0          0.0   \n",
       "\n",
       "   Fwd Packet Length Max  Flow IAT Mean  Fwd Header Length  Flow Duration  \\\n",
       "0                   39.0   25659.333330               64.0        76978.0   \n",
       "1                   39.0   26040.000000               64.0        78120.0   \n",
       "2                   32.0      68.333333               64.0          205.0   \n",
       "3                   51.0      56.333333               64.0          169.0   \n",
       "4                   51.0      99.000000               64.0          297.0   \n",
       "\n",
       "   Flow Packets/s  Fwd IAT Mean  Fwd IAT Total  Fwd Packets/s  Flow IAT Std  \\\n",
       "0       51.962898           4.0            4.0      25.981449  44436.340820   \n",
       "1       51.203277           3.0            3.0      25.601638  45096.540850   \n",
       "2    19512.195120          37.0           37.0    9756.097561     83.530434   \n",
       "3    23668.639050           3.0            3.0   11834.319530     91.511384   \n",
       "4    13468.013470           4.0            4.0    6734.006734     90.415707   \n",
       "\n",
       "   Fwd IAT Max  \n",
       "0          4.0  \n",
       "1          3.0  \n",
       "2         37.0  \n",
       "3          3.0  \n",
       "4          4.0  "
      ]
     },
     "execution_count": 7,
     "metadata": {},
     "output_type": "execute_result"
    }
   ],
   "source": [
    "X.head()"
   ]
  },
  {
   "cell_type": "markdown",
   "metadata": {
    "id": "Iiskwr3VmoL5"
   },
   "source": [
    "## Classifier comparison"
   ]
  },
  {
   "cell_type": "markdown",
   "metadata": {},
   "source": [
    "The operation may take a long time, 3-5 minutes depending on the computer performance."
   ]
  },
  {
   "cell_type": "code",
   "execution_count": 8,
   "metadata": {},
   "outputs": [
    {
     "name": "stdout",
     "output_type": "stream",
     "text": [
      "Model\tAcc\tPr\tRecall\tF1\tExecution\n",
      "KNN\t0.966\t0.936\t0.951\t0.969\t1.02 secs\n",
      "SVM\t0.703\t0.618\t0.032\t0.603\t46.60 secs\n",
      "CART\t0.965\t0.928\t0.957\t0.964\t0.54 secs\n",
      "RF\t0.968\t0.959\t0.911\t0.963\t0.42 secs\n",
      "ABoost\t0.974\t0.966\t0.947\t0.971\t8.02 secs\n",
      "LR\t0.956\t0.970\t0.880\t0.947\t3.14 secs\n",
      "NB\t0.735\t0.532\t0.990\t0.775\t0.20 secs\n",
      "LDA\t0.933\t0.909\t0.862\t0.940\t0.65 secs\n",
      "QDA\t0.866\t0.706\t0.656\t0.866\t0.21 secs\n",
      "MLP\t0.942\t0.874\t0.920\t0.964\t77.35 secs\n"
     ]
    }
   ],
   "source": [
    "import time\n",
    "import warnings\n",
    "warnings.filterwarnings(\"ignore\")\n",
    "\n",
    "from sklearn import model_selection\n",
    "from sklearn.model_selection import cross_val_score\n",
    "from sklearn.neighbors import KNeighborsClassifier\n",
    "from sklearn.svm import SVC\n",
    "from sklearn.tree import DecisionTreeClassifier\n",
    "from sklearn.ensemble import RandomForestClassifier\n",
    "from sklearn.ensemble import AdaBoostClassifier\n",
    "from sklearn.linear_model import LogisticRegression\n",
    "from sklearn.naive_bayes import GaussianNB\n",
    "from sklearn.discriminant_analysis import LinearDiscriminantAnalysis\n",
    "from sklearn.discriminant_analysis import QuadraticDiscriminantAnalysis\n",
    "from sklearn.neural_network import MLPClassifier\n",
    "\n",
    "models = []\n",
    "models.append(('KNN', KNeighborsClassifier()))\n",
    "models.append(('SVM', SVC(gamma='auto')))\n",
    "models.append(('CART', DecisionTreeClassifier(max_depth=5)))\n",
    "models.append(('RF', RandomForestClassifier(max_depth=5, n_estimators=5, max_features=3)))    \n",
    "models.append(('ABoost', AdaBoostClassifier()))\n",
    "models.append(('LR', LogisticRegression(solver='lbfgs', max_iter=200)))\n",
    "models.append(('NB', GaussianNB()))\n",
    "models.append(('LDA', LinearDiscriminantAnalysis()))\n",
    "models.append(('QDA', QuadraticDiscriminantAnalysis()))\n",
    "models.append(('MLP', MLPClassifier()))\n",
    "\n",
    "print('Model\\tAcc\\tPr\\tRecall\\tF1\\tExecution')\n",
    "      \n",
    "for name, model in models:\n",
    "    start_time = time.time()\n",
    "    kfold = model_selection.KFold(n_splits=5, random_state=24)    \n",
    "\n",
    "    accuracy = cross_val_score(model, X_train, y_train, cv=kfold, scoring='accuracy').mean()\n",
    "    precision = cross_val_score(model, X_train, y_train, cv=kfold, scoring='precision').mean()\n",
    "    recall = cross_val_score(model, X_train, y_train, cv=kfold, scoring='recall').mean()\n",
    "    f1_score = cross_val_score(model, X, y, cv=kfold, scoring='f1_weighted').mean()\n",
    "    \n",
    "    delta = time.time() - start_time\n",
    "    print('{}\\t{:.3f}\\t{:.3f}\\t{:.3f}\\t{:.3f}\\t{:.2f} secs'.format(name, accuracy, precision, recall, f1_score, delta))"
   ]
  }
 ],
 "metadata": {
  "kernelspec": {
   "display_name": "Python 3",
   "language": "python",
   "name": "python3"
  },
  "language_info": {
   "codemirror_mode": {
    "name": "ipython",
    "version": 3
   },
   "file_extension": ".py",
   "mimetype": "text/x-python",
   "name": "python",
   "nbconvert_exporter": "python",
   "pygments_lexer": "ipython3",
   "version": "3.7.4"
  }
 },
 "nbformat": 4,
 "nbformat_minor": 1
}
