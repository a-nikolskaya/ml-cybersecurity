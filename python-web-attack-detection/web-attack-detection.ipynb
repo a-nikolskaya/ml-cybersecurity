{
 "cells": [
  {
   "cell_type": "markdown",
   "metadata": {},
   "source": [
    "# Web attack detection using CICIDS2017 dataset"
   ]
  },
  {
   "cell_type": "markdown",
   "metadata": {},
   "source": [
    "Training data: \"Intrusion Detection Evaluation Dataset\" (CICIDS2017). Description page: https://www.unb.ca/cic/datasets/ids-2017.html\n",
    "\n",
    "The data set is public. Download link: http://205.174.165.80/CICDataset/CIC-IDS-2017/Dataset/\n",
    "\n",
    "CICIDS2017 combines 8 files recorded on different days of observation (PCAP + CSV). Used archive: http://205.174.165.80/CICDataset/CIC-IDS-2017/Dataset/GeneratedLabelledFlows.zip\n",
    "\n",
    "In the downloaded archive GeneratedLabelledFlows.zip the file \"Thursday\" Thursday-WorkingHours-Morning-WebAttacks.pcap_ISCX.csv is selected.\n",
    "\n",
    "Sources:\n",
    "\n",
    "* [Sharafaldin2018] Iman Sharafaldin, Arash Habibi Lashkari and Ali A. Ghorbani. Toward Generating a New Intrusion Detection Dataset and Intrusion Traffic Characterization. 2018\n",
    "* [Kostas2018] Kahraman Kostas. Anomaly Detection in Networks Using Machine Learning. 2018 (error was found in assessing the importance of features)\n",
    "* https://github.com/bozbil/Anomaly-Detection-in-Networks-Using-Machine-Learning (error was found in assessing the importance of features)"
   ]
  },
  {
   "cell_type": "markdown",
   "metadata": {},
   "source": [
    "## Data preprocessing\n",
    "\n",
    "Source: https://github.com/bozbil/Anomaly-Detection-in-Networks-Using-Machine-Learning/blob/master/01_preprocessing.ipynb [Kostas2018]."
   ]
  },
  {
   "cell_type": "code",
   "execution_count": 1,
   "metadata": {},
   "outputs": [],
   "source": [
    "import pandas as pd\n",
    "import numpy as np\n",
    "from sklearn import preprocessing\n",
    "import matplotlib.pyplot as plt\n",
    "%matplotlib inline"
   ]
  },
  {
   "cell_type": "markdown",
   "metadata": {},
   "source": [
    "We use \"engine=python\" to avoid the \"UnicodeDecodeError: 'utf-8' codec can't decode byte 0x96 in position 11: invalid start byte\" encoding error."
   ]
  },
  {
   "cell_type": "code",
   "execution_count": 2,
   "metadata": {},
   "outputs": [],
   "source": [
    "df = pd.read_csv('Thursday-WorkingHours-Morning-WebAttacks.pcap_ISCX.csv', engine='python')"
   ]
  },
  {
   "cell_type": "markdown",
   "metadata": {},
   "source": [
    "Thursday-WorkingHours-Morning-WebAttacks.pcap_ISCX.csv file contains 458968 records, 85 columns."
   ]
  },
  {
   "cell_type": "code",
   "execution_count": 3,
   "metadata": {},
   "outputs": [
    {
     "data": {
      "text/plain": [
       "(458968, 85)"
      ]
     },
     "execution_count": 3,
     "metadata": {},
     "output_type": "execute_result"
    }
   ],
   "source": [
    "df.shape"
   ]
  },
  {
   "cell_type": "markdown",
   "metadata": {},
   "source": [
    "The columns \"Fwd Header Length\" and \"Fwd Header Length.1\" are identical, the second one is removed, 84 columns remain."
   ]
  },
  {
   "cell_type": "code",
   "execution_count": 4,
   "metadata": {},
   "outputs": [
    {
     "data": {
      "text/plain": [
       "(458968, 84)"
      ]
     },
     "execution_count": 4,
     "metadata": {},
     "output_type": "execute_result"
    }
   ],
   "source": [
    "df.columns = df.columns.str.strip()\n",
    "df = df.drop(columns=['Fwd Header Length.1'])\n",
    "df.shape"
   ]
  },
  {
   "cell_type": "markdown",
   "metadata": {},
   "source": [
    "When assessing the distribution of labels, it turns out that out of 458968 records there are many blank records (\"BENIGN\" - benign background traffic)."
   ]
  },
  {
   "cell_type": "code",
   "execution_count": 5,
   "metadata": {},
   "outputs": [
    {
     "data": {
      "text/plain": [
       "array(['BENIGN', 'Web Attack – Brute Force', 'Web Attack – XSS',\n",
       "       'Web Attack – Sql Injection', nan], dtype=object)"
      ]
     },
     "execution_count": 5,
     "metadata": {},
     "output_type": "execute_result"
    }
   ],
   "source": [
    "df['Label'].unique()"
   ]
  },
  {
   "cell_type": "code",
   "execution_count": 6,
   "metadata": {},
   "outputs": [
    {
     "data": {
      "text/plain": [
       "BENIGN                        168186\n",
       "Web Attack – Brute Force        1507\n",
       "Web Attack – XSS                 652\n",
       "Web Attack – Sql Injection        21\n",
       "Name: Label, dtype: int64"
      ]
     },
     "execution_count": 6,
     "metadata": {},
     "output_type": "execute_result"
    }
   ],
   "source": [
    "df['Label'].value_counts()"
   ]
  },
  {
   "cell_type": "markdown",
   "metadata": {},
   "source": [
    "Delete blank records."
   ]
  },
  {
   "cell_type": "code",
   "execution_count": 7,
   "metadata": {},
   "outputs": [
    {
     "data": {
      "text/plain": [
       "(170366, 84)"
      ]
     },
     "execution_count": 7,
     "metadata": {},
     "output_type": "execute_result"
    }
   ],
   "source": [
    "df = df.drop(df[pd.isnull(df['Flow ID'])].index)\n",
    "df.shape"
   ]
  },
  {
   "cell_type": "markdown",
   "metadata": {},
   "source": [
    "Replace the NaN values with zeros."
   ]
  },
  {
   "cell_type": "code",
   "execution_count": 8,
   "metadata": {},
   "outputs": [],
   "source": [
    "df.fillna(0, inplace=True)"
   ]
  },
  {
   "cell_type": "markdown",
   "metadata": {},
   "source": [
    "The \"Flow Bytes/s\" and \"Flow Packets/s\" columns have non-numerical values, replace them."
   ]
  },
  {
   "cell_type": "code",
   "execution_count": 9,
   "metadata": {},
   "outputs": [],
   "source": [
    "df = df.replace('Infinity', -1)\n",
    "df[[\"Flow Bytes/s\", \"Flow Packets/s\"]] = df[[\"Flow Bytes/s\", \"Flow Packets/s\"]].apply(pd.to_numeric)"
   ]
  },
  {
   "cell_type": "markdown",
   "metadata": {},
   "source": [
    "Convert string characters to numbers, use LabelEncoder, not OneHotEncoder."
   ]
  },
  {
   "cell_type": "code",
   "execution_count": 10,
   "metadata": {},
   "outputs": [
    {
     "data": {
      "text/plain": [
       "['Flow ID', 'Source IP', 'Destination IP', 'Timestamp']"
      ]
     },
     "execution_count": 10,
     "metadata": {},
     "output_type": "execute_result"
    }
   ],
   "source": [
    "string_features = list(df.select_dtypes(include=['object']).columns)\n",
    "string_features.remove('Label')\n",
    "string_features"
   ]
  },
  {
   "cell_type": "code",
   "execution_count": 11,
   "metadata": {},
   "outputs": [],
   "source": [
    "le = preprocessing.LabelEncoder()\n",
    "df[string_features] = df[string_features].apply(lambda col: le.fit_transform(col))"
   ]
  },
  {
   "cell_type": "markdown",
   "metadata": {},
   "source": [
    "### Undersampling against unbalance\n",
    "\n",
    "Dataset is unbalanced: total records = 170366, \"BENIGN\" records = 168186, records with attacks much less: 1507 + 652 + 21 = 2180."
   ]
  },
  {
   "cell_type": "code",
   "execution_count": 12,
   "metadata": {},
   "outputs": [
    {
     "data": {
      "text/plain": [
       "168186"
      ]
     },
     "execution_count": 12,
     "metadata": {},
     "output_type": "execute_result"
    }
   ],
   "source": [
    "benign_total = len(df[df['Label'] == \"BENIGN\"])\n",
    "benign_total"
   ]
  },
  {
   "cell_type": "code",
   "execution_count": 13,
   "metadata": {},
   "outputs": [
    {
     "data": {
      "text/plain": [
       "2180"
      ]
     },
     "execution_count": 13,
     "metadata": {},
     "output_type": "execute_result"
    }
   ],
   "source": [
    "attack_total = len(df[df['Label'] != \"BENIGN\"])\n",
    "attack_total"
   ]
  },
  {
   "cell_type": "code",
   "execution_count": 14,
   "metadata": {},
   "outputs": [
    {
     "data": {
      "text/plain": [
       "BENIGN                        168186\n",
       "Web Attack – Brute Force        1507\n",
       "Web Attack – XSS                 652\n",
       "Web Attack – Sql Injection        21\n",
       "Name: Label, dtype: int64"
      ]
     },
     "execution_count": 14,
     "metadata": {},
     "output_type": "execute_result"
    }
   ],
   "source": [
    "df.to_csv(\"web_attacks_unbalanced.csv\", index=False)\n",
    "df['Label'].value_counts()"
   ]
  },
  {
   "cell_type": "markdown",
   "metadata": {},
   "source": [
    "We use **undersampling** to correct class imbalances: we remove most of the \"BENIGN\" records.\n",
    "\n",
    "Form a balanced dataset web_attacks_balanced.csv in proportion: 30% attack (2180 records), 70% benign data (2180 / 30 * 70 ~ = 5087 records).\n",
    "\n",
    "Algorithm to form a balanced df_balanced dataset:\n",
    "\n",
    "* All the records with the attacks are copied to the new dataset.\n",
    "* There are two conditions for copying \"BENIGN\" records to the new dataset:\n",
    "\n",
    "    1. The next record is copyied with the benign_inc_probability.\n",
    "    2. The total number of \"BENIGN\" records must not exceed the limit of 5087 records."
   ]
  },
  {
   "cell_type": "markdown",
   "metadata": {},
   "source": [
    "Сalculate the probability of copying a \"BENIGN\" record. The enlargement multiplier is used to get exactly 70% benign data (5087 records)."
   ]
  },
  {
   "cell_type": "code",
   "execution_count": 15,
   "metadata": {},
   "outputs": [
    {
     "name": "stdout",
     "output_type": "stream",
     "text": [
      "5086.666666666667 0.03326872232726466\n"
     ]
    }
   ],
   "source": [
    "enlargement = 1.1\n",
    "benign_included_max = attack_total / 30 * 70\n",
    "benign_inc_probability = (benign_included_max / benign_total) * enlargement\n",
    "print(benign_included_max, benign_inc_probability)"
   ]
  },
  {
   "cell_type": "markdown",
   "metadata": {},
   "source": [
    "Copy records from df to df_balanced, save dataset **web_attacks_balanced.csv**."
   ]
  },
  {
   "cell_type": "code",
   "execution_count": 16,
   "metadata": {},
   "outputs": [],
   "source": [
    "import random\n",
    "indexes = []\n",
    "benign_included_count = 0\n",
    "for index, row in df.iterrows():\n",
    "    if (row['Label'] != \"BENIGN\"):\n",
    "        indexes.append(index)\n",
    "    else:\n",
    "        # Copying with benign_inc_probability\n",
    "        if random.random() > benign_inc_probability: continue\n",
    "        # Have we achieved 70% (5087 records)?\n",
    "        if benign_included_count > benign_included_max: continue\n",
    "        benign_included_count += 1\n",
    "        indexes.append(index)\n",
    "df_balanced = df.loc[indexes]"
   ]
  },
  {
   "cell_type": "code",
   "execution_count": 17,
   "metadata": {},
   "outputs": [
    {
     "data": {
      "text/plain": [
       "BENIGN                        5087\n",
       "Web Attack – Brute Force      1507\n",
       "Web Attack – XSS               652\n",
       "Web Attack – Sql Injection      21\n",
       "Name: Label, dtype: int64"
      ]
     },
     "execution_count": 17,
     "metadata": {},
     "output_type": "execute_result"
    }
   ],
   "source": [
    "df_balanced['Label'].value_counts()"
   ]
  },
  {
   "cell_type": "markdown",
   "metadata": {},
   "source": [
    "If necessary, we keep a single class of attack for experiments."
   ]
  },
  {
   "cell_type": "code",
   "execution_count": 18,
   "metadata": {},
   "outputs": [],
   "source": [
    "# df_balanced = df_balanced[df_balanced['Label'] != \"Web Attack – Brute Force\"]\n",
    "# df_balanced = df_balanced[df_balanced['Label'] != \"Web Attack – Sql Injection\"]\n",
    "# df_balanced['Label'].value_counts()"
   ]
  },
  {
   "cell_type": "code",
   "execution_count": 19,
   "metadata": {},
   "outputs": [],
   "source": [
    "df_balanced.to_csv(\"web_attacks_balanced.csv\", index=False)"
   ]
  },
  {
   "cell_type": "markdown",
   "metadata": {},
   "source": [
    "## Preparing data for training"
   ]
  },
  {
   "cell_type": "markdown",
   "metadata": {},
   "source": [
    "7 features (Flow ID, Source IP, Source Port, Destination IP, Destination Port, Protocol, Timestamp) are excluded from the dataset. The hypothesis is that the \"shape\" of the data being transmitted is more important than these attributes. In addition, ports and addresses can be substituted by an attacker, so it is better that the ML algorithm does not take these features into account in training [Kostas2018]."
   ]
  },
  {
   "cell_type": "code",
   "execution_count": 20,
   "metadata": {},
   "outputs": [],
   "source": [
    "df = pd.read_csv('web_attacks_balanced.csv')\n",
    "excluded = ['Flow ID', 'Source IP', 'Source Port', 'Destination IP', 'Destination Port', 'Protocol', 'Timestamp']\n",
    "df = df.drop(columns=excluded)"
   ]
  },
  {
   "cell_type": "markdown",
   "metadata": {},
   "source": [
    "Below at the stage of importance estimation the \"Init_Win_bytes_backward\" feature has the maximum value. After viewing the source dataset, it seems that an inaccuracy was made in forming the dataset. \n",
    "\n",
    "It turns out that it is possible to make a fairly accurate classification by one feature.\n",
    "\n",
    "Description of features: http://www.netflowmeter.ca/netflowmeter.html\n",
    "\n",
    "    Init_Win_bytes_backward - The total number of bytes sent in initial window in the backward direction\n",
    "    Init_Win_bytes_forward - The total number of bytes sent in initial window in the forward direction"
   ]
  },
  {
   "cell_type": "code",
   "execution_count": 21,
   "metadata": {},
   "outputs": [
    {
     "data": {
      "image/png": "[encoded data removed]",
      "text/plain": [
       "<Figure size 432x288 with 1 Axes>"
      ]
     },
     "metadata": {
      "needs_background": "light"
     },
     "output_type": "display_data"
    }
   ],
   "source": [
    "if 'Init_Win_bytes_backward' in df.columns:\n",
    "    df['Init_Win_bytes_backward'].hist(figsize=(6,4), bins=10);\n",
    "    plt.title(\"Init_Win_bytes_backward\")\n",
    "    plt.xlabel(\"Value bins\")\n",
    "    plt.ylabel(\"Density\")\n",
    "    plt.savefig('Init_Win_bytes_backward.png', dpi=300)"
   ]
  },
  {
   "cell_type": "code",
   "execution_count": 22,
   "metadata": {},
   "outputs": [
    {
     "data": {
      "image/png": "[encoded data removed]",
      "text/plain": [
       "<Figure size 432x288 with 1 Axes>"
      ]
     },
     "metadata": {
      "needs_background": "light"
     },
     "output_type": "display_data"
    }
   ],
   "source": [
    "if 'Init_Win_bytes_forward' in df.columns:\n",
    "    df['Init_Win_bytes_forward'].hist(figsize=(6,4), bins=10);\n",
    "    plt.title(\"Init_Win_bytes_forward\")\n",
    "    plt.xlabel(\"Value bins\")\n",
    "    plt.ylabel(\"Density\")\n",
    "    plt.savefig('Init_Win_bytes_forward.png', dpi=300)"
   ]
  },
  {
   "cell_type": "code",
   "execution_count": 23,
   "metadata": {},
   "outputs": [],
   "source": [
    "excluded2 = ['Init_Win_bytes_backward', 'Init_Win_bytes_forward']\n",
    "df = df.drop(columns=excluded2)"
   ]
  },
  {
   "cell_type": "markdown",
   "metadata": {},
   "source": [
    "The Label column is encoded as follows: \"BENIGN\" = 0, attack = 1."
   ]
  },
  {
   "cell_type": "code",
   "execution_count": 24,
   "metadata": {},
   "outputs": [
    {
     "name": "stdout",
     "output_type": "stream",
     "text": [
      "(7267, 74) (7267,)\n"
     ]
    }
   ],
   "source": [
    "df['Label'] = df['Label'].apply(lambda x: 0 if x == 'BENIGN' else 1)\n",
    "y = df['Label'].values\n",
    "X = df.drop(columns=['Label'])\n",
    "print(X.shape, y.shape)"
   ]
  },
  {
   "cell_type": "markdown",
   "metadata": {},
   "source": [
    "## Feature importance"
   ]
  },
  {
   "cell_type": "code",
   "execution_count": 25,
   "metadata": {},
   "outputs": [
    {
     "data": {
      "text/plain": [
       "{0: 3529, 1: 1557}"
      ]
     },
     "execution_count": 25,
     "metadata": {},
     "output_type": "execute_result"
    }
   ],
   "source": [
    "import numpy as np\n",
    "from sklearn.model_selection import train_test_split\n",
    "X_train, X_test, y_train, y_test = train_test_split(X, y, test_size=0.3, random_state=42)\n",
    "\n",
    "unique, counts = np.unique(y_train, return_counts=True)\n",
    "dict(zip(unique, counts))"
   ]
  },
  {
   "cell_type": "markdown",
   "metadata": {},
   "source": [
    "### Visualization of the decision tree, importance evaluation using a single tree (DecisionTreeClassifier)\n",
    "\n",
    "In the beginning we use one tree - for the convenience of visualization of the classifier. High cross-validation scores even with 5 leaves look suspiciously good, we should look at the data carefully. Parameters for change - test_size in the cell above (train_test_split), max_leaf_nodes in the cell below.\n",
    "\n",
    "By changing the **random_state** parameter, we will get different trees and different features with the highest importance. But the forest will already average individual trees below."
   ]
  },
  {
   "cell_type": "code",
   "execution_count": 26,
   "metadata": {},
   "outputs": [
    {
     "data": {
      "text/plain": [
       "array([0.94302554, 0.92730845, 0.95481336, 0.95481336, 0.95284872,\n",
       "       0.97249509, 0.94499018, 0.97244094, 0.9507874 , 0.94871795])"
      ]
     },
     "execution_count": 26,
     "metadata": {},
     "output_type": "execute_result"
    }
   ],
   "source": [
    "from sklearn.model_selection import cross_val_score\n",
    "from sklearn.tree.export import export_text\n",
    "from sklearn.tree import DecisionTreeClassifier\n",
    "decision_tree = DecisionTreeClassifier(max_leaf_nodes=5, random_state=0)\n",
    "decision_tree = decision_tree.fit(X_train, y_train)\n",
    "cross_val_score(decision_tree, X_train, y_train, cv=10)"
   ]
  },
  {
   "cell_type": "code",
   "execution_count": 27,
   "metadata": {},
   "outputs": [
    {
     "name": "stdout",
     "output_type": "stream",
     "text": [
      "|--- Packet Length Mean <= 0.67\n",
      "|   |--- Fwd IAT Std <= 2471538.25\n",
      "|   |   |--- class: 0\n",
      "|   |--- Fwd IAT Std >  2471538.25\n",
      "|   |   |--- class: 1\n",
      "|--- Packet Length Mean >  0.67\n",
      "|   |--- Subflow Fwd Bytes <= 37131.00\n",
      "|   |   |--- Bwd IAT Min <= 824.00\n",
      "|   |   |   |--- class: 0\n",
      "|   |   |--- Bwd IAT Min >  824.00\n",
      "|   |   |   |--- class: 0\n",
      "|   |--- Subflow Fwd Bytes >  37131.00\n",
      "|   |   |--- class: 1\n",
      "\n"
     ]
    }
   ],
   "source": [
    "r = export_text(decision_tree, feature_names=X_train.columns.to_list())\n",
    "print(r)"
   ]
  },
  {
   "cell_type": "code",
   "execution_count": 28,
   "metadata": {},
   "outputs": [
    {
     "data": {
      "image/svg+xml": [
       "<?xml version=\"1.0\" encoding=\"UTF-8\" standalone=\"no\"?>\r\n",
       "<!DOCTYPE svg PUBLIC \"-//W3C//DTD SVG 1.1//EN\"\r\n",
       " \"http://www.w3.org/Graphics/SVG/1.1/DTD/svg11.dtd\">\r\n",
       "<!-- Generated by graphviz version 2.38.0 (20140413.2041)\r\n",
       " -->\r\n",
       "<!-- Title: Tree Pages: 1 -->\r\n",
       "<svg width=\"573pt\" height=\"373pt\"\r\n",
       " viewBox=\"0.00 0.00 573.00 373.00\" xmlns=\"http://www.w3.org/2000/svg\" xmlns:xlink=\"http://www.w3.org/1999/xlink\">\r\n",
       "<g id=\"graph0\" class=\"graph\" transform=\"scale(1 1) rotate(0) translate(4 369)\">\r\n",
       "<title>Tree</title>\r\n",
       "<polygon fill=\"white\" stroke=\"none\" points=\"-4,4 -4,-369 569,-369 569,4 -4,4\"/>\r\n",
       "<!-- 0 -->\r\n",
       "<g id=\"node1\" class=\"node\"><title>0</title>\r\n",
       "<polygon fill=\"none\" stroke=\"black\" points=\"376.5,-365 191.5,-365 191.5,-297 376.5,-297 376.5,-365\"/>\r\n",
       "<text text-anchor=\"middle\" x=\"284\" y=\"-349.8\" font-family=\"Times New Roman,serif\" font-size=\"14.00\">Packet Length Mean &lt;= 0.667</text>\r\n",
       "<text text-anchor=\"middle\" x=\"284\" y=\"-334.8\" font-family=\"Times New Roman,serif\" font-size=\"14.00\">gini = 0.425</text>\r\n",
       "<text text-anchor=\"middle\" x=\"284\" y=\"-319.8\" font-family=\"Times New Roman,serif\" font-size=\"14.00\">samples = 5086</text>\r\n",
       "<text text-anchor=\"middle\" x=\"284\" y=\"-304.8\" font-family=\"Times New Roman,serif\" font-size=\"14.00\">value = [3529, 1557]</text>\r\n",
       "</g>\r\n",
       "<!-- 1 -->\r\n",
       "<g id=\"node2\" class=\"node\"><title>1</title>\r\n",
       "<polygon fill=\"none\" stroke=\"black\" points=\"271.5,-261 90.5,-261 90.5,-193 271.5,-193 271.5,-261\"/>\r\n",
       "<text text-anchor=\"middle\" x=\"181\" y=\"-245.8\" font-family=\"Times New Roman,serif\" font-size=\"14.00\">Fwd IAT Std &lt;= 2471538.25</text>\r\n",
       "<text text-anchor=\"middle\" x=\"181\" y=\"-230.8\" font-family=\"Times New Roman,serif\" font-size=\"14.00\">gini = 0.299</text>\r\n",
       "<text text-anchor=\"middle\" x=\"181\" y=\"-215.8\" font-family=\"Times New Roman,serif\" font-size=\"14.00\">samples = 1733</text>\r\n",
       "<text text-anchor=\"middle\" x=\"181\" y=\"-200.8\" font-family=\"Times New Roman,serif\" font-size=\"14.00\">value = [317, 1416]</text>\r\n",
       "</g>\r\n",
       "<!-- 0&#45;&gt;1 -->\r\n",
       "<g id=\"edge1\" class=\"edge\"><title>0&#45;&gt;1</title>\r\n",
       "<path fill=\"none\" stroke=\"black\" d=\"M250.559,-296.884C241.384,-287.798 231.334,-277.845 221.796,-268.4\"/>\r\n",
       "<polygon fill=\"black\" stroke=\"black\" points=\"224.194,-265.849 214.626,-261.299 219.269,-270.823 224.194,-265.849\"/>\r\n",
       "<text text-anchor=\"middle\" x=\"214.748\" y=\"-282.599\" font-family=\"Times New Roman,serif\" font-size=\"14.00\">True</text>\r\n",
       "</g>\r\n",
       "<!-- 2 -->\r\n",
       "<g id=\"node5\" class=\"node\"><title>2</title>\r\n",
       "<polygon fill=\"none\" stroke=\"black\" points=\"486.5,-261 289.5,-261 289.5,-193 486.5,-193 486.5,-261\"/>\r\n",
       "<text text-anchor=\"middle\" x=\"388\" y=\"-245.8\" font-family=\"Times New Roman,serif\" font-size=\"14.00\">Subflow Fwd Bytes &lt;= 37131.0</text>\r\n",
       "<text text-anchor=\"middle\" x=\"388\" y=\"-230.8\" font-family=\"Times New Roman,serif\" font-size=\"14.00\">gini = 0.081</text>\r\n",
       "<text text-anchor=\"middle\" x=\"388\" y=\"-215.8\" font-family=\"Times New Roman,serif\" font-size=\"14.00\">samples = 3353</text>\r\n",
       "<text text-anchor=\"middle\" x=\"388\" y=\"-200.8\" font-family=\"Times New Roman,serif\" font-size=\"14.00\">value = [3212, 141]</text>\r\n",
       "</g>\r\n",
       "<!-- 0&#45;&gt;2 -->\r\n",
       "<g id=\"edge4\" class=\"edge\"><title>0&#45;&gt;2</title>\r\n",
       "<path fill=\"none\" stroke=\"black\" d=\"M317.766,-296.884C327.029,-287.798 337.177,-277.845 346.807,-268.4\"/>\r\n",
       "<polygon fill=\"black\" stroke=\"black\" points=\"349.359,-270.8 354.048,-261.299 344.458,-265.803 349.359,-270.8\"/>\r\n",
       "<text text-anchor=\"middle\" x=\"353.805\" y=\"-282.598\" font-family=\"Times New Roman,serif\" font-size=\"14.00\">False</text>\r\n",
       "</g>\r\n",
       "<!-- 3 -->\r\n",
       "<g id=\"node3\" class=\"node\"><title>3</title>\r\n",
       "<polygon fill=\"none\" stroke=\"black\" points=\"118,-149.5 0,-149.5 0,-96.5 118,-96.5 118,-149.5\"/>\r\n",
       "<text text-anchor=\"middle\" x=\"59\" y=\"-134.3\" font-family=\"Times New Roman,serif\" font-size=\"14.00\">gini = 0.424</text>\r\n",
       "<text text-anchor=\"middle\" x=\"59\" y=\"-119.3\" font-family=\"Times New Roman,serif\" font-size=\"14.00\">samples = 436</text>\r\n",
       "<text text-anchor=\"middle\" x=\"59\" y=\"-104.3\" font-family=\"Times New Roman,serif\" font-size=\"14.00\">value = [303, 133]</text>\r\n",
       "</g>\r\n",
       "<!-- 1&#45;&gt;3 -->\r\n",
       "<g id=\"edge2\" class=\"edge\"><title>1&#45;&gt;3</title>\r\n",
       "<path fill=\"none\" stroke=\"black\" d=\"M141.39,-192.884C127.315,-181.116 111.5,-167.894 97.5177,-156.203\"/>\r\n",
       "<polygon fill=\"black\" stroke=\"black\" points=\"99.4407,-153.249 89.5238,-149.52 94.9508,-158.619 99.4407,-153.249\"/>\r\n",
       "</g>\r\n",
       "<!-- 4 -->\r\n",
       "<g id=\"node4\" class=\"node\"><title>4</title>\r\n",
       "<polygon fill=\"none\" stroke=\"black\" points=\"254,-149.5 136,-149.5 136,-96.5 254,-96.5 254,-149.5\"/>\r\n",
       "<text text-anchor=\"middle\" x=\"195\" y=\"-134.3\" font-family=\"Times New Roman,serif\" font-size=\"14.00\">gini = 0.021</text>\r\n",
       "<text text-anchor=\"middle\" x=\"195\" y=\"-119.3\" font-family=\"Times New Roman,serif\" font-size=\"14.00\">samples = 1297</text>\r\n",
       "<text text-anchor=\"middle\" x=\"195\" y=\"-104.3\" font-family=\"Times New Roman,serif\" font-size=\"14.00\">value = [14, 1283]</text>\r\n",
       "</g>\r\n",
       "<!-- 1&#45;&gt;4 -->\r\n",
       "<g id=\"edge3\" class=\"edge\"><title>1&#45;&gt;4</title>\r\n",
       "<path fill=\"none\" stroke=\"black\" d=\"M185.545,-192.884C187.01,-182.216 188.638,-170.352 190.125,-159.519\"/>\r\n",
       "<polygon fill=\"black\" stroke=\"black\" points=\"193.605,-159.903 191.497,-149.52 186.67,-158.951 193.605,-159.903\"/>\r\n",
       "</g>\r\n",
       "<!-- 5 -->\r\n",
       "<g id=\"node6\" class=\"node\"><title>5</title>\r\n",
       "<polygon fill=\"none\" stroke=\"black\" points=\"449,-157 299,-157 299,-89 449,-89 449,-157\"/>\r\n",
       "<text text-anchor=\"middle\" x=\"374\" y=\"-141.8\" font-family=\"Times New Roman,serif\" font-size=\"14.00\">Bwd IAT Min &lt;= 824.0</text>\r\n",
       "<text text-anchor=\"middle\" x=\"374\" y=\"-126.8\" font-family=\"Times New Roman,serif\" font-size=\"14.00\">gini = 0.046</text>\r\n",
       "<text text-anchor=\"middle\" x=\"374\" y=\"-111.8\" font-family=\"Times New Roman,serif\" font-size=\"14.00\">samples = 3287</text>\r\n",
       "<text text-anchor=\"middle\" x=\"374\" y=\"-96.8\" font-family=\"Times New Roman,serif\" font-size=\"14.00\">value = [3210, 77]</text>\r\n",
       "</g>\r\n",
       "<!-- 2&#45;&gt;5 -->\r\n",
       "<g id=\"edge5\" class=\"edge\"><title>2&#45;&gt;5</title>\r\n",
       "<path fill=\"none\" stroke=\"black\" d=\"M383.455,-192.884C382.342,-184.778 381.135,-175.982 379.967,-167.472\"/>\r\n",
       "<polygon fill=\"black\" stroke=\"black\" points=\"383.398,-166.731 378.571,-157.299 376.463,-167.682 383.398,-166.731\"/>\r\n",
       "</g>\r\n",
       "<!-- 6 -->\r\n",
       "<g id=\"node9\" class=\"node\"><title>6</title>\r\n",
       "<polygon fill=\"none\" stroke=\"black\" points=\"565,-149.5 467,-149.5 467,-96.5 565,-96.5 565,-149.5\"/>\r\n",
       "<text text-anchor=\"middle\" x=\"516\" y=\"-134.3\" font-family=\"Times New Roman,serif\" font-size=\"14.00\">gini = 0.059</text>\r\n",
       "<text text-anchor=\"middle\" x=\"516\" y=\"-119.3\" font-family=\"Times New Roman,serif\" font-size=\"14.00\">samples = 66</text>\r\n",
       "<text text-anchor=\"middle\" x=\"516\" y=\"-104.3\" font-family=\"Times New Roman,serif\" font-size=\"14.00\">value = [2, 64]</text>\r\n",
       "</g>\r\n",
       "<!-- 2&#45;&gt;6 -->\r\n",
       "<g id=\"edge8\" class=\"edge\"><title>2&#45;&gt;6</title>\r\n",
       "<path fill=\"none\" stroke=\"black\" d=\"M429.558,-192.884C444.463,-181.006 461.228,-167.646 475.999,-155.876\"/>\r\n",
       "<polygon fill=\"black\" stroke=\"black\" points=\"478.336,-158.489 483.975,-149.52 473.973,-153.015 478.336,-158.489\"/>\r\n",
       "</g>\r\n",
       "<!-- 7 -->\r\n",
       "<g id=\"node7\" class=\"node\"><title>7</title>\r\n",
       "<polygon fill=\"none\" stroke=\"black\" points=\"364.5,-53 253.5,-53 253.5,-0 364.5,-0 364.5,-53\"/>\r\n",
       "<text text-anchor=\"middle\" x=\"309\" y=\"-37.8\" font-family=\"Times New Roman,serif\" font-size=\"14.00\">gini = 0.004</text>\r\n",
       "<text text-anchor=\"middle\" x=\"309\" y=\"-22.8\" font-family=\"Times New Roman,serif\" font-size=\"14.00\">samples = 3032</text>\r\n",
       "<text text-anchor=\"middle\" x=\"309\" y=\"-7.8\" font-family=\"Times New Roman,serif\" font-size=\"14.00\">value = [3026, 6]</text>\r\n",
       "</g>\r\n",
       "<!-- 5&#45;&gt;7 -->\r\n",
       "<g id=\"edge6\" class=\"edge\"><title>5&#45;&gt;7</title>\r\n",
       "<path fill=\"none\" stroke=\"black\" d=\"M351.266,-88.9485C345.163,-80.0749 338.553,-70.4648 332.413,-61.5388\"/>\r\n",
       "<polygon fill=\"black\" stroke=\"black\" points=\"335.253,-59.4924 326.702,-53.2367 329.486,-63.4594 335.253,-59.4924\"/>\r\n",
       "</g>\r\n",
       "<!-- 8 -->\r\n",
       "<g id=\"node8\" class=\"node\"><title>8</title>\r\n",
       "<polygon fill=\"none\" stroke=\"black\" points=\"493.5,-53 382.5,-53 382.5,-0 493.5,-0 493.5,-53\"/>\r\n",
       "<text text-anchor=\"middle\" x=\"438\" y=\"-37.8\" font-family=\"Times New Roman,serif\" font-size=\"14.00\">gini = 0.402</text>\r\n",
       "<text text-anchor=\"middle\" x=\"438\" y=\"-22.8\" font-family=\"Times New Roman,serif\" font-size=\"14.00\">samples = 255</text>\r\n",
       "<text text-anchor=\"middle\" x=\"438\" y=\"-7.8\" font-family=\"Times New Roman,serif\" font-size=\"14.00\">value = [184, 71]</text>\r\n",
       "</g>\r\n",
       "<!-- 5&#45;&gt;8 -->\r\n",
       "<g id=\"edge7\" class=\"edge\"><title>5&#45;&gt;8</title>\r\n",
       "<path fill=\"none\" stroke=\"black\" d=\"M396.384,-88.9485C402.394,-80.0749 408.902,-70.4648 414.947,-61.5388\"/>\r\n",
       "<polygon fill=\"black\" stroke=\"black\" points=\"417.86,-63.4792 420.57,-53.2367 412.064,-59.5539 417.86,-63.4792\"/>\r\n",
       "</g>\r\n",
       "</g>\r\n",
       "</svg>\r\n"
      ],
      "text/plain": [
       "<graphviz.files.Source at 0x229c80bcc48>"
      ]
     },
     "execution_count": 28,
     "metadata": {},
     "output_type": "execute_result"
    }
   ],
   "source": [
    "from graphviz import Source\n",
    "from sklearn import tree\n",
    "Source(tree.export_graphviz(decision_tree, out_file=None, feature_names=X.columns))"
   ]
  },
  {
   "cell_type": "markdown",
   "metadata": {},
   "source": [
    "Analyze the confusion matrix. Which classes are confidently classified by the model?"
   ]
  },
  {
   "cell_type": "code",
   "execution_count": 29,
   "metadata": {},
   "outputs": [
    {
     "data": {
      "text/plain": [
       "{0: 1558, 1: 623}"
      ]
     },
     "execution_count": 29,
     "metadata": {},
     "output_type": "execute_result"
    }
   ],
   "source": [
    "unique, counts = np.unique(y_test, return_counts=True)\n",
    "dict(zip(unique, counts))"
   ]
  },
  {
   "cell_type": "code",
   "execution_count": 30,
   "metadata": {},
   "outputs": [
    {
     "data": {
      "text/plain": [
       "array([[1544,   14],\n",
       "       [  70,  553]], dtype=int64)"
      ]
     },
     "execution_count": 30,
     "metadata": {},
     "output_type": "execute_result"
    }
   ],
   "source": [
    "from sklearn.metrics import confusion_matrix\n",
    "y_pred = decision_tree.predict(X_test)\n",
    "confusion_matrix(y_test, y_pred)"
   ]
  },
  {
   "cell_type": "markdown",
   "metadata": {},
   "source": [
    "### Importance evaluation using SelectFromModel (still one decision tree)\n",
    "\n",
    "https://github.com/oreilly-mlsec/book-resources/blob/master/chapter2/select-from-model-nslkdd.ipynb"
   ]
  },
  {
   "cell_type": "code",
   "execution_count": 31,
   "metadata": {},
   "outputs": [
    {
     "data": {
      "text/plain": [
       "array([0.        , 0.        , 0.        , 0.        , 0.        ,\n",
       "       0.        , 0.        , 0.        , 0.        , 0.        ,\n",
       "       0.        , 0.        , 0.        , 0.        , 0.        ,\n",
       "       0.        , 0.        , 0.        , 0.        , 0.        ,\n",
       "       0.        , 0.16694136, 0.        , 0.        , 0.        ,\n",
       "       0.        , 0.        , 0.        , 0.01964859, 0.        ,\n",
       "       0.        , 0.        , 0.        , 0.        , 0.        ,\n",
       "       0.        , 0.        , 0.        , 0.        , 0.75008695,\n",
       "       0.        , 0.        , 0.        , 0.        , 0.        ,\n",
       "       0.        , 0.        , 0.        , 0.        , 0.        ,\n",
       "       0.        , 0.        , 0.        , 0.        , 0.        ,\n",
       "       0.        , 0.        , 0.        , 0.        , 0.        ,\n",
       "       0.        , 0.0633231 , 0.        , 0.        , 0.        ,\n",
       "       0.        , 0.        , 0.        , 0.        , 0.        ,\n",
       "       0.        , 0.        , 0.        , 0.        ])"
      ]
     },
     "execution_count": 31,
     "metadata": {},
     "output_type": "execute_result"
    }
   ],
   "source": [
    "from sklearn.feature_selection import SelectFromModel\n",
    "sfm = SelectFromModel(estimator=decision_tree).fit(X_train, y_train)\n",
    "sfm.estimator_.feature_importances_"
   ]
  },
  {
   "cell_type": "code",
   "execution_count": 32,
   "metadata": {},
   "outputs": [
    {
     "data": {
      "text/plain": [
       "0.013513513513513513"
      ]
     },
     "execution_count": 32,
     "metadata": {},
     "output_type": "execute_result"
    }
   ],
   "source": [
    "sfm.threshold_"
   ]
  },
  {
   "cell_type": "code",
   "execution_count": 33,
   "metadata": {},
   "outputs": [
    {
     "name": "stdout",
     "output_type": "stream",
     "text": [
      "Original num features: 74, selected num features: 4\n"
     ]
    }
   ],
   "source": [
    "X_train_new = sfm.transform(X_train)\n",
    "print(\"Original num features: {}, selected num features: {}\"\n",
    "      .format(X_train.shape[1], X_train_new.shape[1]))"
   ]
  },
  {
   "cell_type": "code",
   "execution_count": 34,
   "metadata": {},
   "outputs": [
    {
     "name": "stdout",
     "output_type": "stream",
     "text": [
      "0.\tPacket Length Mean - 0.7500869459345867\n",
      "1.\tFwd IAT Std - 0.16694136316914082\n",
      "2.\tSubflow Fwd Bytes - 0.06332310202079924\n",
      "3.\tBwd IAT Min - 0.01964858887547314\n",
      "4.\tIdle Min - 0.0\n",
      "5.\tBwd IAT Mean - 0.0\n",
      "6.\tFwd IAT Mean - 0.0\n",
      "7.\tFwd IAT Max - 0.0\n",
      "8.\tFwd IAT Min - 0.0\n",
      "9.\tBwd IAT Total - 0.0\n"
     ]
    }
   ],
   "source": [
    "indices = np.argsort(decision_tree.feature_importances_)[::-1]\n",
    "for idx, i in enumerate(indices[:10]):\n",
    "    print(\"{}.\\t{} - {}\".format(idx, X_train.columns[i], decision_tree.feature_importances_[i]))"
   ]
  },
  {
   "cell_type": "markdown",
   "metadata": {},
   "source": [
    "### Evaluation of importance using RandomForestClassifier.feature_importances_ (move from one tree to a random forest, classification quality increases)"
   ]
  },
  {
   "cell_type": "code",
   "execution_count": 35,
   "metadata": {},
   "outputs": [
    {
     "name": "stdout",
     "output_type": "stream",
     "text": [
      "R^2 Training Score: 0.99 \n",
      "R^2 Validation Score: 0.98 \n",
      "Out-of-bag Score: 0.98\n"
     ]
    }
   ],
   "source": [
    "from sklearn.ensemble import RandomForestClassifier\n",
    "\n",
    "rf = RandomForestClassifier(n_estimators=250, random_state=42, oob_score=True)\n",
    "rf.fit(X_train, y_train)\n",
    "# Score = mean accuracy on the given test data and labels\n",
    "print('R^2 Training Score: {:.2f} \\nR^2 Validation Score: {:.2f} \\nOut-of-bag Score: {:.2f}'\n",
    "      .format(rf.score(X_train, y_train), rf.score(X_test, y_test), rf.oob_score_))"
   ]
  },
  {
   "cell_type": "code",
   "execution_count": 36,
   "metadata": {},
   "outputs": [
    {
     "name": "stdout",
     "output_type": "stream",
     "text": [
      "#13\t0.085\tFlow Bytes/s\n",
      "#51\t0.078\tAverage Packet Size\n",
      "#38\t0.063\tMax Packet Length\n",
      "#39\t0.059\tPacket Length Mean\n",
      "#7\t0.057\tFwd Packet Length Mean\n",
      "#23\t0.051\tFwd IAT Min\n",
      "#61\t0.051\tSubflow Fwd Bytes\n",
      "#3\t0.051\tTotal Length of Fwd Packets\n",
      "#52\t0.047\tAvg Fwd Segment Size\n",
      "#15\t0.033\tFlow IAT Mean\n",
      "#5\t0.032\tFwd Packet Length Max\n",
      "#21\t0.029\tFwd IAT Std\n",
      "#0\t0.024\tFlow Duration\n",
      "#22\t0.023\tFwd IAT Max\n",
      "#33\t0.023\tFwd Header Length\n",
      "#35\t0.023\tFwd Packets/s\n",
      "#14\t0.021\tFlow Packets/s\n",
      "#16\t0.020\tFlow IAT Std\n",
      "#17\t0.020\tFlow IAT Max\n",
      "#20\t0.017\tFwd IAT Mean\n"
     ]
    }
   ],
   "source": [
    "features = X.columns\n",
    "importances = rf.feature_importances_\n",
    "indices = np.argsort(importances)[::-1]\n",
    "\n",
    "for i in indices[:20]:\n",
    "    print('#{}\\t{:.3f}\\t{}'.format(i, importances[i], features[i]))"
   ]
  },
  {
   "cell_type": "markdown",
   "metadata": {},
   "source": [
    "For comparison, the results of the study [Sharafaldin2018] (compare relatively, without taking into account the multiplier):\n",
    "\n",
    "* Init Win F.Bytes 0.0200\n",
    "* Subflow F.Bytes 0.0145\n",
    "* Init Win B.Bytes 0.0129\n",
    "* Total Len F.Packets 0.0096\n",
    "\n",
    "And incorrect results [Kostas2018] (error was found in assessing the importance of features, line: *impor_bars = pd.DataFrame({'Features':refclasscol[0:20],'importance':importances[0:20]})*, the importances[0:20] sample does not take into account that the values are not sorted in descending order):\n",
    "\n",
    "* Flow Bytes/s 0.313402\n",
    "* Total Length of Fwd Packets 0.304917\n",
    "* Flow Duration 0.000485\n",
    "* Fwd Packet Length Max 0.00013"
   ]
  },
  {
   "cell_type": "code",
   "execution_count": 37,
   "metadata": {},
   "outputs": [
    {
     "data": {
      "image/png": "[encoded data removed]",
      "text/plain": [
       "<Figure size 1440x576 with 1 Axes>"
      ]
     },
     "metadata": {
      "needs_background": "light"
     },
     "output_type": "display_data"
    }
   ],
   "source": [
    "indices = np.argsort(importances)[-20:]\n",
    "plt.rcParams['figure.figsize'] = (20, 8)\n",
    "plt.title('Feature Importances')\n",
    "plt.barh(range(len(indices)), importances[indices], color='b', align='center')\n",
    "plt.yticks(range(len(indices)), [features[i] for i in indices])\n",
    "plt.xlabel('Relative Importance')\n",
    "plt.grid()\n",
    "plt.savefig('feature_importances.png', dpi=300)\n",
    "plt.show()"
   ]
  },
  {
   "cell_type": "markdown",
   "metadata": {},
   "source": [
    "Make sure that SelectFromModel shows the same results."
   ]
  },
  {
   "cell_type": "code",
   "execution_count": 38,
   "metadata": {},
   "outputs": [
    {
     "data": {
      "text/plain": [
       "array([2.40103388e-02, 8.78946132e-03, 3.48018957e-03, 5.06014184e-02,\n",
       "       9.34711792e-03, 3.16965105e-02, 1.90769144e-04, 5.69161901e-02,\n",
       "       4.21952471e-03, 4.31229352e-03, 1.90502381e-04, 4.34604749e-03,\n",
       "       2.17203777e-03, 8.47048022e-02, 2.10052740e-02, 3.30867311e-02,\n",
       "       1.95883695e-02, 1.95351897e-02, 1.35079800e-02, 1.49652658e-02,\n",
       "       1.67203188e-02, 2.88718609e-02, 2.33118999e-02, 5.09405594e-02,\n",
       "       3.50279631e-03, 2.64124579e-03, 2.17739962e-03, 4.09040649e-03,\n",
       "       4.40353581e-03, 1.22998284e-05, 0.00000000e+00, 0.00000000e+00,\n",
       "       0.00000000e+00, 2.25429525e-02, 1.39462832e-02, 2.25205481e-02,\n",
       "       9.54286343e-03, 6.36533402e-04, 6.27094586e-02, 5.94064736e-02,\n",
       "       6.43428150e-03, 5.74726234e-03, 0.00000000e+00, 3.73088286e-06,\n",
       "       0.00000000e+00, 9.99963267e-03, 8.87483645e-03, 4.55362878e-03,\n",
       "       0.00000000e+00, 0.00000000e+00, 1.70720989e-03, 7.77760313e-02,\n",
       "       4.68490255e-02, 4.28876069e-03, 0.00000000e+00, 0.00000000e+00,\n",
       "       0.00000000e+00, 0.00000000e+00, 0.00000000e+00, 0.00000000e+00,\n",
       "       9.51759969e-03, 5.09374337e-02, 3.98297679e-03, 7.78644060e-03,\n",
       "       6.68561977e-03, 3.99088550e-03, 1.84322648e-03, 1.45957488e-04,\n",
       "       3.94798498e-03, 2.88899573e-03, 3.10183755e-03, 2.07385738e-04,\n",
       "       2.98248102e-03, 1.10332537e-03])"
      ]
     },
     "execution_count": 38,
     "metadata": {},
     "output_type": "execute_result"
    }
   ],
   "source": [
    "sfm = SelectFromModel(estimator=rf).fit(X_train, y_train)\n",
    "sfm.estimator_.feature_importances_"
   ]
  },
  {
   "cell_type": "code",
   "execution_count": 39,
   "metadata": {},
   "outputs": [
    {
     "data": {
      "text/plain": [
       "0.013513513513513514"
      ]
     },
     "execution_count": 39,
     "metadata": {},
     "output_type": "execute_result"
    }
   ],
   "source": [
    "sfm.threshold_"
   ]
  },
  {
   "cell_type": "code",
   "execution_count": 40,
   "metadata": {},
   "outputs": [
    {
     "name": "stdout",
     "output_type": "stream",
     "text": [
      "Original num features: 74, selected num features: 22\n"
     ]
    }
   ],
   "source": [
    "X_train_new = sfm.transform(X_train)\n",
    "print(\"Original num features: {}, selected num features: {}\"\n",
    "      .format(X_train.shape[1], X_train_new.shape[1]))"
   ]
  },
  {
   "cell_type": "code",
   "execution_count": 41,
   "metadata": {},
   "outputs": [
    {
     "name": "stdout",
     "output_type": "stream",
     "text": [
      "0.\tFlow Bytes/s - 0.08470480216316158\n",
      "1.\tAverage Packet Size - 0.07777603131112241\n",
      "2.\tMax Packet Length - 0.06270945859436221\n",
      "3.\tPacket Length Mean - 0.05940647358045754\n",
      "4.\tFwd Packet Length Mean - 0.056916190137985136\n",
      "5.\tFwd IAT Min - 0.050940559377513496\n",
      "6.\tSubflow Fwd Bytes - 0.05093743371511307\n",
      "7.\tTotal Length of Fwd Packets - 0.05060141839089613\n",
      "8.\tAvg Fwd Segment Size - 0.04684902551379232\n",
      "9.\tFlow IAT Mean - 0.033086731139964985\n",
      "10.\tFwd Packet Length Max - 0.03169651050041796\n",
      "11.\tFwd IAT Std - 0.028871860887762175\n",
      "12.\tFlow Duration - 0.02401033878277692\n",
      "13.\tFwd IAT Max - 0.023311899927945464\n",
      "14.\tFwd Header Length - 0.022542952485365378\n",
      "15.\tFwd Packets/s - 0.022520548139611546\n",
      "16.\tFlow Packets/s - 0.02100527402411318\n",
      "17.\tFlow IAT Std - 0.019588369515609723\n",
      "18.\tFlow IAT Max - 0.01953518968159231\n",
      "19.\tFwd IAT Mean - 0.016720318788524265\n"
     ]
    }
   ],
   "source": [
    "indices = np.argsort(rf.feature_importances_)[::-1]\n",
    "webattack_features = []\n",
    "for idx, i in enumerate(indices):\n",
    "    webattack_features.append(X_train.columns[i])\n",
    "    if idx < 20:\n",
    "        print(\"{}.\\t{} - {}\".format(idx, X_train.columns[i], rf.feature_importances_[i]))"
   ]
  },
  {
   "cell_type": "markdown",
   "metadata": {},
   "source": [
    "Once again we analyze the confusion matrix, now for a higher quality classifier. A random forest also badly distinguishes between separate attack classes (\"Web Attack – XSS\" is very similar to \"Web Attack – Brute Force\"). At the same time, the \"BENIGN\" class is well separated from the others.\n",
    "\n",
    "If we combine different attack classes into one \"web attack\" class, the resulting binary classifier will show high quality."
   ]
  },
  {
   "cell_type": "code",
   "execution_count": 42,
   "metadata": {},
   "outputs": [
    {
     "data": {
      "text/plain": [
       "array([[1535,   23],\n",
       "       [  24,  599]], dtype=int64)"
      ]
     },
     "execution_count": 42,
     "metadata": {},
     "output_type": "execute_result"
    }
   ],
   "source": [
    "y_pred = rf.predict(X_test)\n",
    "confusion_matrix(y_test, y_pred)"
   ]
  },
  {
   "cell_type": "markdown",
   "metadata": {},
   "source": [
    "Next, for experiments, we keep the first max_features of features with maximum importance."
   ]
  },
  {
   "cell_type": "code",
   "execution_count": 43,
   "metadata": {},
   "outputs": [
    {
     "data": {
      "text/plain": [
       "['Flow Bytes/s',\n",
       " 'Average Packet Size',\n",
       " 'Max Packet Length',\n",
       " 'Packet Length Mean',\n",
       " 'Fwd Packet Length Mean',\n",
       " 'Fwd IAT Min',\n",
       " 'Subflow Fwd Bytes',\n",
       " 'Total Length of Fwd Packets',\n",
       " 'Avg Fwd Segment Size',\n",
       " 'Flow IAT Mean']"
      ]
     },
     "execution_count": 43,
     "metadata": {},
     "output_type": "execute_result"
    }
   ],
   "source": [
    "max_features = 10\n",
    "webattack_features = webattack_features[:max_features]\n",
    "webattack_features"
   ]
  },
  {
   "cell_type": "markdown",
   "metadata": {},
   "source": [
    "## Analysis of selected features"
   ]
  },
  {
   "cell_type": "code",
   "execution_count": 44,
   "metadata": {},
   "outputs": [
    {
     "data": {
      "image/png": "[encoded data removed]",
      "text/plain": [
       "<Figure size 1440x864 with 12 Axes>"
      ]
     },
     "metadata": {
      "needs_background": "light"
     },
     "output_type": "display_data"
    }
   ],
   "source": [
    "df[webattack_features].hist(figsize=(20,12), bins=10);\n",
    "plt.savefig('features_hist.png', dpi=300)"
   ]
  },
  {
   "cell_type": "code",
   "execution_count": 45,
   "metadata": {},
   "outputs": [
    {
     "data": {
      "image/png": "[encoded data removed]",
      "text/plain": [
       "<Figure size 432x360 with 2 Axes>"
      ]
     },
     "metadata": {
      "needs_background": "light"
     },
     "output_type": "display_data"
    }
   ],
   "source": [
    "import seaborn as sns\n",
    "corr_matrix = df[webattack_features].corr()\n",
    "plt.rcParams['figure.figsize'] = (6, 5)\n",
    "sns.heatmap(corr_matrix);\n",
    "plt.savefig('corr_heatmap.png', dpi=300)"
   ]
  },
  {
   "cell_type": "markdown",
   "metadata": {},
   "source": [
    "## Hyperparameter selection"
   ]
  },
  {
   "cell_type": "markdown",
   "metadata": {},
   "source": [
    "Reopen the dataset."
   ]
  },
  {
   "cell_type": "code",
   "execution_count": 46,
   "metadata": {},
   "outputs": [
    {
     "name": "stdout",
     "output_type": "stream",
     "text": [
      "(7267, 10) (7267,)\n"
     ]
    }
   ],
   "source": [
    "from sklearn.model_selection import GridSearchCV\n",
    "\n",
    "df = pd.read_csv('web_attacks_balanced.csv')\n",
    "df['Label'] = df['Label'].apply(lambda x: 0 if x == 'BENIGN' else (0 if random.random() < 0 else 1))\n",
    "y = df['Label'].values\n",
    "X = df[webattack_features]\n",
    "print(X.shape, y.shape)"
   ]
  },
  {
   "cell_type": "markdown",
   "metadata": {},
   "source": [
    "We get the list of RandomForestClassifier parameters."
   ]
  },
  {
   "cell_type": "code",
   "execution_count": 47,
   "metadata": {},
   "outputs": [
    {
     "data": {
      "text/plain": [
       "dict_keys(['bootstrap', 'class_weight', 'criterion', 'max_depth', 'max_features', 'max_leaf_nodes', 'min_impurity_decrease', 'min_impurity_split', 'min_samples_leaf', 'min_samples_split', 'min_weight_fraction_leaf', 'n_estimators', 'n_jobs', 'oob_score', 'random_state', 'verbose', 'warm_start'])"
      ]
     },
     "execution_count": 47,
     "metadata": {},
     "output_type": "execute_result"
    }
   ],
   "source": [
    "rfc = RandomForestClassifier(random_state=1)\n",
    "rfc.get_params().keys()"
   ]
  },
  {
   "cell_type": "markdown",
   "metadata": {},
   "source": [
    "For search of quasi-optimal value of one parameter we fix the others."
   ]
  },
  {
   "cell_type": "code",
   "execution_count": 48,
   "metadata": {},
   "outputs": [
    {
     "name": "stdout",
     "output_type": "stream",
     "text": [
      "Wall time: 8.81 s\n"
     ]
    }
   ],
   "source": [
    "parameters = {'n_estimators': [10],\n",
    "              'min_samples_leaf': [3],\n",
    "              'max_features': [3], \n",
    "              'max_depth': [1, 2, 3, 4, 5, 6, 7, 8, 9, 10, 11, 15, 20, 30, 50]}\n",
    "scoring = {'f1', 'accuracy'}\n",
    "gcv = GridSearchCV(rfc, parameters, scoring=scoring, refit='f1', cv=10, return_train_score=True)\n",
    "%time gcv.fit(X, y)\n",
    "results = gcv.cv_results_"
   ]
  },
  {
   "cell_type": "code",
   "execution_count": 49,
   "metadata": {},
   "outputs": [
    {
     "data": {
      "text/html": [
       "<div>\n",
       "<style scoped>\n",
       "    .dataframe tbody tr th:only-of-type {\n",
       "        vertical-align: middle;\n",
       "    }\n",
       "\n",
       "    .dataframe tbody tr th {\n",
       "        vertical-align: top;\n",
       "    }\n",
       "\n",
       "    .dataframe thead th {\n",
       "        text-align: right;\n",
       "    }\n",
       "</style>\n",
       "<table border=\"1\" class=\"dataframe\">\n",
       "  <thead>\n",
       "    <tr style=\"text-align: right;\">\n",
       "      <th></th>\n",
       "      <th>mean_fit_time</th>\n",
       "      <th>std_fit_time</th>\n",
       "      <th>mean_score_time</th>\n",
       "      <th>std_score_time</th>\n",
       "      <th>param_max_depth</th>\n",
       "      <th>param_max_features</th>\n",
       "      <th>param_min_samples_leaf</th>\n",
       "      <th>param_n_estimators</th>\n",
       "      <th>params</th>\n",
       "      <th>split0_test_accuracy</th>\n",
       "      <th>...</th>\n",
       "      <th>split2_train_f1</th>\n",
       "      <th>split3_train_f1</th>\n",
       "      <th>split4_train_f1</th>\n",
       "      <th>split5_train_f1</th>\n",
       "      <th>split6_train_f1</th>\n",
       "      <th>split7_train_f1</th>\n",
       "      <th>split8_train_f1</th>\n",
       "      <th>split9_train_f1</th>\n",
       "      <th>mean_train_f1</th>\n",
       "      <th>std_train_f1</th>\n",
       "    </tr>\n",
       "  </thead>\n",
       "  <tbody>\n",
       "    <tr>\n",
       "      <td>0</td>\n",
       "      <td>0.020044</td>\n",
       "      <td>0.00238</td>\n",
       "      <td>0.004491</td>\n",
       "      <td>0.000799</td>\n",
       "      <td>1</td>\n",
       "      <td>3</td>\n",
       "      <td>3</td>\n",
       "      <td>10</td>\n",
       "      <td>{'max_depth': 1, 'max_features': 3, 'min_sampl...</td>\n",
       "      <td>0.935351</td>\n",
       "      <td>...</td>\n",
       "      <td>0.860426</td>\n",
       "      <td>0.858852</td>\n",
       "      <td>0.857961</td>\n",
       "      <td>0.858441</td>\n",
       "      <td>0.852739</td>\n",
       "      <td>0.854742</td>\n",
       "      <td>0.855427</td>\n",
       "      <td>0.857211</td>\n",
       "      <td>0.856657</td>\n",
       "      <td>0.002371</td>\n",
       "    </tr>\n",
       "  </tbody>\n",
       "</table>\n",
       "<p>1 rows × 59 columns</p>\n",
       "</div>"
      ],
      "text/plain": [
       "   mean_fit_time  std_fit_time  mean_score_time  std_score_time  \\\n",
       "0       0.020044       0.00238         0.004491        0.000799   \n",
       "\n",
       "  param_max_depth param_max_features param_min_samples_leaf  \\\n",
       "0               1                  3                      3   \n",
       "\n",
       "  param_n_estimators                                             params  \\\n",
       "0                 10  {'max_depth': 1, 'max_features': 3, 'min_sampl...   \n",
       "\n",
       "   split0_test_accuracy  ...  split2_train_f1  split3_train_f1  \\\n",
       "0              0.935351  ...         0.860426         0.858852   \n",
       "\n",
       "   split4_train_f1  split5_train_f1  split6_train_f1  split7_train_f1  \\\n",
       "0         0.857961         0.858441         0.852739         0.854742   \n",
       "\n",
       "   split8_train_f1  split9_train_f1  mean_train_f1  std_train_f1  \n",
       "0         0.855427         0.857211       0.856657      0.002371  \n",
       "\n",
       "[1 rows x 59 columns]"
      ]
     },
     "execution_count": 49,
     "metadata": {},
     "output_type": "execute_result"
    }
   ],
   "source": [
    "cv_results = pd.DataFrame(gcv.cv_results_)\n",
    "cv_results.head(1)"
   ]
  },
  {
   "cell_type": "code",
   "execution_count": 50,
   "metadata": {},
   "outputs": [
    {
     "data": {
      "image/png": "[encoded data removed]",
      "text/plain": [
       "<Figure size 576x432 with 1 Axes>"
      ]
     },
     "metadata": {
      "needs_background": "light"
     },
     "output_type": "display_data"
    }
   ],
   "source": [
    "# https://scikit-learn.org/dev/auto_examples/model_selection/plot_multi_metric_evaluation.html\n",
    "plt.figure(figsize=(8, 6))\n",
    "plt.title(\"GridSearchCV results\", fontsize=14)\n",
    "\n",
    "plt.xlabel(\"max_depth\")\n",
    "plt.ylabel(\"f1\")\n",
    "\n",
    "ax = plt.gca()\n",
    "ax.set_xlim(0, 30)\n",
    "ax.set_ylim(0.85, 1)\n",
    "\n",
    "X_axis = np.array(results['param_max_depth'].data, dtype=float)\n",
    "\n",
    "for scorer, color in zip(sorted(scoring), ['g', 'k']):\n",
    "    for sample, style in (('train', '--'), ('test', '-')):\n",
    "        sample_score_mean = results['mean_%s_%s' % (sample, scorer)]\n",
    "        sample_score_std = results['std_%s_%s' % (sample, scorer)]\n",
    "        ax.fill_between(X_axis, sample_score_mean - sample_score_std,\n",
    "                        sample_score_mean + sample_score_std,\n",
    "                        alpha=0.1 if sample == 'test' else 0, color=color)\n",
    "        ax.plot(X_axis, sample_score_mean, style, color=color,\n",
    "                alpha=1 if sample == 'test' else 0.7,\n",
    "                label=\"%s (%s)\" % (scorer, sample))\n",
    "\n",
    "    best_index = np.nonzero(results['rank_test_%s' % scorer] == 1)[0][0]\n",
    "    best_score = results['mean_test_%s' % scorer][best_index]\n",
    "\n",
    "    # Plot a dotted vertical line at the best score for that scorer marked by x\n",
    "    ax.plot([X_axis[best_index], ] * 2, [0, best_score],\n",
    "            linestyle='-.', color=color, marker='x', markeredgewidth=3, ms=8)\n",
    "\n",
    "    # Annotate the best score for that scorer\n",
    "    ax.annotate(\"%0.2f\" % best_score,\n",
    "                (X_axis[best_index] + 0.3, best_score + 0.005))\n",
    "\n",
    "plt.legend(loc=\"best\")\n",
    "plt.grid(False)\n",
    "plt.savefig('GridSearchCV_results.png', dpi=300)\n",
    "plt.show()"
   ]
  },
  {
   "cell_type": "markdown",
   "metadata": {},
   "source": [
    "Grid search."
   ]
  },
  {
   "cell_type": "code",
   "execution_count": 51,
   "metadata": {},
   "outputs": [],
   "source": [
    "parameters = {'n_estimators': [50, 100], \n",
    "              'min_samples_leaf': [3, 5, 7],\n",
    "              'max_features': [3, 5, 7, 10], \n",
    "              'max_depth': [17, 23]}\n",
    "\n",
    "# parameters = {'n_estimators': [100], 'max_features': [10]}"
   ]
  },
  {
   "cell_type": "code",
   "execution_count": 52,
   "metadata": {},
   "outputs": [
    {
     "name": "stdout",
     "output_type": "stream",
     "text": [
      "Wall time: 5min 11s\n"
     ]
    },
    {
     "data": {
      "text/plain": [
       "GridSearchCV(cv=10, error_score='raise-deprecating',\n",
       "             estimator=RandomForestClassifier(bootstrap=True, class_weight=None,\n",
       "                                              criterion='gini', max_depth=None,\n",
       "                                              max_features='auto',\n",
       "                                              max_leaf_nodes=None,\n",
       "                                              min_impurity_decrease=0.0,\n",
       "                                              min_impurity_split=None,\n",
       "                                              min_samples_leaf=1,\n",
       "                                              min_samples_split=2,\n",
       "                                              min_weight_fraction_leaf=0.0,\n",
       "                                              n_estimators='warn', n_jobs=None,\n",
       "                                              oob_score=False, random_state=1,\n",
       "                                              verbose=0, warm_start=False),\n",
       "             iid='warn', n_jobs=None,\n",
       "             param_grid={'max_depth': [17, 23], 'max_features': [3, 5, 7, 10],\n",
       "                         'min_samples_leaf': [3, 5, 7],\n",
       "                         'n_estimators': [50, 100]},\n",
       "             pre_dispatch='2*n_jobs', refit='f1', return_train_score=True,\n",
       "             scoring={'accuracy', 'f1'}, verbose=0)"
      ]
     },
     "execution_count": 52,
     "metadata": {},
     "output_type": "execute_result"
    }
   ],
   "source": [
    "gcv = GridSearchCV(rfc, parameters, scoring=scoring, refit='f1', cv=10, return_train_score=True)\n",
    "%time gcv.fit(X, y)"
   ]
  },
  {
   "cell_type": "markdown",
   "metadata": {},
   "source": [
    "Let's take a look at the results of the parameter selection."
   ]
  },
  {
   "cell_type": "code",
   "execution_count": 53,
   "metadata": {},
   "outputs": [
    {
     "data": {
      "text/plain": [
       "RandomForestClassifier(bootstrap=True, class_weight=None, criterion='gini',\n",
       "                       max_depth=23, max_features=3, max_leaf_nodes=None,\n",
       "                       min_impurity_decrease=0.0, min_impurity_split=None,\n",
       "                       min_samples_leaf=3, min_samples_split=2,\n",
       "                       min_weight_fraction_leaf=0.0, n_estimators=50,\n",
       "                       n_jobs=None, oob_score=False, random_state=1, verbose=0,\n",
       "                       warm_start=False)"
      ]
     },
     "execution_count": 53,
     "metadata": {},
     "output_type": "execute_result"
    }
   ],
   "source": [
    "gcv.best_estimator_ "
   ]
  },
  {
   "cell_type": "code",
   "execution_count": 54,
   "metadata": {},
   "outputs": [
    {
     "data": {
      "text/plain": [
       "{'max_depth': 23, 'max_features': 3, 'min_samples_leaf': 3, 'n_estimators': 50}"
      ]
     },
     "execution_count": 54,
     "metadata": {},
     "output_type": "execute_result"
    }
   ],
   "source": [
    "gcv.best_params_"
   ]
  },
  {
   "cell_type": "code",
   "execution_count": 55,
   "metadata": {},
   "outputs": [
    {
     "data": {
      "text/plain": [
       "0.9551350888612173"
      ]
     },
     "execution_count": 55,
     "metadata": {},
     "output_type": "execute_result"
    }
   ],
   "source": [
    "gcv.best_score_"
   ]
  },
  {
   "cell_type": "markdown",
   "metadata": {},
   "source": [
    "## Model saving"
   ]
  },
  {
   "cell_type": "code",
   "execution_count": 56,
   "metadata": {},
   "outputs": [],
   "source": [
    "import pickle\n",
    "with open('webattack_detection_rf_model.pkl', 'wb') as f:\n",
    "    pickle.dump(gcv.best_estimator_, f)"
   ]
  },
  {
   "cell_type": "markdown",
   "metadata": {},
   "source": [
    "## Model approbation"
   ]
  },
  {
   "cell_type": "markdown",
   "metadata": {},
   "source": [
    "Open the previously saved model."
   ]
  },
  {
   "cell_type": "code",
   "execution_count": 57,
   "metadata": {},
   "outputs": [
    {
     "data": {
      "text/plain": [
       "RandomForestClassifier(bootstrap=True, class_weight=None, criterion='gini',\n",
       "                       max_depth=23, max_features=3, max_leaf_nodes=None,\n",
       "                       min_impurity_decrease=0.0, min_impurity_split=None,\n",
       "                       min_samples_leaf=3, min_samples_split=2,\n",
       "                       min_weight_fraction_leaf=0.0, n_estimators=50,\n",
       "                       n_jobs=None, oob_score=False, random_state=1, verbose=0,\n",
       "                       warm_start=False)"
      ]
     },
     "execution_count": 57,
     "metadata": {},
     "output_type": "execute_result"
    }
   ],
   "source": [
    "with open('webattack_detection_rf_model.pkl', 'rb') as f:\n",
    "    rfc = pickle.load(f)\n",
    "rfc"
   ]
  },
  {
   "cell_type": "markdown",
   "metadata": {},
   "source": [
    "Reopen the dataset."
   ]
  },
  {
   "cell_type": "code",
   "execution_count": 58,
   "metadata": {},
   "outputs": [
    {
     "name": "stdout",
     "output_type": "stream",
     "text": [
      "(7267, 10) (7267,)\n"
     ]
    }
   ],
   "source": [
    "df = pd.read_csv('web_attacks_balanced.csv')\n",
    "df['Label'] = df['Label'].apply(lambda x: 0 if x == 'BENIGN' else 1)\n",
    "y_test = df['Label'].values\n",
    "X_test = df[webattack_features]\n",
    "print(X_test.shape, y_test.shape)"
   ]
  },
  {
   "cell_type": "code",
   "execution_count": 59,
   "metadata": {},
   "outputs": [
    {
     "data": {
      "text/html": [
       "<div>\n",
       "<style scoped>\n",
       "    .dataframe tbody tr th:only-of-type {\n",
       "        vertical-align: middle;\n",
       "    }\n",
       "\n",
       "    .dataframe tbody tr th {\n",
       "        vertical-align: top;\n",
       "    }\n",
       "\n",
       "    .dataframe thead th {\n",
       "        text-align: right;\n",
       "    }\n",
       "</style>\n",
       "<table border=\"1\" class=\"dataframe\">\n",
       "  <thead>\n",
       "    <tr style=\"text-align: right;\">\n",
       "      <th></th>\n",
       "      <th>Flow Bytes/s</th>\n",
       "      <th>Average Packet Size</th>\n",
       "      <th>Max Packet Length</th>\n",
       "      <th>Packet Length Mean</th>\n",
       "      <th>Fwd Packet Length Mean</th>\n",
       "      <th>Fwd IAT Min</th>\n",
       "      <th>Subflow Fwd Bytes</th>\n",
       "      <th>Total Length of Fwd Packets</th>\n",
       "      <th>Avg Fwd Segment Size</th>\n",
       "      <th>Flow IAT Mean</th>\n",
       "    </tr>\n",
       "  </thead>\n",
       "  <tbody>\n",
       "    <tr>\n",
       "      <td>0</td>\n",
       "      <td>1.740123e+02</td>\n",
       "      <td>278.930556</td>\n",
       "      <td>923.0</td>\n",
       "      <td>275.109589</td>\n",
       "      <td>201.416667</td>\n",
       "      <td>3.0</td>\n",
       "      <td>9668.0</td>\n",
       "      <td>9668.0</td>\n",
       "      <td>201.416667</td>\n",
       "      <td>1.592894e+06</td>\n",
       "    </tr>\n",
       "    <tr>\n",
       "      <td>1</td>\n",
       "      <td>0.000000e+00</td>\n",
       "      <td>0.000000</td>\n",
       "      <td>0.0</td>\n",
       "      <td>0.000000</td>\n",
       "      <td>0.000000</td>\n",
       "      <td>0.0</td>\n",
       "      <td>0.0</td>\n",
       "      <td>0.0</td>\n",
       "      <td>0.000000</td>\n",
       "      <td>8.050035e+05</td>\n",
       "    </tr>\n",
       "    <tr>\n",
       "      <td>2</td>\n",
       "      <td>7.619048e+05</td>\n",
       "      <td>48.000000</td>\n",
       "      <td>48.0</td>\n",
       "      <td>38.400000</td>\n",
       "      <td>32.000000</td>\n",
       "      <td>49.0</td>\n",
       "      <td>64.0</td>\n",
       "      <td>64.0</td>\n",
       "      <td>32.000000</td>\n",
       "      <td>7.000000e+01</td>\n",
       "    </tr>\n",
       "    <tr>\n",
       "      <td>3</td>\n",
       "      <td>1.065574e+06</td>\n",
       "      <td>75.000000</td>\n",
       "      <td>90.0</td>\n",
       "      <td>60.000000</td>\n",
       "      <td>40.000000</td>\n",
       "      <td>3.0</td>\n",
       "      <td>80.0</td>\n",
       "      <td>80.0</td>\n",
       "      <td>40.000000</td>\n",
       "      <td>8.133333e+01</td>\n",
       "    </tr>\n",
       "    <tr>\n",
       "      <td>4</td>\n",
       "      <td>3.635433e+03</td>\n",
       "      <td>80.750000</td>\n",
       "      <td>103.0</td>\n",
       "      <td>64.600000</td>\n",
       "      <td>39.000000</td>\n",
       "      <td>3.0</td>\n",
       "      <td>78.0</td>\n",
       "      <td>78.0</td>\n",
       "      <td>39.000000</td>\n",
       "      <td>2.604000e+04</td>\n",
       "    </tr>\n",
       "    <tr>\n",
       "      <td>...</td>\n",
       "      <td>...</td>\n",
       "      <td>...</td>\n",
       "      <td>...</td>\n",
       "      <td>...</td>\n",
       "      <td>...</td>\n",
       "      <td>...</td>\n",
       "      <td>...</td>\n",
       "      <td>...</td>\n",
       "      <td>...</td>\n",
       "      <td>...</td>\n",
       "    </tr>\n",
       "    <tr>\n",
       "      <td>7262</td>\n",
       "      <td>6.472417e+03</td>\n",
       "      <td>182.931035</td>\n",
       "      <td>1398.0</td>\n",
       "      <td>176.833333</td>\n",
       "      <td>64.470588</td>\n",
       "      <td>19.0</td>\n",
       "      <td>1096.0</td>\n",
       "      <td>1096.0</td>\n",
       "      <td>64.470588</td>\n",
       "      <td>2.927257e+04</td>\n",
       "    </tr>\n",
       "    <tr>\n",
       "      <td>7263</td>\n",
       "      <td>2.169328e+03</td>\n",
       "      <td>299.777778</td>\n",
       "      <td>1448.0</td>\n",
       "      <td>269.800000</td>\n",
       "      <td>107.750000</td>\n",
       "      <td>32706.0</td>\n",
       "      <td>431.0</td>\n",
       "      <td>431.0</td>\n",
       "      <td>107.750000</td>\n",
       "      <td>1.554629e+05</td>\n",
       "    </tr>\n",
       "    <tr>\n",
       "      <td>7264</td>\n",
       "      <td>7.838121e+03</td>\n",
       "      <td>181.787879</td>\n",
       "      <td>1418.0</td>\n",
       "      <td>176.441176</td>\n",
       "      <td>53.578947</td>\n",
       "      <td>1.0</td>\n",
       "      <td>1018.0</td>\n",
       "      <td>1018.0</td>\n",
       "      <td>53.578947</td>\n",
       "      <td>2.391756e+04</td>\n",
       "    </tr>\n",
       "    <tr>\n",
       "      <td>7265</td>\n",
       "      <td>9.425526e+02</td>\n",
       "      <td>293.705882</td>\n",
       "      <td>1448.0</td>\n",
       "      <td>277.388889</td>\n",
       "      <td>35.300000</td>\n",
       "      <td>48.0</td>\n",
       "      <td>353.0</td>\n",
       "      <td>353.0</td>\n",
       "      <td>35.300000</td>\n",
       "      <td>3.310823e+05</td>\n",
       "    </tr>\n",
       "    <tr>\n",
       "      <td>7266</td>\n",
       "      <td>2.981100e+01</td>\n",
       "      <td>100.090909</td>\n",
       "      <td>1768.0</td>\n",
       "      <td>95.739130</td>\n",
       "      <td>39.454545</td>\n",
       "      <td>21984.0</td>\n",
       "      <td>434.0</td>\n",
       "      <td>434.0</td>\n",
       "      <td>39.454545</td>\n",
       "      <td>3.517397e+06</td>\n",
       "    </tr>\n",
       "  </tbody>\n",
       "</table>\n",
       "<p>7267 rows × 10 columns</p>\n",
       "</div>"
      ],
      "text/plain": [
       "      Flow Bytes/s  Average Packet Size  Max Packet Length  \\\n",
       "0     1.740123e+02           278.930556              923.0   \n",
       "1     0.000000e+00             0.000000                0.0   \n",
       "2     7.619048e+05            48.000000               48.0   \n",
       "3     1.065574e+06            75.000000               90.0   \n",
       "4     3.635433e+03            80.750000              103.0   \n",
       "...            ...                  ...                ...   \n",
       "7262  6.472417e+03           182.931035             1398.0   \n",
       "7263  2.169328e+03           299.777778             1448.0   \n",
       "7264  7.838121e+03           181.787879             1418.0   \n",
       "7265  9.425526e+02           293.705882             1448.0   \n",
       "7266  2.981100e+01           100.090909             1768.0   \n",
       "\n",
       "      Packet Length Mean  Fwd Packet Length Mean  Fwd IAT Min  \\\n",
       "0             275.109589              201.416667          3.0   \n",
       "1               0.000000                0.000000          0.0   \n",
       "2              38.400000               32.000000         49.0   \n",
       "3              60.000000               40.000000          3.0   \n",
       "4              64.600000               39.000000          3.0   \n",
       "...                  ...                     ...          ...   \n",
       "7262          176.833333               64.470588         19.0   \n",
       "7263          269.800000              107.750000      32706.0   \n",
       "7264          176.441176               53.578947          1.0   \n",
       "7265          277.388889               35.300000         48.0   \n",
       "7266           95.739130               39.454545      21984.0   \n",
       "\n",
       "      Subflow Fwd Bytes  Total Length of Fwd Packets  Avg Fwd Segment Size  \\\n",
       "0                9668.0                       9668.0            201.416667   \n",
       "1                   0.0                          0.0              0.000000   \n",
       "2                  64.0                         64.0             32.000000   \n",
       "3                  80.0                         80.0             40.000000   \n",
       "4                  78.0                         78.0             39.000000   \n",
       "...                 ...                          ...                   ...   \n",
       "7262             1096.0                       1096.0             64.470588   \n",
       "7263              431.0                        431.0            107.750000   \n",
       "7264             1018.0                       1018.0             53.578947   \n",
       "7265              353.0                        353.0             35.300000   \n",
       "7266              434.0                        434.0             39.454545   \n",
       "\n",
       "      Flow IAT Mean  \n",
       "0      1.592894e+06  \n",
       "1      8.050035e+05  \n",
       "2      7.000000e+01  \n",
       "3      8.133333e+01  \n",
       "4      2.604000e+04  \n",
       "...             ...  \n",
       "7262   2.927257e+04  \n",
       "7263   1.554629e+05  \n",
       "7264   2.391756e+04  \n",
       "7265   3.310823e+05  \n",
       "7266   3.517397e+06  \n",
       "\n",
       "[7267 rows x 10 columns]"
      ]
     },
     "execution_count": 59,
     "metadata": {},
     "output_type": "execute_result"
    }
   ],
   "source": [
    "X_test"
   ]
  },
  {
   "cell_type": "code",
   "execution_count": 60,
   "metadata": {},
   "outputs": [
    {
     "name": "stdout",
     "output_type": "stream",
     "text": [
      "Total operation time: 0.03490614891052246 seconds\n",
      "Benign records detected (0), attacks detected (1):\n"
     ]
    },
    {
     "data": {
      "text/plain": [
       "{0: 5099, 1: 2168}"
      ]
     },
     "execution_count": 60,
     "metadata": {},
     "output_type": "execute_result"
    }
   ],
   "source": [
    "import time\n",
    "seconds = time.time()\n",
    "y_pred = rfc.predict(X_test)\n",
    "print(\"Total operation time:\", time.time() - seconds, \"seconds\")\n",
    "\n",
    "print(\"Benign records detected (0), attacks detected (1):\")\n",
    "unique, counts = np.unique(y_pred, return_counts=True)\n",
    "dict(zip(unique, counts))"
   ]
  },
  {
   "cell_type": "markdown",
   "metadata": {},
   "source": [
    "Confusion matrix (матрица ошибок):\n",
    "\n",
    "      0  1 - predicted value (Wikipedia uses different convention for axes)\n",
    "    0 TN FP\n",
    "    1 FN TP"
   ]
  },
  {
   "cell_type": "code",
   "execution_count": 61,
   "metadata": {},
   "outputs": [
    {
     "data": {
      "text/plain": [
       "array([[5042,   45],\n",
       "       [  57, 2123]], dtype=int64)"
      ]
     },
     "execution_count": 61,
     "metadata": {},
     "output_type": "execute_result"
    }
   ],
   "source": [
    "confusion_matrix(y_test, y_pred)"
   ]
  },
  {
   "cell_type": "code",
   "execution_count": 62,
   "metadata": {},
   "outputs": [
    {
     "name": "stdout",
     "output_type": "stream",
     "text": [
      "Precision = 0.9792435424354243\n",
      "Recall = 0.9738532110091743\n",
      "F1 = 0.9765409383624655\n",
      "Accuracy = 0.9859639466079537\n"
     ]
    }
   ],
   "source": [
    "import sklearn.metrics as metrics\n",
    "accuracy = metrics.accuracy_score(y_test, y_pred)\n",
    "f1 = metrics.f1_score(y_test, y_pred)\n",
    "precision = metrics.precision_score(y_test, y_pred)\n",
    "recall = metrics.recall_score(y_test, y_pred)\n",
    "print('Precision =', precision)\n",
    "print('Recall =', recall)\n",
    "print('F1 =', f1)\n",
    "print('Accuracy =', accuracy)"
   ]
  },
  {
   "cell_type": "markdown",
   "metadata": {},
   "source": [
    "Manual calculation of the confusion matrix:\n",
    "    \n",
    "    array([[5075,   12],\n",
    "           [   1, 2179]], dtype=int64)\n",
    "  \n",
    "      0  1 - predicted value (Wikipedia uses different convention for axes)\n",
    "    0 TN FP\n",
    "    1 FN TP\n",
    "\n",
    "    Точность\n",
    "    Precision = TP / (TP + FP) = 2179 / (2179 + 12) = 0.9945230488361478\n",
    "\n",
    "    Полнота\n",
    "    Recall = TP / (TP + FN) = 2179 / (2179 + 1) = 0.9995412844036697\n",
    "\n",
    "    F-мера, параметр = 1, гармоническое среднее точности и полноты, множитель = 2\n",
    "    F1 = 2 * (precision * recall) / (precision + recall) = 0.9970258522077328\n",
    "\n",
    "    Доля правильных ответов\n",
    "    Accuracy = TP + TN / (TP + TN + FP + FN) = (2179 + 5075) / 7267 = 0.998211091234347"
   ]
  },
  {
   "cell_type": "code",
   "execution_count": 63,
   "metadata": {},
   "outputs": [],
   "source": [
    "predict = pd.DataFrame({'Predict': rfc.predict(X_test)})\n",
    "label = pd.DataFrame({'Label': y_test})\n",
    "result = X_test.join(label).join(predict)"
   ]
  },
  {
   "cell_type": "code",
   "execution_count": 64,
   "metadata": {},
   "outputs": [
    {
     "data": {
      "text/html": [
       "<div>\n",
       "<style scoped>\n",
       "    .dataframe tbody tr th:only-of-type {\n",
       "        vertical-align: middle;\n",
       "    }\n",
       "\n",
       "    .dataframe tbody tr th {\n",
       "        vertical-align: top;\n",
       "    }\n",
       "\n",
       "    .dataframe thead th {\n",
       "        text-align: right;\n",
       "    }\n",
       "</style>\n",
       "<table border=\"1\" class=\"dataframe\">\n",
       "  <thead>\n",
       "    <tr style=\"text-align: right;\">\n",
       "      <th></th>\n",
       "      <th>Flow Bytes/s</th>\n",
       "      <th>Average Packet Size</th>\n",
       "      <th>Max Packet Length</th>\n",
       "      <th>Packet Length Mean</th>\n",
       "      <th>Fwd Packet Length Mean</th>\n",
       "      <th>Fwd IAT Min</th>\n",
       "      <th>Subflow Fwd Bytes</th>\n",
       "      <th>Total Length of Fwd Packets</th>\n",
       "      <th>Avg Fwd Segment Size</th>\n",
       "      <th>Flow IAT Mean</th>\n",
       "      <th>Label</th>\n",
       "      <th>Predict</th>\n",
       "    </tr>\n",
       "  </thead>\n",
       "  <tbody>\n",
       "    <tr>\n",
       "      <td>209</td>\n",
       "      <td>0.000000</td>\n",
       "      <td>0.000000</td>\n",
       "      <td>0.0</td>\n",
       "      <td>0.000000</td>\n",
       "      <td>0.000000</td>\n",
       "      <td>0.0</td>\n",
       "      <td>0.0</td>\n",
       "      <td>0.0</td>\n",
       "      <td>0.000000</td>\n",
       "      <td>71.0000</td>\n",
       "      <td>0</td>\n",
       "      <td>1</td>\n",
       "    </tr>\n",
       "    <tr>\n",
       "      <td>211</td>\n",
       "      <td>0.000000</td>\n",
       "      <td>0.000000</td>\n",
       "      <td>0.0</td>\n",
       "      <td>0.000000</td>\n",
       "      <td>0.000000</td>\n",
       "      <td>0.0</td>\n",
       "      <td>0.0</td>\n",
       "      <td>0.0</td>\n",
       "      <td>0.000000</td>\n",
       "      <td>71.0000</td>\n",
       "      <td>0</td>\n",
       "      <td>1</td>\n",
       "    </tr>\n",
       "    <tr>\n",
       "      <td>316</td>\n",
       "      <td>0.000000</td>\n",
       "      <td>0.000000</td>\n",
       "      <td>0.0</td>\n",
       "      <td>0.000000</td>\n",
       "      <td>0.000000</td>\n",
       "      <td>0.0</td>\n",
       "      <td>0.0</td>\n",
       "      <td>0.0</td>\n",
       "      <td>0.000000</td>\n",
       "      <td>105.0000</td>\n",
       "      <td>0</td>\n",
       "      <td>1</td>\n",
       "    </tr>\n",
       "    <tr>\n",
       "      <td>428</td>\n",
       "      <td>644.729782</td>\n",
       "      <td>238.785714</td>\n",
       "      <td>1047.0</td>\n",
       "      <td>222.866667</td>\n",
       "      <td>146.000000</td>\n",
       "      <td>4.0</td>\n",
       "      <td>1022.0</td>\n",
       "      <td>1022.0</td>\n",
       "      <td>146.000000</td>\n",
       "      <td>398855.2308</td>\n",
       "      <td>1</td>\n",
       "      <td>1</td>\n",
       "    </tr>\n",
       "    <tr>\n",
       "      <td>434</td>\n",
       "      <td>455.121233</td>\n",
       "      <td>199.916667</td>\n",
       "      <td>1066.0</td>\n",
       "      <td>184.538462</td>\n",
       "      <td>138.428571</td>\n",
       "      <td>323.0</td>\n",
       "      <td>969.0</td>\n",
       "      <td>969.0</td>\n",
       "      <td>138.428571</td>\n",
       "      <td>479193.0000</td>\n",
       "      <td>1</td>\n",
       "      <td>1</td>\n",
       "    </tr>\n",
       "    <tr>\n",
       "      <td>...</td>\n",
       "      <td>...</td>\n",
       "      <td>...</td>\n",
       "      <td>...</td>\n",
       "      <td>...</td>\n",
       "      <td>...</td>\n",
       "      <td>...</td>\n",
       "      <td>...</td>\n",
       "      <td>...</td>\n",
       "      <td>...</td>\n",
       "      <td>...</td>\n",
       "      <td>...</td>\n",
       "      <td>...</td>\n",
       "    </tr>\n",
       "    <tr>\n",
       "      <td>6691</td>\n",
       "      <td>0.000000</td>\n",
       "      <td>0.000000</td>\n",
       "      <td>0.0</td>\n",
       "      <td>0.000000</td>\n",
       "      <td>0.000000</td>\n",
       "      <td>0.0</td>\n",
       "      <td>0.0</td>\n",
       "      <td>0.0</td>\n",
       "      <td>0.000000</td>\n",
       "      <td>80.0000</td>\n",
       "      <td>0</td>\n",
       "      <td>1</td>\n",
       "    </tr>\n",
       "    <tr>\n",
       "      <td>6732</td>\n",
       "      <td>0.000000</td>\n",
       "      <td>0.000000</td>\n",
       "      <td>0.0</td>\n",
       "      <td>0.000000</td>\n",
       "      <td>0.000000</td>\n",
       "      <td>0.0</td>\n",
       "      <td>0.0</td>\n",
       "      <td>0.0</td>\n",
       "      <td>0.000000</td>\n",
       "      <td>77.0000</td>\n",
       "      <td>0</td>\n",
       "      <td>1</td>\n",
       "    </tr>\n",
       "    <tr>\n",
       "      <td>6811</td>\n",
       "      <td>0.000000</td>\n",
       "      <td>0.000000</td>\n",
       "      <td>0.0</td>\n",
       "      <td>0.000000</td>\n",
       "      <td>0.000000</td>\n",
       "      <td>0.0</td>\n",
       "      <td>0.0</td>\n",
       "      <td>0.0</td>\n",
       "      <td>0.000000</td>\n",
       "      <td>94.0000</td>\n",
       "      <td>0</td>\n",
       "      <td>1</td>\n",
       "    </tr>\n",
       "    <tr>\n",
       "      <td>6882</td>\n",
       "      <td>0.000000</td>\n",
       "      <td>0.000000</td>\n",
       "      <td>0.0</td>\n",
       "      <td>0.000000</td>\n",
       "      <td>0.000000</td>\n",
       "      <td>0.0</td>\n",
       "      <td>0.0</td>\n",
       "      <td>0.0</td>\n",
       "      <td>0.000000</td>\n",
       "      <td>62.0000</td>\n",
       "      <td>0</td>\n",
       "      <td>1</td>\n",
       "    </tr>\n",
       "    <tr>\n",
       "      <td>6964</td>\n",
       "      <td>0.000000</td>\n",
       "      <td>0.000000</td>\n",
       "      <td>0.0</td>\n",
       "      <td>0.000000</td>\n",
       "      <td>0.000000</td>\n",
       "      <td>0.0</td>\n",
       "      <td>0.0</td>\n",
       "      <td>0.0</td>\n",
       "      <td>0.000000</td>\n",
       "      <td>52.0000</td>\n",
       "      <td>0</td>\n",
       "      <td>1</td>\n",
       "    </tr>\n",
       "  </tbody>\n",
       "</table>\n",
       "<p>2168 rows × 12 columns</p>\n",
       "</div>"
      ],
      "text/plain": [
       "      Flow Bytes/s  Average Packet Size  Max Packet Length  \\\n",
       "209       0.000000             0.000000                0.0   \n",
       "211       0.000000             0.000000                0.0   \n",
       "316       0.000000             0.000000                0.0   \n",
       "428     644.729782           238.785714             1047.0   \n",
       "434     455.121233           199.916667             1066.0   \n",
       "...            ...                  ...                ...   \n",
       "6691      0.000000             0.000000                0.0   \n",
       "6732      0.000000             0.000000                0.0   \n",
       "6811      0.000000             0.000000                0.0   \n",
       "6882      0.000000             0.000000                0.0   \n",
       "6964      0.000000             0.000000                0.0   \n",
       "\n",
       "      Packet Length Mean  Fwd Packet Length Mean  Fwd IAT Min  \\\n",
       "209             0.000000                0.000000          0.0   \n",
       "211             0.000000                0.000000          0.0   \n",
       "316             0.000000                0.000000          0.0   \n",
       "428           222.866667              146.000000          4.0   \n",
       "434           184.538462              138.428571        323.0   \n",
       "...                  ...                     ...          ...   \n",
       "6691            0.000000                0.000000          0.0   \n",
       "6732            0.000000                0.000000          0.0   \n",
       "6811            0.000000                0.000000          0.0   \n",
       "6882            0.000000                0.000000          0.0   \n",
       "6964            0.000000                0.000000          0.0   \n",
       "\n",
       "      Subflow Fwd Bytes  Total Length of Fwd Packets  Avg Fwd Segment Size  \\\n",
       "209                 0.0                          0.0              0.000000   \n",
       "211                 0.0                          0.0              0.000000   \n",
       "316                 0.0                          0.0              0.000000   \n",
       "428              1022.0                       1022.0            146.000000   \n",
       "434               969.0                        969.0            138.428571   \n",
       "...                 ...                          ...                   ...   \n",
       "6691                0.0                          0.0              0.000000   \n",
       "6732                0.0                          0.0              0.000000   \n",
       "6811                0.0                          0.0              0.000000   \n",
       "6882                0.0                          0.0              0.000000   \n",
       "6964                0.0                          0.0              0.000000   \n",
       "\n",
       "      Flow IAT Mean  Label  Predict  \n",
       "209         71.0000      0        1  \n",
       "211         71.0000      0        1  \n",
       "316        105.0000      0        1  \n",
       "428     398855.2308      1        1  \n",
       "434     479193.0000      1        1  \n",
       "...             ...    ...      ...  \n",
       "6691        80.0000      0        1  \n",
       "6732        77.0000      0        1  \n",
       "6811        94.0000      0        1  \n",
       "6882        62.0000      0        1  \n",
       "6964        52.0000      0        1  \n",
       "\n",
       "[2168 rows x 12 columns]"
      ]
     },
     "execution_count": 64,
     "metadata": {},
     "output_type": "execute_result"
    }
   ],
   "source": [
    "result[result['Predict'] == 1]"
   ]
  },
  {
   "cell_type": "code",
   "execution_count": 65,
   "metadata": {},
   "outputs": [
    {
     "data": {
      "text/html": [
       "<div>\n",
       "<style scoped>\n",
       "    .dataframe tbody tr th:only-of-type {\n",
       "        vertical-align: middle;\n",
       "    }\n",
       "\n",
       "    .dataframe tbody tr th {\n",
       "        vertical-align: top;\n",
       "    }\n",
       "\n",
       "    .dataframe thead th {\n",
       "        text-align: right;\n",
       "    }\n",
       "</style>\n",
       "<table border=\"1\" class=\"dataframe\">\n",
       "  <thead>\n",
       "    <tr style=\"text-align: right;\">\n",
       "      <th></th>\n",
       "      <th>Flow Bytes/s</th>\n",
       "      <th>Average Packet Size</th>\n",
       "      <th>Max Packet Length</th>\n",
       "      <th>Packet Length Mean</th>\n",
       "      <th>Fwd Packet Length Mean</th>\n",
       "      <th>Fwd IAT Min</th>\n",
       "      <th>Subflow Fwd Bytes</th>\n",
       "      <th>Total Length of Fwd Packets</th>\n",
       "      <th>Avg Fwd Segment Size</th>\n",
       "      <th>Flow IAT Mean</th>\n",
       "      <th>Label</th>\n",
       "      <th>Predict</th>\n",
       "    </tr>\n",
       "  </thead>\n",
       "  <tbody>\n",
       "    <tr>\n",
       "      <td>410</td>\n",
       "      <td>3.939394e+05</td>\n",
       "      <td>23.666667</td>\n",
       "      <td>53.0</td>\n",
       "      <td>17.750000</td>\n",
       "      <td>21.666667</td>\n",
       "      <td>48.0</td>\n",
       "      <td>65.0</td>\n",
       "      <td>65.0</td>\n",
       "      <td>21.666667</td>\n",
       "      <td>8.250000e+01</td>\n",
       "      <td>0</td>\n",
       "      <td>0</td>\n",
       "    </tr>\n",
       "    <tr>\n",
       "      <td>411</td>\n",
       "      <td>3.606391e+04</td>\n",
       "      <td>328.153846</td>\n",
       "      <td>1430.0</td>\n",
       "      <td>304.714286</td>\n",
       "      <td>64.625000</td>\n",
       "      <td>48.0</td>\n",
       "      <td>517.0</td>\n",
       "      <td>517.0</td>\n",
       "      <td>64.625000</td>\n",
       "      <td>9.857500e+03</td>\n",
       "      <td>0</td>\n",
       "      <td>0</td>\n",
       "    </tr>\n",
       "    <tr>\n",
       "      <td>412</td>\n",
       "      <td>4.450555e+04</td>\n",
       "      <td>351.076923</td>\n",
       "      <td>1460.0</td>\n",
       "      <td>326.000000</td>\n",
       "      <td>68.625000</td>\n",
       "      <td>49.0</td>\n",
       "      <td>549.0</td>\n",
       "      <td>549.0</td>\n",
       "      <td>68.625000</td>\n",
       "      <td>8.545750e+03</td>\n",
       "      <td>0</td>\n",
       "      <td>0</td>\n",
       "    </tr>\n",
       "    <tr>\n",
       "      <td>413</td>\n",
       "      <td>3.214549e+04</td>\n",
       "      <td>330.529412</td>\n",
       "      <td>1460.0</td>\n",
       "      <td>312.166667</td>\n",
       "      <td>159.555556</td>\n",
       "      <td>49.0</td>\n",
       "      <td>1436.0</td>\n",
       "      <td>1436.0</td>\n",
       "      <td>159.555556</td>\n",
       "      <td>1.092494e+04</td>\n",
       "      <td>0</td>\n",
       "      <td>0</td>\n",
       "    </tr>\n",
       "    <tr>\n",
       "      <td>414</td>\n",
       "      <td>2.172302e+00</td>\n",
       "      <td>3.000000</td>\n",
       "      <td>6.0</td>\n",
       "      <td>2.400000</td>\n",
       "      <td>4.000000</td>\n",
       "      <td>23107.0</td>\n",
       "      <td>12.0</td>\n",
       "      <td>12.0</td>\n",
       "      <td>4.000000</td>\n",
       "      <td>1.841364e+06</td>\n",
       "      <td>0</td>\n",
       "      <td>0</td>\n",
       "    </tr>\n",
       "    <tr>\n",
       "      <td>415</td>\n",
       "      <td>4.987631e+01</td>\n",
       "      <td>201.931035</td>\n",
       "      <td>2549.0</td>\n",
       "      <td>195.200000</td>\n",
       "      <td>64.266667</td>\n",
       "      <td>46.0</td>\n",
       "      <td>964.0</td>\n",
       "      <td>964.0</td>\n",
       "      <td>64.266667</td>\n",
       "      <td>4.193230e+06</td>\n",
       "      <td>0</td>\n",
       "      <td>0</td>\n",
       "    </tr>\n",
       "    <tr>\n",
       "      <td>416</td>\n",
       "      <td>5.008038e+03</td>\n",
       "      <td>106.500000</td>\n",
       "      <td>111.0</td>\n",
       "      <td>71.000000</td>\n",
       "      <td>51.000000</td>\n",
       "      <td>0.0</td>\n",
       "      <td>51.0</td>\n",
       "      <td>51.0</td>\n",
       "      <td>51.000000</td>\n",
       "      <td>3.234800e+04</td>\n",
       "      <td>0</td>\n",
       "      <td>0</td>\n",
       "    </tr>\n",
       "    <tr>\n",
       "      <td>417</td>\n",
       "      <td>1.188526e+04</td>\n",
       "      <td>68.833333</td>\n",
       "      <td>99.0</td>\n",
       "      <td>59.000000</td>\n",
       "      <td>43.000000</td>\n",
       "      <td>4.0</td>\n",
       "      <td>172.0</td>\n",
       "      <td>172.0</td>\n",
       "      <td>43.000000</td>\n",
       "      <td>6.226200e+03</td>\n",
       "      <td>0</td>\n",
       "      <td>0</td>\n",
       "    </tr>\n",
       "    <tr>\n",
       "      <td>418</td>\n",
       "      <td>2.134228e+06</td>\n",
       "      <td>89.750000</td>\n",
       "      <td>118.0</td>\n",
       "      <td>71.800000</td>\n",
       "      <td>41.000000</td>\n",
       "      <td>3.0</td>\n",
       "      <td>82.0</td>\n",
       "      <td>82.0</td>\n",
       "      <td>41.000000</td>\n",
       "      <td>4.966667e+01</td>\n",
       "      <td>0</td>\n",
       "      <td>0</td>\n",
       "    </tr>\n",
       "    <tr>\n",
       "      <td>419</td>\n",
       "      <td>1.271523e+06</td>\n",
       "      <td>58.000000</td>\n",
       "      <td>56.0</td>\n",
       "      <td>46.400000</td>\n",
       "      <td>40.000000</td>\n",
       "      <td>4.0</td>\n",
       "      <td>80.0</td>\n",
       "      <td>80.0</td>\n",
       "      <td>40.000000</td>\n",
       "      <td>5.033333e+01</td>\n",
       "      <td>0</td>\n",
       "      <td>0</td>\n",
       "    </tr>\n",
       "    <tr>\n",
       "      <td>420</td>\n",
       "      <td>6.193242e+03</td>\n",
       "      <td>70.000000</td>\n",
       "      <td>125.0</td>\n",
       "      <td>60.000000</td>\n",
       "      <td>34.000000</td>\n",
       "      <td>3.0</td>\n",
       "      <td>136.0</td>\n",
       "      <td>136.0</td>\n",
       "      <td>34.000000</td>\n",
       "      <td>1.246520e+04</td>\n",
       "      <td>0</td>\n",
       "      <td>0</td>\n",
       "    </tr>\n",
       "    <tr>\n",
       "      <td>421</td>\n",
       "      <td>1.276596e+05</td>\n",
       "      <td>9.000000</td>\n",
       "      <td>6.0</td>\n",
       "      <td>6.000000</td>\n",
       "      <td>6.000000</td>\n",
       "      <td>94.0</td>\n",
       "      <td>12.0</td>\n",
       "      <td>12.0</td>\n",
       "      <td>6.000000</td>\n",
       "      <td>9.400000e+01</td>\n",
       "      <td>0</td>\n",
       "      <td>0</td>\n",
       "    </tr>\n",
       "    <tr>\n",
       "      <td>422</td>\n",
       "      <td>1.683905e+02</td>\n",
       "      <td>243.428571</td>\n",
       "      <td>1418.0</td>\n",
       "      <td>232.363636</td>\n",
       "      <td>83.076923</td>\n",
       "      <td>1.0</td>\n",
       "      <td>1080.0</td>\n",
       "      <td>1080.0</td>\n",
       "      <td>83.076923</td>\n",
       "      <td>1.517900e+06</td>\n",
       "      <td>0</td>\n",
       "      <td>0</td>\n",
       "    </tr>\n",
       "    <tr>\n",
       "      <td>423</td>\n",
       "      <td>1.037442e+03</td>\n",
       "      <td>110.000000</td>\n",
       "      <td>172.0</td>\n",
       "      <td>88.000000</td>\n",
       "      <td>32.000000</td>\n",
       "      <td>1.0</td>\n",
       "      <td>64.0</td>\n",
       "      <td>64.0</td>\n",
       "      <td>32.000000</td>\n",
       "      <td>1.310917e+05</td>\n",
       "      <td>0</td>\n",
       "      <td>0</td>\n",
       "    </tr>\n",
       "    <tr>\n",
       "      <td>424</td>\n",
       "      <td>2.673503e+04</td>\n",
       "      <td>187.714286</td>\n",
       "      <td>860.0</td>\n",
       "      <td>164.250000</td>\n",
       "      <td>147.333333</td>\n",
       "      <td>518.0</td>\n",
       "      <td>442.0</td>\n",
       "      <td>442.0</td>\n",
       "      <td>147.333333</td>\n",
       "      <td>8.191500e+03</td>\n",
       "      <td>0</td>\n",
       "      <td>0</td>\n",
       "    </tr>\n",
       "    <tr>\n",
       "      <td>425</td>\n",
       "      <td>2.769702e+03</td>\n",
       "      <td>122.500000</td>\n",
       "      <td>117.0</td>\n",
       "      <td>81.666667</td>\n",
       "      <td>64.000000</td>\n",
       "      <td>0.0</td>\n",
       "      <td>64.0</td>\n",
       "      <td>64.0</td>\n",
       "      <td>64.000000</td>\n",
       "      <td>6.535000e+04</td>\n",
       "      <td>0</td>\n",
       "      <td>0</td>\n",
       "    </tr>\n",
       "    <tr>\n",
       "      <td>426</td>\n",
       "      <td>6.607143e+05</td>\n",
       "      <td>22.666667</td>\n",
       "      <td>31.0</td>\n",
       "      <td>17.000000</td>\n",
       "      <td>15.500000</td>\n",
       "      <td>4.0</td>\n",
       "      <td>31.0</td>\n",
       "      <td>31.0</td>\n",
       "      <td>15.500000</td>\n",
       "      <td>2.800000e+01</td>\n",
       "      <td>0</td>\n",
       "      <td>0</td>\n",
       "    </tr>\n",
       "    <tr>\n",
       "      <td>427</td>\n",
       "      <td>2.352941e+04</td>\n",
       "      <td>9.000000</td>\n",
       "      <td>6.0</td>\n",
       "      <td>6.000000</td>\n",
       "      <td>6.000000</td>\n",
       "      <td>510.0</td>\n",
       "      <td>12.0</td>\n",
       "      <td>12.0</td>\n",
       "      <td>6.000000</td>\n",
       "      <td>5.100000e+02</td>\n",
       "      <td>0</td>\n",
       "      <td>0</td>\n",
       "    </tr>\n",
       "    <tr>\n",
       "      <td>428</td>\n",
       "      <td>6.447298e+02</td>\n",
       "      <td>238.785714</td>\n",
       "      <td>1047.0</td>\n",
       "      <td>222.866667</td>\n",
       "      <td>146.000000</td>\n",
       "      <td>4.0</td>\n",
       "      <td>1022.0</td>\n",
       "      <td>1022.0</td>\n",
       "      <td>146.000000</td>\n",
       "      <td>3.988552e+05</td>\n",
       "      <td>1</td>\n",
       "      <td>1</td>\n",
       "    </tr>\n",
       "    <tr>\n",
       "      <td>429</td>\n",
       "      <td>2.099113e+03</td>\n",
       "      <td>624.470588</td>\n",
       "      <td>4344.0</td>\n",
       "      <td>589.777778</td>\n",
       "      <td>73.600000</td>\n",
       "      <td>192.0</td>\n",
       "      <td>736.0</td>\n",
       "      <td>736.0</td>\n",
       "      <td>73.600000</td>\n",
       "      <td>3.160859e+05</td>\n",
       "      <td>1</td>\n",
       "      <td>0</td>\n",
       "    </tr>\n",
       "  </tbody>\n",
       "</table>\n",
       "</div>"
      ],
      "text/plain": [
       "     Flow Bytes/s  Average Packet Size  Max Packet Length  Packet Length Mean  \\\n",
       "410  3.939394e+05            23.666667               53.0           17.750000   \n",
       "411  3.606391e+04           328.153846             1430.0          304.714286   \n",
       "412  4.450555e+04           351.076923             1460.0          326.000000   \n",
       "413  3.214549e+04           330.529412             1460.0          312.166667   \n",
       "414  2.172302e+00             3.000000                6.0            2.400000   \n",
       "415  4.987631e+01           201.931035             2549.0          195.200000   \n",
       "416  5.008038e+03           106.500000              111.0           71.000000   \n",
       "417  1.188526e+04            68.833333               99.0           59.000000   \n",
       "418  2.134228e+06            89.750000              118.0           71.800000   \n",
       "419  1.271523e+06            58.000000               56.0           46.400000   \n",
       "420  6.193242e+03            70.000000              125.0           60.000000   \n",
       "421  1.276596e+05             9.000000                6.0            6.000000   \n",
       "422  1.683905e+02           243.428571             1418.0          232.363636   \n",
       "423  1.037442e+03           110.000000              172.0           88.000000   \n",
       "424  2.673503e+04           187.714286              860.0          164.250000   \n",
       "425  2.769702e+03           122.500000              117.0           81.666667   \n",
       "426  6.607143e+05            22.666667               31.0           17.000000   \n",
       "427  2.352941e+04             9.000000                6.0            6.000000   \n",
       "428  6.447298e+02           238.785714             1047.0          222.866667   \n",
       "429  2.099113e+03           624.470588             4344.0          589.777778   \n",
       "\n",
       "     Fwd Packet Length Mean  Fwd IAT Min  Subflow Fwd Bytes  \\\n",
       "410               21.666667         48.0               65.0   \n",
       "411               64.625000         48.0              517.0   \n",
       "412               68.625000         49.0              549.0   \n",
       "413              159.555556         49.0             1436.0   \n",
       "414                4.000000      23107.0               12.0   \n",
       "415               64.266667         46.0              964.0   \n",
       "416               51.000000          0.0               51.0   \n",
       "417               43.000000          4.0              172.0   \n",
       "418               41.000000          3.0               82.0   \n",
       "419               40.000000          4.0               80.0   \n",
       "420               34.000000          3.0              136.0   \n",
       "421                6.000000         94.0               12.0   \n",
       "422               83.076923          1.0             1080.0   \n",
       "423               32.000000          1.0               64.0   \n",
       "424              147.333333        518.0              442.0   \n",
       "425               64.000000          0.0               64.0   \n",
       "426               15.500000          4.0               31.0   \n",
       "427                6.000000        510.0               12.0   \n",
       "428              146.000000          4.0             1022.0   \n",
       "429               73.600000        192.0              736.0   \n",
       "\n",
       "     Total Length of Fwd Packets  Avg Fwd Segment Size  Flow IAT Mean  Label  \\\n",
       "410                         65.0             21.666667   8.250000e+01      0   \n",
       "411                        517.0             64.625000   9.857500e+03      0   \n",
       "412                        549.0             68.625000   8.545750e+03      0   \n",
       "413                       1436.0            159.555556   1.092494e+04      0   \n",
       "414                         12.0              4.000000   1.841364e+06      0   \n",
       "415                        964.0             64.266667   4.193230e+06      0   \n",
       "416                         51.0             51.000000   3.234800e+04      0   \n",
       "417                        172.0             43.000000   6.226200e+03      0   \n",
       "418                         82.0             41.000000   4.966667e+01      0   \n",
       "419                         80.0             40.000000   5.033333e+01      0   \n",
       "420                        136.0             34.000000   1.246520e+04      0   \n",
       "421                         12.0              6.000000   9.400000e+01      0   \n",
       "422                       1080.0             83.076923   1.517900e+06      0   \n",
       "423                         64.0             32.000000   1.310917e+05      0   \n",
       "424                        442.0            147.333333   8.191500e+03      0   \n",
       "425                         64.0             64.000000   6.535000e+04      0   \n",
       "426                         31.0             15.500000   2.800000e+01      0   \n",
       "427                         12.0              6.000000   5.100000e+02      0   \n",
       "428                       1022.0            146.000000   3.988552e+05      1   \n",
       "429                        736.0             73.600000   3.160859e+05      1   \n",
       "\n",
       "     Predict  \n",
       "410        0  \n",
       "411        0  \n",
       "412        0  \n",
       "413        0  \n",
       "414        0  \n",
       "415        0  \n",
       "416        0  \n",
       "417        0  \n",
       "418        0  \n",
       "419        0  \n",
       "420        0  \n",
       "421        0  \n",
       "422        0  \n",
       "423        0  \n",
       "424        0  \n",
       "425        0  \n",
       "426        0  \n",
       "427        0  \n",
       "428        1  \n",
       "429        0  "
      ]
     },
     "execution_count": 65,
     "metadata": {},
     "output_type": "execute_result"
    }
   ],
   "source": [
    "result[410:430]"
   ]
  }
 ],
 "metadata": {
  "kernelspec": {
   "display_name": "Python 3",
   "language": "python",
   "name": "python3"
  },
  "language_info": {
   "codemirror_mode": {
    "name": "ipython",
    "version": 3
   },
   "file_extension": ".py",
   "mimetype": "text/x-python",
   "name": "python",
   "nbconvert_exporter": "python",
   "pygments_lexer": "ipython3",
   "version": "3.7.4"
  }
 },
 "nbformat": 4,
 "nbformat_minor": 2
}
